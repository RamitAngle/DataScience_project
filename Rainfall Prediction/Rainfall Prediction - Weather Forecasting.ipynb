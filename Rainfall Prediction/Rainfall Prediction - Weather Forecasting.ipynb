{
 "cells": [
  {
   "cell_type": "markdown",
   "metadata": {},
   "source": [
    "# Problem - Statement:\n",
    "Weather forecasting is the application of science and technology to predict the conditions of the atmosphere for a given location and time. Weather forecasts are made by collecting quantitative data about the current state of the atmosphere at a given place and using meteorology to project how the atmosphere will change.\n",
    "Rain Dataset is to predict whether or not it will rain tomorrow. The Dataset contains about 10 years of daily weather observations of different locations in Australia. Here, predict two things:\n"
   ]
  },
  {
   "cell_type": "code",
   "execution_count": 1,
   "metadata": {},
   "outputs": [],
   "source": [
    "import pandas as pd\n",
    "import numpy as np\n",
    "import matplotlib.pyplot as plt\n",
    "import seaborn as sns\n",
    "import time\n",
    "import pickle\n",
    "%matplotlib inline"
   ]
  },
  {
   "cell_type": "code",
   "execution_count": 2,
   "metadata": {},
   "outputs": [],
   "source": [
    "import warnings\n",
    "warnings.filterwarnings('ignore')"
   ]
  },
  {
   "cell_type": "code",
   "execution_count": 3,
   "metadata": {},
   "outputs": [],
   "source": [
    "pd.set_option(\"display.max_columns\",None)"
   ]
  },
  {
   "cell_type": "code",
   "execution_count": 4,
   "metadata": {},
   "outputs": [],
   "source": [
    "rain = pd.read_csv('https://raw.githubusercontent.com/dsrscientist/dataset3/main/weatherAUS.csv')"
   ]
  },
  {
   "cell_type": "code",
   "execution_count": 5,
   "metadata": {
    "scrolled": true
   },
   "outputs": [
    {
     "data": {
      "text/html": [
       "<div>\n",
       "<style scoped>\n",
       "    .dataframe tbody tr th:only-of-type {\n",
       "        vertical-align: middle;\n",
       "    }\n",
       "\n",
       "    .dataframe tbody tr th {\n",
       "        vertical-align: top;\n",
       "    }\n",
       "\n",
       "    .dataframe thead th {\n",
       "        text-align: right;\n",
       "    }\n",
       "</style>\n",
       "<table border=\"1\" class=\"dataframe\">\n",
       "  <thead>\n",
       "    <tr style=\"text-align: right;\">\n",
       "      <th></th>\n",
       "      <th>Date</th>\n",
       "      <th>Location</th>\n",
       "      <th>MinTemp</th>\n",
       "      <th>MaxTemp</th>\n",
       "      <th>Rainfall</th>\n",
       "      <th>Evaporation</th>\n",
       "      <th>Sunshine</th>\n",
       "      <th>WindGustDir</th>\n",
       "      <th>WindGustSpeed</th>\n",
       "      <th>WindDir9am</th>\n",
       "      <th>WindDir3pm</th>\n",
       "      <th>WindSpeed9am</th>\n",
       "      <th>WindSpeed3pm</th>\n",
       "      <th>Humidity9am</th>\n",
       "      <th>Humidity3pm</th>\n",
       "      <th>Pressure9am</th>\n",
       "      <th>Pressure3pm</th>\n",
       "      <th>Cloud9am</th>\n",
       "      <th>Cloud3pm</th>\n",
       "      <th>Temp9am</th>\n",
       "      <th>Temp3pm</th>\n",
       "      <th>RainToday</th>\n",
       "      <th>RainTomorrow</th>\n",
       "    </tr>\n",
       "  </thead>\n",
       "  <tbody>\n",
       "    <tr>\n",
       "      <th>0</th>\n",
       "      <td>2008-12-01</td>\n",
       "      <td>Albury</td>\n",
       "      <td>13.4</td>\n",
       "      <td>22.9</td>\n",
       "      <td>0.6</td>\n",
       "      <td>NaN</td>\n",
       "      <td>NaN</td>\n",
       "      <td>W</td>\n",
       "      <td>44.0</td>\n",
       "      <td>W</td>\n",
       "      <td>WNW</td>\n",
       "      <td>20.0</td>\n",
       "      <td>24.0</td>\n",
       "      <td>71.0</td>\n",
       "      <td>22.0</td>\n",
       "      <td>1007.7</td>\n",
       "      <td>1007.1</td>\n",
       "      <td>8.0</td>\n",
       "      <td>NaN</td>\n",
       "      <td>16.9</td>\n",
       "      <td>21.8</td>\n",
       "      <td>No</td>\n",
       "      <td>No</td>\n",
       "    </tr>\n",
       "    <tr>\n",
       "      <th>1</th>\n",
       "      <td>2008-12-02</td>\n",
       "      <td>Albury</td>\n",
       "      <td>7.4</td>\n",
       "      <td>25.1</td>\n",
       "      <td>0.0</td>\n",
       "      <td>NaN</td>\n",
       "      <td>NaN</td>\n",
       "      <td>WNW</td>\n",
       "      <td>44.0</td>\n",
       "      <td>NNW</td>\n",
       "      <td>WSW</td>\n",
       "      <td>4.0</td>\n",
       "      <td>22.0</td>\n",
       "      <td>44.0</td>\n",
       "      <td>25.0</td>\n",
       "      <td>1010.6</td>\n",
       "      <td>1007.8</td>\n",
       "      <td>NaN</td>\n",
       "      <td>NaN</td>\n",
       "      <td>17.2</td>\n",
       "      <td>24.3</td>\n",
       "      <td>No</td>\n",
       "      <td>No</td>\n",
       "    </tr>\n",
       "    <tr>\n",
       "      <th>2</th>\n",
       "      <td>2008-12-03</td>\n",
       "      <td>Albury</td>\n",
       "      <td>12.9</td>\n",
       "      <td>25.7</td>\n",
       "      <td>0.0</td>\n",
       "      <td>NaN</td>\n",
       "      <td>NaN</td>\n",
       "      <td>WSW</td>\n",
       "      <td>46.0</td>\n",
       "      <td>W</td>\n",
       "      <td>WSW</td>\n",
       "      <td>19.0</td>\n",
       "      <td>26.0</td>\n",
       "      <td>38.0</td>\n",
       "      <td>30.0</td>\n",
       "      <td>1007.6</td>\n",
       "      <td>1008.7</td>\n",
       "      <td>NaN</td>\n",
       "      <td>2.0</td>\n",
       "      <td>21.0</td>\n",
       "      <td>23.2</td>\n",
       "      <td>No</td>\n",
       "      <td>No</td>\n",
       "    </tr>\n",
       "    <tr>\n",
       "      <th>3</th>\n",
       "      <td>2008-12-04</td>\n",
       "      <td>Albury</td>\n",
       "      <td>9.2</td>\n",
       "      <td>28.0</td>\n",
       "      <td>0.0</td>\n",
       "      <td>NaN</td>\n",
       "      <td>NaN</td>\n",
       "      <td>NE</td>\n",
       "      <td>24.0</td>\n",
       "      <td>SE</td>\n",
       "      <td>E</td>\n",
       "      <td>11.0</td>\n",
       "      <td>9.0</td>\n",
       "      <td>45.0</td>\n",
       "      <td>16.0</td>\n",
       "      <td>1017.6</td>\n",
       "      <td>1012.8</td>\n",
       "      <td>NaN</td>\n",
       "      <td>NaN</td>\n",
       "      <td>18.1</td>\n",
       "      <td>26.5</td>\n",
       "      <td>No</td>\n",
       "      <td>No</td>\n",
       "    </tr>\n",
       "    <tr>\n",
       "      <th>4</th>\n",
       "      <td>2008-12-05</td>\n",
       "      <td>Albury</td>\n",
       "      <td>17.5</td>\n",
       "      <td>32.3</td>\n",
       "      <td>1.0</td>\n",
       "      <td>NaN</td>\n",
       "      <td>NaN</td>\n",
       "      <td>W</td>\n",
       "      <td>41.0</td>\n",
       "      <td>ENE</td>\n",
       "      <td>NW</td>\n",
       "      <td>7.0</td>\n",
       "      <td>20.0</td>\n",
       "      <td>82.0</td>\n",
       "      <td>33.0</td>\n",
       "      <td>1010.8</td>\n",
       "      <td>1006.0</td>\n",
       "      <td>7.0</td>\n",
       "      <td>8.0</td>\n",
       "      <td>17.8</td>\n",
       "      <td>29.7</td>\n",
       "      <td>No</td>\n",
       "      <td>No</td>\n",
       "    </tr>\n",
       "  </tbody>\n",
       "</table>\n",
       "</div>"
      ],
      "text/plain": [
       "         Date Location  MinTemp  MaxTemp  Rainfall  Evaporation  Sunshine  \\\n",
       "0  2008-12-01   Albury     13.4     22.9       0.6          NaN       NaN   \n",
       "1  2008-12-02   Albury      7.4     25.1       0.0          NaN       NaN   \n",
       "2  2008-12-03   Albury     12.9     25.7       0.0          NaN       NaN   \n",
       "3  2008-12-04   Albury      9.2     28.0       0.0          NaN       NaN   \n",
       "4  2008-12-05   Albury     17.5     32.3       1.0          NaN       NaN   \n",
       "\n",
       "  WindGustDir  WindGustSpeed WindDir9am WindDir3pm  WindSpeed9am  \\\n",
       "0           W           44.0          W        WNW          20.0   \n",
       "1         WNW           44.0        NNW        WSW           4.0   \n",
       "2         WSW           46.0          W        WSW          19.0   \n",
       "3          NE           24.0         SE          E          11.0   \n",
       "4           W           41.0        ENE         NW           7.0   \n",
       "\n",
       "   WindSpeed3pm  Humidity9am  Humidity3pm  Pressure9am  Pressure3pm  Cloud9am  \\\n",
       "0          24.0         71.0         22.0       1007.7       1007.1       8.0   \n",
       "1          22.0         44.0         25.0       1010.6       1007.8       NaN   \n",
       "2          26.0         38.0         30.0       1007.6       1008.7       NaN   \n",
       "3           9.0         45.0         16.0       1017.6       1012.8       NaN   \n",
       "4          20.0         82.0         33.0       1010.8       1006.0       7.0   \n",
       "\n",
       "   Cloud3pm  Temp9am  Temp3pm RainToday RainTomorrow  \n",
       "0       NaN     16.9     21.8        No           No  \n",
       "1       NaN     17.2     24.3        No           No  \n",
       "2       2.0     21.0     23.2        No           No  \n",
       "3       NaN     18.1     26.5        No           No  \n",
       "4       8.0     17.8     29.7        No           No  "
      ]
     },
     "execution_count": 5,
     "metadata": {},
     "output_type": "execute_result"
    }
   ],
   "source": [
    "rain.head()"
   ]
  },
  {
   "cell_type": "markdown",
   "metadata": {},
   "source": [
    "## Data Preprocessing"
   ]
  },
  {
   "cell_type": "code",
   "execution_count": 6,
   "metadata": {
    "scrolled": false
   },
   "outputs": [
    {
     "data": {
      "text/plain": [
       "(8425, 23)"
      ]
     },
     "execution_count": 6,
     "metadata": {},
     "output_type": "execute_result"
    }
   ],
   "source": [
    "rain.shape"
   ]
  },
  {
   "cell_type": "code",
   "execution_count": 7,
   "metadata": {},
   "outputs": [
    {
     "name": "stdout",
     "output_type": "stream",
     "text": [
      "<class 'pandas.core.frame.DataFrame'>\n",
      "RangeIndex: 8425 entries, 0 to 8424\n",
      "Data columns (total 23 columns):\n",
      " #   Column         Non-Null Count  Dtype  \n",
      "---  ------         --------------  -----  \n",
      " 0   Date           8425 non-null   object \n",
      " 1   Location       8425 non-null   object \n",
      " 2   MinTemp        8350 non-null   float64\n",
      " 3   MaxTemp        8365 non-null   float64\n",
      " 4   Rainfall       8185 non-null   float64\n",
      " 5   Evaporation    4913 non-null   float64\n",
      " 6   Sunshine       4431 non-null   float64\n",
      " 7   WindGustDir    7434 non-null   object \n",
      " 8   WindGustSpeed  7434 non-null   float64\n",
      " 9   WindDir9am     7596 non-null   object \n",
      " 10  WindDir3pm     8117 non-null   object \n",
      " 11  WindSpeed9am   8349 non-null   float64\n",
      " 12  WindSpeed3pm   8318 non-null   float64\n",
      " 13  Humidity9am    8366 non-null   float64\n",
      " 14  Humidity3pm    8323 non-null   float64\n",
      " 15  Pressure9am    7116 non-null   float64\n",
      " 16  Pressure3pm    7113 non-null   float64\n",
      " 17  Cloud9am       6004 non-null   float64\n",
      " 18  Cloud3pm       5970 non-null   float64\n",
      " 19  Temp9am        8369 non-null   float64\n",
      " 20  Temp3pm        8329 non-null   float64\n",
      " 21  RainToday      8185 non-null   object \n",
      " 22  RainTomorrow   8186 non-null   object \n",
      "dtypes: float64(16), object(7)\n",
      "memory usage: 1.5+ MB\n"
     ]
    }
   ],
   "source": [
    "rain.info()"
   ]
  },
  {
   "cell_type": "code",
   "execution_count": 8,
   "metadata": {},
   "outputs": [
    {
     "name": "stdout",
     "output_type": "stream",
     "text": [
      "Number of Categorical Features: 7\n",
      "Categorical Features:  ['Date', 'Location', 'WindGustDir', 'WindDir9am', 'WindDir3pm', 'RainToday', 'RainTomorrow']\n"
     ]
    }
   ],
   "source": [
    "# categorical data:\n",
    "\n",
    "categorical_features = [column_name for column_name in rain.columns if rain[column_name].dtype == 'O']\n",
    "print(\"Number of Categorical Features: {}\".format(len(categorical_features)))\n",
    "print(\"Categorical Features: \",categorical_features)"
   ]
  },
  {
   "cell_type": "code",
   "execution_count": 9,
   "metadata": {},
   "outputs": [
    {
     "name": "stdout",
     "output_type": "stream",
     "text": [
      "Number of Numerical Features: 16\n",
      "Numerical Features:  ['MinTemp', 'MaxTemp', 'Rainfall', 'Evaporation', 'Sunshine', 'WindGustSpeed', 'WindSpeed9am', 'WindSpeed3pm', 'Humidity9am', 'Humidity3pm', 'Pressure9am', 'Pressure3pm', 'Cloud9am', 'Cloud3pm', 'Temp9am', 'Temp3pm']\n"
     ]
    }
   ],
   "source": [
    "# Numerical Features:\n",
    "\n",
    "numerical_features = [column_name for column_name in rain.columns if rain[column_name].dtype != 'O']\n",
    "\n",
    "#rain.select_dtypes(include=['float64','int64']).columns \n",
    "\n",
    "print(\"Number of Numerical Features: {}\".format(len(numerical_features)))\n",
    "print(\"Numerical Features: \",numerical_features)"
   ]
  },
  {
   "cell_type": "code",
   "execution_count": 10,
   "metadata": {},
   "outputs": [
    {
     "name": "stdout",
     "output_type": "stream",
     "text": [
      "Cardinality(no. of unique values) of Date are: 3004\n",
      "Cardinality(no. of unique values) of Location are: 12\n",
      "Cardinality(no. of unique values) of WindGustDir are: 17\n",
      "Cardinality(no. of unique values) of WindDir9am are: 17\n",
      "Cardinality(no. of unique values) of WindDir3pm are: 17\n",
      "Cardinality(no. of unique values) of RainToday are: 3\n",
      "Cardinality(no. of unique values) of RainTomorrow are: 3\n"
     ]
    }
   ],
   "source": [
    "# finding cardinality of categorical features:\n",
    "\n",
    "for each_feature in categorical_features:\n",
    "    print(\"Cardinality(no. of unique values) of {} are: {}\".format(each_feature,len(rain[each_feature].unique())))"
   ]
  },
  {
   "cell_type": "markdown",
   "metadata": {},
   "source": [
    "Date column has high cardinality which poses several problems to ml model in terms of efficency and also dimenionality of data also increases when converted to numerical data."
   ]
  },
  {
   "cell_type": "markdown",
   "metadata": {},
   "source": [
    "Feature enginerring of Date column to decrease high cardinality."
   ]
  },
  {
   "cell_type": "code",
   "execution_count": 11,
   "metadata": {},
   "outputs": [],
   "source": [
    "# Type conversion of Date Column to datetime type:\n",
    "\n",
    "rain['Date'] = pd.to_datetime(rain['Date'])"
   ]
  },
  {
   "cell_type": "code",
   "execution_count": 12,
   "metadata": {},
   "outputs": [
    {
     "data": {
      "text/plain": [
       "dtype('<M8[ns]')"
      ]
     },
     "execution_count": 12,
     "metadata": {},
     "output_type": "execute_result"
    }
   ],
   "source": [
    "rain['Date'].dtype"
   ]
  },
  {
   "cell_type": "code",
   "execution_count": 13,
   "metadata": {},
   "outputs": [],
   "source": [
    "rain['year'] = rain['Date'].dt.year\n",
    "rain['month'] = rain['Date'].dt.month\n",
    "rain['day'] = rain['Date'].dt.day"
   ]
  },
  {
   "cell_type": "code",
   "execution_count": 14,
   "metadata": {},
   "outputs": [],
   "source": [
    "rain.drop('Date', axis = 1, inplace = True)"
   ]
  },
  {
   "cell_type": "code",
   "execution_count": 15,
   "metadata": {},
   "outputs": [
    {
     "data": {
      "text/html": [
       "<div>\n",
       "<style scoped>\n",
       "    .dataframe tbody tr th:only-of-type {\n",
       "        vertical-align: middle;\n",
       "    }\n",
       "\n",
       "    .dataframe tbody tr th {\n",
       "        vertical-align: top;\n",
       "    }\n",
       "\n",
       "    .dataframe thead th {\n",
       "        text-align: right;\n",
       "    }\n",
       "</style>\n",
       "<table border=\"1\" class=\"dataframe\">\n",
       "  <thead>\n",
       "    <tr style=\"text-align: right;\">\n",
       "      <th></th>\n",
       "      <th>Location</th>\n",
       "      <th>MinTemp</th>\n",
       "      <th>MaxTemp</th>\n",
       "      <th>Rainfall</th>\n",
       "      <th>Evaporation</th>\n",
       "      <th>Sunshine</th>\n",
       "      <th>WindGustDir</th>\n",
       "      <th>WindGustSpeed</th>\n",
       "      <th>WindDir9am</th>\n",
       "      <th>WindDir3pm</th>\n",
       "      <th>WindSpeed9am</th>\n",
       "      <th>WindSpeed3pm</th>\n",
       "      <th>Humidity9am</th>\n",
       "      <th>Humidity3pm</th>\n",
       "      <th>Pressure9am</th>\n",
       "      <th>Pressure3pm</th>\n",
       "      <th>Cloud9am</th>\n",
       "      <th>Cloud3pm</th>\n",
       "      <th>Temp9am</th>\n",
       "      <th>Temp3pm</th>\n",
       "      <th>RainToday</th>\n",
       "      <th>RainTomorrow</th>\n",
       "      <th>year</th>\n",
       "      <th>month</th>\n",
       "      <th>day</th>\n",
       "    </tr>\n",
       "  </thead>\n",
       "  <tbody>\n",
       "    <tr>\n",
       "      <th>0</th>\n",
       "      <td>Albury</td>\n",
       "      <td>13.4</td>\n",
       "      <td>22.9</td>\n",
       "      <td>0.6</td>\n",
       "      <td>NaN</td>\n",
       "      <td>NaN</td>\n",
       "      <td>W</td>\n",
       "      <td>44.0</td>\n",
       "      <td>W</td>\n",
       "      <td>WNW</td>\n",
       "      <td>20.0</td>\n",
       "      <td>24.0</td>\n",
       "      <td>71.0</td>\n",
       "      <td>22.0</td>\n",
       "      <td>1007.7</td>\n",
       "      <td>1007.1</td>\n",
       "      <td>8.0</td>\n",
       "      <td>NaN</td>\n",
       "      <td>16.9</td>\n",
       "      <td>21.8</td>\n",
       "      <td>No</td>\n",
       "      <td>No</td>\n",
       "      <td>2008</td>\n",
       "      <td>12</td>\n",
       "      <td>1</td>\n",
       "    </tr>\n",
       "    <tr>\n",
       "      <th>1</th>\n",
       "      <td>Albury</td>\n",
       "      <td>7.4</td>\n",
       "      <td>25.1</td>\n",
       "      <td>0.0</td>\n",
       "      <td>NaN</td>\n",
       "      <td>NaN</td>\n",
       "      <td>WNW</td>\n",
       "      <td>44.0</td>\n",
       "      <td>NNW</td>\n",
       "      <td>WSW</td>\n",
       "      <td>4.0</td>\n",
       "      <td>22.0</td>\n",
       "      <td>44.0</td>\n",
       "      <td>25.0</td>\n",
       "      <td>1010.6</td>\n",
       "      <td>1007.8</td>\n",
       "      <td>NaN</td>\n",
       "      <td>NaN</td>\n",
       "      <td>17.2</td>\n",
       "      <td>24.3</td>\n",
       "      <td>No</td>\n",
       "      <td>No</td>\n",
       "      <td>2008</td>\n",
       "      <td>12</td>\n",
       "      <td>2</td>\n",
       "    </tr>\n",
       "    <tr>\n",
       "      <th>2</th>\n",
       "      <td>Albury</td>\n",
       "      <td>12.9</td>\n",
       "      <td>25.7</td>\n",
       "      <td>0.0</td>\n",
       "      <td>NaN</td>\n",
       "      <td>NaN</td>\n",
       "      <td>WSW</td>\n",
       "      <td>46.0</td>\n",
       "      <td>W</td>\n",
       "      <td>WSW</td>\n",
       "      <td>19.0</td>\n",
       "      <td>26.0</td>\n",
       "      <td>38.0</td>\n",
       "      <td>30.0</td>\n",
       "      <td>1007.6</td>\n",
       "      <td>1008.7</td>\n",
       "      <td>NaN</td>\n",
       "      <td>2.0</td>\n",
       "      <td>21.0</td>\n",
       "      <td>23.2</td>\n",
       "      <td>No</td>\n",
       "      <td>No</td>\n",
       "      <td>2008</td>\n",
       "      <td>12</td>\n",
       "      <td>3</td>\n",
       "    </tr>\n",
       "    <tr>\n",
       "      <th>3</th>\n",
       "      <td>Albury</td>\n",
       "      <td>9.2</td>\n",
       "      <td>28.0</td>\n",
       "      <td>0.0</td>\n",
       "      <td>NaN</td>\n",
       "      <td>NaN</td>\n",
       "      <td>NE</td>\n",
       "      <td>24.0</td>\n",
       "      <td>SE</td>\n",
       "      <td>E</td>\n",
       "      <td>11.0</td>\n",
       "      <td>9.0</td>\n",
       "      <td>45.0</td>\n",
       "      <td>16.0</td>\n",
       "      <td>1017.6</td>\n",
       "      <td>1012.8</td>\n",
       "      <td>NaN</td>\n",
       "      <td>NaN</td>\n",
       "      <td>18.1</td>\n",
       "      <td>26.5</td>\n",
       "      <td>No</td>\n",
       "      <td>No</td>\n",
       "      <td>2008</td>\n",
       "      <td>12</td>\n",
       "      <td>4</td>\n",
       "    </tr>\n",
       "    <tr>\n",
       "      <th>4</th>\n",
       "      <td>Albury</td>\n",
       "      <td>17.5</td>\n",
       "      <td>32.3</td>\n",
       "      <td>1.0</td>\n",
       "      <td>NaN</td>\n",
       "      <td>NaN</td>\n",
       "      <td>W</td>\n",
       "      <td>41.0</td>\n",
       "      <td>ENE</td>\n",
       "      <td>NW</td>\n",
       "      <td>7.0</td>\n",
       "      <td>20.0</td>\n",
       "      <td>82.0</td>\n",
       "      <td>33.0</td>\n",
       "      <td>1010.8</td>\n",
       "      <td>1006.0</td>\n",
       "      <td>7.0</td>\n",
       "      <td>8.0</td>\n",
       "      <td>17.8</td>\n",
       "      <td>29.7</td>\n",
       "      <td>No</td>\n",
       "      <td>No</td>\n",
       "      <td>2008</td>\n",
       "      <td>12</td>\n",
       "      <td>5</td>\n",
       "    </tr>\n",
       "  </tbody>\n",
       "</table>\n",
       "</div>"
      ],
      "text/plain": [
       "  Location  MinTemp  MaxTemp  Rainfall  Evaporation  Sunshine WindGustDir  \\\n",
       "0   Albury     13.4     22.9       0.6          NaN       NaN           W   \n",
       "1   Albury      7.4     25.1       0.0          NaN       NaN         WNW   \n",
       "2   Albury     12.9     25.7       0.0          NaN       NaN         WSW   \n",
       "3   Albury      9.2     28.0       0.0          NaN       NaN          NE   \n",
       "4   Albury     17.5     32.3       1.0          NaN       NaN           W   \n",
       "\n",
       "   WindGustSpeed WindDir9am WindDir3pm  WindSpeed9am  WindSpeed3pm  \\\n",
       "0           44.0          W        WNW          20.0          24.0   \n",
       "1           44.0        NNW        WSW           4.0          22.0   \n",
       "2           46.0          W        WSW          19.0          26.0   \n",
       "3           24.0         SE          E          11.0           9.0   \n",
       "4           41.0        ENE         NW           7.0          20.0   \n",
       "\n",
       "   Humidity9am  Humidity3pm  Pressure9am  Pressure3pm  Cloud9am  Cloud3pm  \\\n",
       "0         71.0         22.0       1007.7       1007.1       8.0       NaN   \n",
       "1         44.0         25.0       1010.6       1007.8       NaN       NaN   \n",
       "2         38.0         30.0       1007.6       1008.7       NaN       2.0   \n",
       "3         45.0         16.0       1017.6       1012.8       NaN       NaN   \n",
       "4         82.0         33.0       1010.8       1006.0       7.0       8.0   \n",
       "\n",
       "   Temp9am  Temp3pm RainToday RainTomorrow  year  month  day  \n",
       "0     16.9     21.8        No           No  2008     12    1  \n",
       "1     17.2     24.3        No           No  2008     12    2  \n",
       "2     21.0     23.2        No           No  2008     12    3  \n",
       "3     18.1     26.5        No           No  2008     12    4  \n",
       "4     17.8     29.7        No           No  2008     12    5  "
      ]
     },
     "execution_count": 15,
     "metadata": {},
     "output_type": "execute_result"
    }
   ],
   "source": [
    "rain.head()"
   ]
  },
  {
   "cell_type": "code",
   "execution_count": 16,
   "metadata": {},
   "outputs": [
    {
     "name": "stdout",
     "output_type": "stream",
     "text": [
      "Number of Categorical Features: 6\n",
      "Categorical Features:  ['Location', 'WindGustDir', 'WindDir9am', 'WindDir3pm', 'RainToday', 'RainTomorrow']\n"
     ]
    }
   ],
   "source": [
    "# categorical data: \n",
    "\n",
    "categorical_features = [column_name for column_name in rain.columns if rain[column_name].dtype == 'O']\n",
    "print(\"Number of Categorical Features: {}\".format(len(categorical_features)))\n",
    "print(\"Categorical Features: \",categorical_features)"
   ]
  },
  {
   "cell_type": "code",
   "execution_count": 17,
   "metadata": {},
   "outputs": [
    {
     "name": "stdout",
     "output_type": "stream",
     "text": [
      "Number of Numerical Features: 19\n",
      "Numerical Features:  ['MinTemp', 'MaxTemp', 'Rainfall', 'Evaporation', 'Sunshine', 'WindGustSpeed', 'WindSpeed9am', 'WindSpeed3pm', 'Humidity9am', 'Humidity3pm', 'Pressure9am', 'Pressure3pm', 'Cloud9am', 'Cloud3pm', 'Temp9am', 'Temp3pm', 'year', 'month', 'day']\n"
     ]
    }
   ],
   "source": [
    "# Numerical Features:\n",
    "\n",
    "numerical_features = [column_name for column_name in rain.columns if rain[column_name].dtype != 'O']\n",
    "#rain.select_dtypes(include=['float64','int64']).columns \n",
    "print(\"Number of Numerical Features: {}\".format(len(numerical_features)))\n",
    "print(\"Numerical Features: \",numerical_features)"
   ]
  },
  {
   "cell_type": "markdown",
   "metadata": {},
   "source": [
    "Checking for Null values:"
   ]
  },
  {
   "cell_type": "code",
   "execution_count": 18,
   "metadata": {
    "scrolled": false
   },
   "outputs": [
    {
     "data": {
      "text/plain": [
       "Location          0\n",
       "WindGustDir     991\n",
       "WindDir9am      829\n",
       "WindDir3pm      308\n",
       "RainToday       240\n",
       "RainTomorrow    239\n",
       "dtype: int64"
      ]
     },
     "execution_count": 18,
     "metadata": {},
     "output_type": "execute_result"
    }
   ],
   "source": [
    "rain[categorical_features].isnull().sum()"
   ]
  },
  {
   "cell_type": "code",
   "execution_count": 19,
   "metadata": {},
   "outputs": [],
   "source": [
    "# list of categorical features which has null values:\n",
    "\n",
    "categorical_features_with_null = [feature for feature in categorical_features if rain[feature].isnull().sum()]"
   ]
  },
  {
   "cell_type": "markdown",
   "metadata": {},
   "source": [
    "Filling the missing(Null) categorical features with most frequent value(mode)"
   ]
  },
  {
   "cell_type": "code",
   "execution_count": 20,
   "metadata": {},
   "outputs": [],
   "source": [
    "# Filling the missing(Null) categorical features with most frequent value(mode)\n",
    "\n",
    "for each_feature in categorical_features_with_null:\n",
    "    mode_val = rain[each_feature].mode()[0]\n",
    "    rain[each_feature].fillna(mode_val,inplace=True)"
   ]
  },
  {
   "cell_type": "code",
   "execution_count": 21,
   "metadata": {},
   "outputs": [
    {
     "data": {
      "text/plain": [
       "Location        0\n",
       "WindGustDir     0\n",
       "WindDir9am      0\n",
       "WindDir3pm      0\n",
       "RainToday       0\n",
       "RainTomorrow    0\n",
       "dtype: int64"
      ]
     },
     "execution_count": 21,
     "metadata": {},
     "output_type": "execute_result"
    }
   ],
   "source": [
    "rain[categorical_features].isnull().sum()"
   ]
  },
  {
   "cell_type": "markdown",
   "metadata": {},
   "source": [
    " Handling Null values in numerical features:"
   ]
  },
  {
   "cell_type": "code",
   "execution_count": 22,
   "metadata": {
    "scrolled": true
   },
   "outputs": [
    {
     "data": {
      "text/plain": [
       "MinTemp            75\n",
       "MaxTemp            60\n",
       "Rainfall          240\n",
       "Evaporation      3512\n",
       "Sunshine         3994\n",
       "WindGustSpeed     991\n",
       "WindSpeed9am       76\n",
       "WindSpeed3pm      107\n",
       "Humidity9am        59\n",
       "Humidity3pm       102\n",
       "Pressure9am      1309\n",
       "Pressure3pm      1312\n",
       "Cloud9am         2421\n",
       "Cloud3pm         2455\n",
       "Temp9am            56\n",
       "Temp3pm            96\n",
       "year                0\n",
       "month               0\n",
       "day                 0\n",
       "dtype: int64"
      ]
     },
     "execution_count": 22,
     "metadata": {},
     "output_type": "execute_result"
    }
   ],
   "source": [
    "# checking null values in numerical features\n",
    "\n",
    "rain[numerical_features].isnull().sum()"
   ]
  },
  {
   "cell_type": "code",
   "execution_count": 23,
   "metadata": {},
   "outputs": [
    {
     "data": {
      "text/plain": [
       "<AxesSubplot:>"
      ]
     },
     "execution_count": 23,
     "metadata": {},
     "output_type": "execute_result"
    },
    {
     "data": {
      "image/png": "[encoded data removed]",
      "text/plain": [
       "<Figure size 1080x720 with 2 Axes>"
      ]
     },
     "metadata": {
      "needs_background": "light"
     },
     "output_type": "display_data"
    }
   ],
   "source": [
    "plt.figure(figsize=(15,10))\n",
    "sns.heatmap(rain[numerical_features].isnull(),linecolor='white')"
   ]
  },
  {
   "cell_type": "code",
   "execution_count": 24,
   "metadata": {},
   "outputs": [
    {
     "data": {
      "text/plain": [
       "<AxesSubplot:>"
      ]
     },
     "execution_count": 24,
     "metadata": {},
     "output_type": "execute_result"
    },
    {
     "data": {
      "image/png": "[encoded data removed]",
      "text/plain": [
       "<Figure size 432x288 with 1 Axes>"
      ]
     },
     "metadata": {
      "needs_background": "light"
     },
     "output_type": "display_data"
    }
   ],
   "source": [
    "# visualizing the Null values in Numerical Features:\n",
    "\n",
    "rain[numerical_features].isnull().sum().sort_values(ascending = False).plot(kind = 'bar')"
   ]
  },
  {
   "cell_type": "markdown",
   "metadata": {},
   "source": [
    "Null values in Numerical Features can be imputed using Mean and Median. Mean is sensitive to outliers and median is immune to outliers. If you want to impute the null values with mean values, then outliers in numerical features need to be addressed properly."
   ]
  },
  {
   "cell_type": "markdown",
   "metadata": {},
   "source": [
    "checking for outliers in Numerical Features"
   ]
  },
  {
   "cell_type": "code",
   "execution_count": 25,
   "metadata": {
    "scrolled": false
   },
   "outputs": [
    {
     "data": {
      "image/png": "[encoded data removed]",
      "text/plain": [
       "<Figure size 720x720 with 1 Axes>"
      ]
     },
     "metadata": {
      "needs_background": "light"
     },
     "output_type": "display_data"
    },
    {
     "data": {
      "image/png": "[encoded data removed]",
      "text/plain": [
       "<Figure size 720x720 with 1 Axes>"
      ]
     },
     "metadata": {
      "needs_background": "light"
     },
     "output_type": "display_data"
    },
    {
     "data": {
      "image/png": "[encoded data removed]",
      "text/plain": [
       "<Figure size 720x720 with 1 Axes>"
      ]
     },
     "metadata": {
      "needs_background": "light"
     },
     "output_type": "display_data"
    },
    {
     "data": {
      "image/png": "[encoded data removed]",
      "text/plain": [
       "<Figure size 720x720 with 1 Axes>"
      ]
     },
     "metadata": {
      "needs_background": "light"
     },
     "output_type": "display_data"
    },
    {
     "data": {
      "image/png": "[encoded data removed]",
      "text/plain": [
       "<Figure size 720x720 with 1 Axes>"
      ]
     },
     "metadata": {
      "needs_background": "light"
     },
     "output_type": "display_data"
    },
    {
     "data": {
      "image/png": "[encoded data removed]",
      "text/plain": [
       "<Figure size 720x720 with 1 Axes>"
      ]
     },
     "metadata": {
      "needs_background": "light"
     },
     "output_type": "display_data"
    },
    {
     "data": {
      "image/png": "[encoded data removed]",
      "text/plain": [
       "<Figure size 720x720 with 1 Axes>"
      ]
     },
     "metadata": {
      "needs_background": "light"
     },
     "output_type": "display_data"
    },
    {
     "data": {
      "image/png": "[encoded data removed]",
      "text/plain": [
       "<Figure size 720x720 with 1 Axes>"
      ]
     },
     "metadata": {
      "needs_background": "light"
     },
     "output_type": "display_data"
    },
    {
     "data": {
      "image/png": "[encoded data removed]",
      "text/plain": [
       "<Figure size 720x720 with 1 Axes>"
      ]
     },
     "metadata": {
      "needs_background": "light"
     },
     "output_type": "display_data"
    },
    {
     "data": {
      "image/png": "[encoded data removed]",
      "text/plain": [
       "<Figure size 720x720 with 1 Axes>"
      ]
     },
     "metadata": {
      "needs_background": "light"
     },
     "output_type": "display_data"
    },
    {
     "data": {
      "image/png": "[encoded data removed]",
      "text/plain": [
       "<Figure size 720x720 with 1 Axes>"
      ]
     },
     "metadata": {
      "needs_background": "light"
     },
     "output_type": "display_data"
    },
    {
     "data": {
      "image/png": "[encoded data removed]",
      "text/plain": [
       "<Figure size 720x720 with 1 Axes>"
      ]
     },
     "metadata": {
      "needs_background": "light"
     },
     "output_type": "display_data"
    },
    {
     "data": {
      "image/png": "[encoded data removed]",
      "text/plain": [
       "<Figure size 720x720 with 1 Axes>"
      ]
     },
     "metadata": {
      "needs_background": "light"
     },
     "output_type": "display_data"
    },
    {
     "data": {
      "image/png": "[encoded data removed]",
      "text/plain": [
       "<Figure size 720x720 with 1 Axes>"
      ]
     },
     "metadata": {
      "needs_background": "light"
     },
     "output_type": "display_data"
    },
    {
     "data": {
      "image/png": "[encoded data removed]",
      "text/plain": [
       "<Figure size 720x720 with 1 Axes>"
      ]
     },
     "metadata": {
      "needs_background": "light"
     },
     "output_type": "display_data"
    },
    {
     "data": {
      "image/png": "[encoded data removed]",
      "text/plain": [
       "<Figure size 720x720 with 1 Axes>"
      ]
     },
     "metadata": {
      "needs_background": "light"
     },
     "output_type": "display_data"
    },
    {
     "data": {
      "image/png": "[encoded data removed]",
      "text/plain": [
       "<Figure size 720x720 with 1 Axes>"
      ]
     },
     "metadata": {
      "needs_background": "light"
     },
     "output_type": "display_data"
    },
    {
     "data": {
      "image/png": "[encoded data removed]",
      "text/plain": [
       "<Figure size 720x720 with 1 Axes>"
      ]
     },
     "metadata": {
      "needs_background": "light"
     },
     "output_type": "display_data"
    },
    {
     "data": {
      "image/png": "[encoded data removed]",
      "text/plain": [
       "<Figure size 720x720 with 1 Axes>"
      ]
     },
     "metadata": {
      "needs_background": "light"
     },
     "output_type": "display_data"
    }
   ],
   "source": [
    "#checking for outliers using Box Plot:\n",
    "\n",
    "for feature in numerical_features:\n",
    "    plt.figure(figsize=(10,10))\n",
    "    sns.boxplot(rain[feature])\n",
    "    plt.title(feature)\n",
    "    "
   ]
  },
  {
   "cell_type": "code",
   "execution_count": 26,
   "metadata": {
    "scrolled": true
   },
   "outputs": [
    {
     "data": {
      "text/html": [
       "<div>\n",
       "<style scoped>\n",
       "    .dataframe tbody tr th:only-of-type {\n",
       "        vertical-align: middle;\n",
       "    }\n",
       "\n",
       "    .dataframe tbody tr th {\n",
       "        vertical-align: top;\n",
       "    }\n",
       "\n",
       "    .dataframe thead th {\n",
       "        text-align: right;\n",
       "    }\n",
       "</style>\n",
       "<table border=\"1\" class=\"dataframe\">\n",
       "  <thead>\n",
       "    <tr style=\"text-align: right;\">\n",
       "      <th></th>\n",
       "      <th>MinTemp</th>\n",
       "      <th>MaxTemp</th>\n",
       "      <th>Rainfall</th>\n",
       "      <th>Evaporation</th>\n",
       "      <th>Sunshine</th>\n",
       "      <th>WindGustSpeed</th>\n",
       "      <th>WindSpeed9am</th>\n",
       "      <th>WindSpeed3pm</th>\n",
       "      <th>Humidity9am</th>\n",
       "      <th>Humidity3pm</th>\n",
       "      <th>Pressure9am</th>\n",
       "      <th>Pressure3pm</th>\n",
       "      <th>Cloud9am</th>\n",
       "      <th>Cloud3pm</th>\n",
       "      <th>Temp9am</th>\n",
       "      <th>Temp3pm</th>\n",
       "      <th>year</th>\n",
       "      <th>month</th>\n",
       "      <th>day</th>\n",
       "    </tr>\n",
       "  </thead>\n",
       "  <tbody>\n",
       "    <tr>\n",
       "      <th>count</th>\n",
       "      <td>8350.000000</td>\n",
       "      <td>8365.000000</td>\n",
       "      <td>8185.000000</td>\n",
       "      <td>4913.000000</td>\n",
       "      <td>4431.000000</td>\n",
       "      <td>7434.000000</td>\n",
       "      <td>8349.000000</td>\n",
       "      <td>8318.000000</td>\n",
       "      <td>8366.000000</td>\n",
       "      <td>8323.000000</td>\n",
       "      <td>7116.000000</td>\n",
       "      <td>7113.000000</td>\n",
       "      <td>6004.000000</td>\n",
       "      <td>5970.000000</td>\n",
       "      <td>8369.000000</td>\n",
       "      <td>8329.000000</td>\n",
       "      <td>8425.000000</td>\n",
       "      <td>8425.000000</td>\n",
       "      <td>8425.000000</td>\n",
       "    </tr>\n",
       "    <tr>\n",
       "      <th>mean</th>\n",
       "      <td>13.193305</td>\n",
       "      <td>23.859976</td>\n",
       "      <td>2.805913</td>\n",
       "      <td>5.389395</td>\n",
       "      <td>7.632205</td>\n",
       "      <td>40.174469</td>\n",
       "      <td>13.847646</td>\n",
       "      <td>18.533662</td>\n",
       "      <td>67.822496</td>\n",
       "      <td>51.249790</td>\n",
       "      <td>1017.640233</td>\n",
       "      <td>1015.236075</td>\n",
       "      <td>4.566622</td>\n",
       "      <td>4.503183</td>\n",
       "      <td>17.762015</td>\n",
       "      <td>22.442934</td>\n",
       "      <td>2012.102433</td>\n",
       "      <td>6.442136</td>\n",
       "      <td>15.741958</td>\n",
       "    </tr>\n",
       "    <tr>\n",
       "      <th>std</th>\n",
       "      <td>5.403596</td>\n",
       "      <td>6.136408</td>\n",
       "      <td>10.459379</td>\n",
       "      <td>5.044484</td>\n",
       "      <td>3.896235</td>\n",
       "      <td>14.665721</td>\n",
       "      <td>10.174579</td>\n",
       "      <td>9.766986</td>\n",
       "      <td>16.833283</td>\n",
       "      <td>18.423774</td>\n",
       "      <td>6.828699</td>\n",
       "      <td>6.766681</td>\n",
       "      <td>2.877658</td>\n",
       "      <td>2.731659</td>\n",
       "      <td>5.627035</td>\n",
       "      <td>5.980020</td>\n",
       "      <td>2.473137</td>\n",
       "      <td>3.437994</td>\n",
       "      <td>8.787354</td>\n",
       "    </tr>\n",
       "    <tr>\n",
       "      <th>min</th>\n",
       "      <td>-2.000000</td>\n",
       "      <td>8.200000</td>\n",
       "      <td>0.000000</td>\n",
       "      <td>0.000000</td>\n",
       "      <td>0.000000</td>\n",
       "      <td>7.000000</td>\n",
       "      <td>0.000000</td>\n",
       "      <td>0.000000</td>\n",
       "      <td>10.000000</td>\n",
       "      <td>6.000000</td>\n",
       "      <td>989.800000</td>\n",
       "      <td>982.900000</td>\n",
       "      <td>0.000000</td>\n",
       "      <td>0.000000</td>\n",
       "      <td>1.900000</td>\n",
       "      <td>7.300000</td>\n",
       "      <td>2008.000000</td>\n",
       "      <td>1.000000</td>\n",
       "      <td>1.000000</td>\n",
       "    </tr>\n",
       "    <tr>\n",
       "      <th>25%</th>\n",
       "      <td>9.200000</td>\n",
       "      <td>19.300000</td>\n",
       "      <td>0.000000</td>\n",
       "      <td>2.600000</td>\n",
       "      <td>4.750000</td>\n",
       "      <td>30.000000</td>\n",
       "      <td>6.000000</td>\n",
       "      <td>11.000000</td>\n",
       "      <td>56.000000</td>\n",
       "      <td>39.000000</td>\n",
       "      <td>1013.000000</td>\n",
       "      <td>1010.400000</td>\n",
       "      <td>1.000000</td>\n",
       "      <td>2.000000</td>\n",
       "      <td>13.800000</td>\n",
       "      <td>18.000000</td>\n",
       "      <td>2010.000000</td>\n",
       "      <td>3.000000</td>\n",
       "      <td>8.000000</td>\n",
       "    </tr>\n",
       "    <tr>\n",
       "      <th>50%</th>\n",
       "      <td>13.300000</td>\n",
       "      <td>23.300000</td>\n",
       "      <td>0.000000</td>\n",
       "      <td>4.600000</td>\n",
       "      <td>8.700000</td>\n",
       "      <td>39.000000</td>\n",
       "      <td>13.000000</td>\n",
       "      <td>19.000000</td>\n",
       "      <td>68.000000</td>\n",
       "      <td>51.000000</td>\n",
       "      <td>1017.700000</td>\n",
       "      <td>1015.300000</td>\n",
       "      <td>5.000000</td>\n",
       "      <td>5.000000</td>\n",
       "      <td>17.800000</td>\n",
       "      <td>21.900000</td>\n",
       "      <td>2011.000000</td>\n",
       "      <td>6.000000</td>\n",
       "      <td>16.000000</td>\n",
       "    </tr>\n",
       "    <tr>\n",
       "      <th>75%</th>\n",
       "      <td>17.400000</td>\n",
       "      <td>28.000000</td>\n",
       "      <td>1.000000</td>\n",
       "      <td>7.000000</td>\n",
       "      <td>10.700000</td>\n",
       "      <td>50.000000</td>\n",
       "      <td>20.000000</td>\n",
       "      <td>24.000000</td>\n",
       "      <td>80.000000</td>\n",
       "      <td>63.000000</td>\n",
       "      <td>1022.300000</td>\n",
       "      <td>1019.800000</td>\n",
       "      <td>7.000000</td>\n",
       "      <td>7.000000</td>\n",
       "      <td>21.900000</td>\n",
       "      <td>26.400000</td>\n",
       "      <td>2014.000000</td>\n",
       "      <td>9.000000</td>\n",
       "      <td>23.000000</td>\n",
       "    </tr>\n",
       "    <tr>\n",
       "      <th>max</th>\n",
       "      <td>28.500000</td>\n",
       "      <td>45.500000</td>\n",
       "      <td>371.000000</td>\n",
       "      <td>145.000000</td>\n",
       "      <td>13.900000</td>\n",
       "      <td>107.000000</td>\n",
       "      <td>63.000000</td>\n",
       "      <td>83.000000</td>\n",
       "      <td>100.000000</td>\n",
       "      <td>99.000000</td>\n",
       "      <td>1039.000000</td>\n",
       "      <td>1036.000000</td>\n",
       "      <td>8.000000</td>\n",
       "      <td>8.000000</td>\n",
       "      <td>39.400000</td>\n",
       "      <td>44.100000</td>\n",
       "      <td>2017.000000</td>\n",
       "      <td>12.000000</td>\n",
       "      <td>31.000000</td>\n",
       "    </tr>\n",
       "  </tbody>\n",
       "</table>\n",
       "</div>"
      ],
      "text/plain": [
       "           MinTemp      MaxTemp     Rainfall  Evaporation     Sunshine  \\\n",
       "count  8350.000000  8365.000000  8185.000000  4913.000000  4431.000000   \n",
       "mean     13.193305    23.859976     2.805913     5.389395     7.632205   \n",
       "std       5.403596     6.136408    10.459379     5.044484     3.896235   \n",
       "min      -2.000000     8.200000     0.000000     0.000000     0.000000   \n",
       "25%       9.200000    19.300000     0.000000     2.600000     4.750000   \n",
       "50%      13.300000    23.300000     0.000000     4.600000     8.700000   \n",
       "75%      17.400000    28.000000     1.000000     7.000000    10.700000   \n",
       "max      28.500000    45.500000   371.000000   145.000000    13.900000   \n",
       "\n",
       "       WindGustSpeed  WindSpeed9am  WindSpeed3pm  Humidity9am  Humidity3pm  \\\n",
       "count    7434.000000   8349.000000   8318.000000  8366.000000  8323.000000   \n",
       "mean       40.174469     13.847646     18.533662    67.822496    51.249790   \n",
       "std        14.665721     10.174579      9.766986    16.833283    18.423774   \n",
       "min         7.000000      0.000000      0.000000    10.000000     6.000000   \n",
       "25%        30.000000      6.000000     11.000000    56.000000    39.000000   \n",
       "50%        39.000000     13.000000     19.000000    68.000000    51.000000   \n",
       "75%        50.000000     20.000000     24.000000    80.000000    63.000000   \n",
       "max       107.000000     63.000000     83.000000   100.000000    99.000000   \n",
       "\n",
       "       Pressure9am  Pressure3pm     Cloud9am     Cloud3pm      Temp9am  \\\n",
       "count  7116.000000  7113.000000  6004.000000  5970.000000  8369.000000   \n",
       "mean   1017.640233  1015.236075     4.566622     4.503183    17.762015   \n",
       "std       6.828699     6.766681     2.877658     2.731659     5.627035   \n",
       "min     989.800000   982.900000     0.000000     0.000000     1.900000   \n",
       "25%    1013.000000  1010.400000     1.000000     2.000000    13.800000   \n",
       "50%    1017.700000  1015.300000     5.000000     5.000000    17.800000   \n",
       "75%    1022.300000  1019.800000     7.000000     7.000000    21.900000   \n",
       "max    1039.000000  1036.000000     8.000000     8.000000    39.400000   \n",
       "\n",
       "           Temp3pm         year        month          day  \n",
       "count  8329.000000  8425.000000  8425.000000  8425.000000  \n",
       "mean     22.442934  2012.102433     6.442136    15.741958  \n",
       "std       5.980020     2.473137     3.437994     8.787354  \n",
       "min       7.300000  2008.000000     1.000000     1.000000  \n",
       "25%      18.000000  2010.000000     3.000000     8.000000  \n",
       "50%      21.900000  2011.000000     6.000000    16.000000  \n",
       "75%      26.400000  2014.000000     9.000000    23.000000  \n",
       "max      44.100000  2017.000000    12.000000    31.000000  "
      ]
     },
     "execution_count": 26,
     "metadata": {},
     "output_type": "execute_result"
    }
   ],
   "source": [
    "# checking for outliers using the statistical formulas:\n",
    "\n",
    "rain[numerical_features].describe()"
   ]
  },
  {
   "cell_type": "markdown",
   "metadata": {},
   "source": [
    "Outlier Treatment to remove outliers from Numerical Features:"
   ]
  },
  {
   "cell_type": "code",
   "execution_count": 27,
   "metadata": {},
   "outputs": [],
   "source": [
    "# features which has outliers:\n",
    "\n",
    "features_with_outliers = ['MinTemp', 'MaxTemp', 'Rainfall', 'Evaporation', 'WindGustSpeed','WindSpeed9am', 'WindSpeed3pm', 'Humidity9am', 'Pressure9am', 'Pressure3pm', 'Temp9am', 'Temp3pm']"
   ]
  },
  {
   "cell_type": "code",
   "execution_count": 28,
   "metadata": {},
   "outputs": [],
   "source": [
    "# Replacing outliers using IQR:\n",
    "\n",
    "for feature in features_with_outliers:\n",
    "    q1 = rain[feature].quantile(0.25)\n",
    "    q3 = rain[feature].quantile(0.75)\n",
    "    IQR = q3-q1\n",
    "    lower_limit = q1 - (IQR*1.5)\n",
    "    upper_limit = q3 + (IQR*1.5)\n",
    "    rain.loc[rain[feature]<lower_limit,feature] = lower_limit\n",
    "    rain.loc[rain[feature]>upper_limit,feature] = upper_limit"
   ]
  },
  {
   "cell_type": "code",
   "execution_count": 29,
   "metadata": {
    "scrolled": false
   },
   "outputs": [
    {
     "data": {
      "image/png": "[encoded data removed]",
      "text/plain": [
       "<Figure size 720x720 with 1 Axes>"
      ]
     },
     "metadata": {
      "needs_background": "light"
     },
     "output_type": "display_data"
    },
    {
     "data": {
      "image/png": "[encoded data removed]",
      "text/plain": [
       "<Figure size 720x720 with 1 Axes>"
      ]
     },
     "metadata": {
      "needs_background": "light"
     },
     "output_type": "display_data"
    },
    {
     "data": {
      "image/png": "[encoded data removed]",
      "text/plain": [
       "<Figure size 720x720 with 1 Axes>"
      ]
     },
     "metadata": {
      "needs_background": "light"
     },
     "output_type": "display_data"
    },
    {
     "data": {
      "image/png": "[encoded data removed]",
      "text/plain": [
       "<Figure size 720x720 with 1 Axes>"
      ]
     },
     "metadata": {
      "needs_background": "light"
     },
     "output_type": "display_data"
    },
    {
     "data": {
      "image/png": "[encoded data removed]",
      "text/plain": [
       "<Figure size 720x720 with 1 Axes>"
      ]
     },
     "metadata": {
      "needs_background": "light"
     },
     "output_type": "display_data"
    },
    {
     "data": {
      "image/png": "[encoded data removed]",
      "text/plain": [
       "<Figure size 720x720 with 1 Axes>"
      ]
     },
     "metadata": {
      "needs_background": "light"
     },
     "output_type": "display_data"
    },
    {
     "data": {
      "image/png": "[encoded data removed]",
      "text/plain": [
       "<Figure size 720x720 with 1 Axes>"
      ]
     },
     "metadata": {
      "needs_background": "light"
     },
     "output_type": "display_data"
    },
    {
     "data": {
      "image/png": "[encoded data removed]",
      "text/plain": [
       "<Figure size 720x720 with 1 Axes>"
      ]
     },
     "metadata": {
      "needs_background": "light"
     },
     "output_type": "display_data"
    },
    {
     "data": {
      "image/png": "[encoded data removed]",
      "text/plain": [
       "<Figure size 720x720 with 1 Axes>"
      ]
     },
     "metadata": {
      "needs_background": "light"
     },
     "output_type": "display_data"
    },
    {
     "data": {
      "image/png": "[encoded data removed]",
      "text/plain": [
       "<Figure size 720x720 with 1 Axes>"
      ]
     },
     "metadata": {
      "needs_background": "light"
     },
     "output_type": "display_data"
    },
    {
     "data": {
      "image/png": "[encoded data removed]",
      "text/plain": [
       "<Figure size 720x720 with 1 Axes>"
      ]
     },
     "metadata": {
      "needs_background": "light"
     },
     "output_type": "display_data"
    },
    {
     "data": {
      "image/png": "[encoded data removed]",
      "text/plain": [
       "<Figure size 720x720 with 1 Axes>"
      ]
     },
     "metadata": {
      "needs_background": "light"
     },
     "output_type": "display_data"
    },
    {
     "data": {
      "image/png": "[encoded data removed]",
      "text/plain": [
       "<Figure size 720x720 with 1 Axes>"
      ]
     },
     "metadata": {
      "needs_background": "light"
     },
     "output_type": "display_data"
    },
    {
     "data": {
      "image/png": "[encoded data removed]",
      "text/plain": [
       "<Figure size 720x720 with 1 Axes>"
      ]
     },
     "metadata": {
      "needs_background": "light"
     },
     "output_type": "display_data"
    },
    {
     "data": {
      "image/png": "[encoded data removed]",
      "text/plain": [
       "<Figure size 720x720 with 1 Axes>"
      ]
     },
     "metadata": {
      "needs_background": "light"
     },
     "output_type": "display_data"
    },
    {
     "data": {
      "image/png": "[encoded data removed]",
      "text/plain": [
       "<Figure size 720x720 with 1 Axes>"
      ]
     },
     "metadata": {
      "needs_background": "light"
     },
     "output_type": "display_data"
    },
    {
     "data": {
      "image/png": "[encoded data removed]",
      "text/plain": [
       "<Figure size 720x720 with 1 Axes>"
      ]
     },
     "metadata": {
      "needs_background": "light"
     },
     "output_type": "display_data"
    },
    {
     "data": {
      "image/png": "[encoded data removed]",
      "text/plain": [
       "<Figure size 720x720 with 1 Axes>"
      ]
     },
     "metadata": {
      "needs_background": "light"
     },
     "output_type": "display_data"
    },
    {
     "data": {
      "image/png": "[encoded data removed]",
      "text/plain": [
       "<Figure size 720x720 with 1 Axes>"
      ]
     },
     "metadata": {
      "needs_background": "light"
     },
     "output_type": "display_data"
    }
   ],
   "source": [
    "for feature in numerical_features:\n",
    "    plt.figure(figsize=(10,10))\n",
    "    sns.boxplot(rain[feature])\n",
    "    plt.title(feature)"
   ]
  },
  {
   "cell_type": "markdown",
   "metadata": {},
   "source": [
    "Imputing null values in numerical features using mean:"
   ]
  },
  {
   "cell_type": "code",
   "execution_count": 30,
   "metadata": {
    "scrolled": true
   },
   "outputs": [
    {
     "data": {
      "text/plain": [
       "['MinTemp',\n",
       " 'MaxTemp',\n",
       " 'Rainfall',\n",
       " 'Evaporation',\n",
       " 'Sunshine',\n",
       " 'WindGustSpeed',\n",
       " 'WindSpeed9am',\n",
       " 'WindSpeed3pm',\n",
       " 'Humidity9am',\n",
       " 'Humidity3pm',\n",
       " 'Pressure9am',\n",
       " 'Pressure3pm',\n",
       " 'Cloud9am',\n",
       " 'Cloud3pm',\n",
       " 'Temp9am',\n",
       " 'Temp3pm']"
      ]
     },
     "execution_count": 30,
     "metadata": {},
     "output_type": "execute_result"
    }
   ],
   "source": [
    "# list of numerical Features with Null values:\n",
    "\n",
    "numerical_features_with_null = [feature for feature in numerical_features if rain[feature].isnull().sum()]\n",
    "numerical_features_with_null"
   ]
  },
  {
   "cell_type": "code",
   "execution_count": 31,
   "metadata": {
    "scrolled": true
   },
   "outputs": [],
   "source": [
    "# Filling null values uisng mean: \n",
    "\n",
    "for feature in numerical_features_with_null:\n",
    "    mean_value = rain[feature].mean()\n",
    "    rain[feature].fillna(mean_value,inplace=True)"
   ]
  },
  {
   "cell_type": "code",
   "execution_count": 32,
   "metadata": {},
   "outputs": [
    {
     "data": {
      "text/plain": [
       "Location         0\n",
       "MinTemp          0\n",
       "MaxTemp          0\n",
       "Rainfall         0\n",
       "Evaporation      0\n",
       "Sunshine         0\n",
       "WindGustDir      0\n",
       "WindGustSpeed    0\n",
       "WindDir9am       0\n",
       "WindDir3pm       0\n",
       "WindSpeed9am     0\n",
       "WindSpeed3pm     0\n",
       "Humidity9am      0\n",
       "Humidity3pm      0\n",
       "Pressure9am      0\n",
       "Pressure3pm      0\n",
       "Cloud9am         0\n",
       "Cloud3pm         0\n",
       "Temp9am          0\n",
       "Temp3pm          0\n",
       "RainToday        0\n",
       "RainTomorrow     0\n",
       "year             0\n",
       "month            0\n",
       "day              0\n",
       "dtype: int64"
      ]
     },
     "execution_count": 32,
     "metadata": {},
     "output_type": "execute_result"
    }
   ],
   "source": [
    "rain.isnull().sum()"
   ]
  },
  {
   "cell_type": "code",
   "execution_count": 33,
   "metadata": {
    "scrolled": true
   },
   "outputs": [
    {
     "data": {
      "text/html": [
       "<div>\n",
       "<style scoped>\n",
       "    .dataframe tbody tr th:only-of-type {\n",
       "        vertical-align: middle;\n",
       "    }\n",
       "\n",
       "    .dataframe tbody tr th {\n",
       "        vertical-align: top;\n",
       "    }\n",
       "\n",
       "    .dataframe thead th {\n",
       "        text-align: right;\n",
       "    }\n",
       "</style>\n",
       "<table border=\"1\" class=\"dataframe\">\n",
       "  <thead>\n",
       "    <tr style=\"text-align: right;\">\n",
       "      <th></th>\n",
       "      <th>Location</th>\n",
       "      <th>MinTemp</th>\n",
       "      <th>MaxTemp</th>\n",
       "      <th>Rainfall</th>\n",
       "      <th>Evaporation</th>\n",
       "      <th>Sunshine</th>\n",
       "      <th>WindGustDir</th>\n",
       "      <th>WindGustSpeed</th>\n",
       "      <th>WindDir9am</th>\n",
       "      <th>WindDir3pm</th>\n",
       "      <th>WindSpeed9am</th>\n",
       "      <th>WindSpeed3pm</th>\n",
       "      <th>Humidity9am</th>\n",
       "      <th>Humidity3pm</th>\n",
       "      <th>Pressure9am</th>\n",
       "      <th>Pressure3pm</th>\n",
       "      <th>Cloud9am</th>\n",
       "      <th>Cloud3pm</th>\n",
       "      <th>Temp9am</th>\n",
       "      <th>Temp3pm</th>\n",
       "      <th>RainToday</th>\n",
       "      <th>RainTomorrow</th>\n",
       "      <th>year</th>\n",
       "      <th>month</th>\n",
       "      <th>day</th>\n",
       "    </tr>\n",
       "  </thead>\n",
       "  <tbody>\n",
       "    <tr>\n",
       "      <th>0</th>\n",
       "      <td>Albury</td>\n",
       "      <td>13.4</td>\n",
       "      <td>22.9</td>\n",
       "      <td>0.6</td>\n",
       "      <td>5.119906</td>\n",
       "      <td>7.632205</td>\n",
       "      <td>W</td>\n",
       "      <td>44.0</td>\n",
       "      <td>W</td>\n",
       "      <td>WNW</td>\n",
       "      <td>20.0</td>\n",
       "      <td>24.0</td>\n",
       "      <td>71.0</td>\n",
       "      <td>22.0</td>\n",
       "      <td>1007.7</td>\n",
       "      <td>1007.1</td>\n",
       "      <td>8.000000</td>\n",
       "      <td>4.503183</td>\n",
       "      <td>16.9</td>\n",
       "      <td>21.8</td>\n",
       "      <td>No</td>\n",
       "      <td>No</td>\n",
       "      <td>2008</td>\n",
       "      <td>12</td>\n",
       "      <td>1</td>\n",
       "    </tr>\n",
       "    <tr>\n",
       "      <th>1</th>\n",
       "      <td>Albury</td>\n",
       "      <td>7.4</td>\n",
       "      <td>25.1</td>\n",
       "      <td>0.0</td>\n",
       "      <td>5.119906</td>\n",
       "      <td>7.632205</td>\n",
       "      <td>WNW</td>\n",
       "      <td>44.0</td>\n",
       "      <td>NNW</td>\n",
       "      <td>WSW</td>\n",
       "      <td>4.0</td>\n",
       "      <td>22.0</td>\n",
       "      <td>44.0</td>\n",
       "      <td>25.0</td>\n",
       "      <td>1010.6</td>\n",
       "      <td>1007.8</td>\n",
       "      <td>4.566622</td>\n",
       "      <td>4.503183</td>\n",
       "      <td>17.2</td>\n",
       "      <td>24.3</td>\n",
       "      <td>No</td>\n",
       "      <td>No</td>\n",
       "      <td>2008</td>\n",
       "      <td>12</td>\n",
       "      <td>2</td>\n",
       "    </tr>\n",
       "    <tr>\n",
       "      <th>2</th>\n",
       "      <td>Albury</td>\n",
       "      <td>12.9</td>\n",
       "      <td>25.7</td>\n",
       "      <td>0.0</td>\n",
       "      <td>5.119906</td>\n",
       "      <td>7.632205</td>\n",
       "      <td>WSW</td>\n",
       "      <td>46.0</td>\n",
       "      <td>W</td>\n",
       "      <td>WSW</td>\n",
       "      <td>19.0</td>\n",
       "      <td>26.0</td>\n",
       "      <td>38.0</td>\n",
       "      <td>30.0</td>\n",
       "      <td>1007.6</td>\n",
       "      <td>1008.7</td>\n",
       "      <td>4.566622</td>\n",
       "      <td>2.000000</td>\n",
       "      <td>21.0</td>\n",
       "      <td>23.2</td>\n",
       "      <td>No</td>\n",
       "      <td>No</td>\n",
       "      <td>2008</td>\n",
       "      <td>12</td>\n",
       "      <td>3</td>\n",
       "    </tr>\n",
       "    <tr>\n",
       "      <th>3</th>\n",
       "      <td>Albury</td>\n",
       "      <td>9.2</td>\n",
       "      <td>28.0</td>\n",
       "      <td>0.0</td>\n",
       "      <td>5.119906</td>\n",
       "      <td>7.632205</td>\n",
       "      <td>NE</td>\n",
       "      <td>24.0</td>\n",
       "      <td>SE</td>\n",
       "      <td>E</td>\n",
       "      <td>11.0</td>\n",
       "      <td>9.0</td>\n",
       "      <td>45.0</td>\n",
       "      <td>16.0</td>\n",
       "      <td>1017.6</td>\n",
       "      <td>1012.8</td>\n",
       "      <td>4.566622</td>\n",
       "      <td>4.503183</td>\n",
       "      <td>18.1</td>\n",
       "      <td>26.5</td>\n",
       "      <td>No</td>\n",
       "      <td>No</td>\n",
       "      <td>2008</td>\n",
       "      <td>12</td>\n",
       "      <td>4</td>\n",
       "    </tr>\n",
       "    <tr>\n",
       "      <th>4</th>\n",
       "      <td>Albury</td>\n",
       "      <td>17.5</td>\n",
       "      <td>32.3</td>\n",
       "      <td>1.0</td>\n",
       "      <td>5.119906</td>\n",
       "      <td>7.632205</td>\n",
       "      <td>W</td>\n",
       "      <td>41.0</td>\n",
       "      <td>ENE</td>\n",
       "      <td>NW</td>\n",
       "      <td>7.0</td>\n",
       "      <td>20.0</td>\n",
       "      <td>82.0</td>\n",
       "      <td>33.0</td>\n",
       "      <td>1010.8</td>\n",
       "      <td>1006.0</td>\n",
       "      <td>7.000000</td>\n",
       "      <td>8.000000</td>\n",
       "      <td>17.8</td>\n",
       "      <td>29.7</td>\n",
       "      <td>No</td>\n",
       "      <td>No</td>\n",
       "      <td>2008</td>\n",
       "      <td>12</td>\n",
       "      <td>5</td>\n",
       "    </tr>\n",
       "  </tbody>\n",
       "</table>\n",
       "</div>"
      ],
      "text/plain": [
       "  Location  MinTemp  MaxTemp  Rainfall  Evaporation  Sunshine WindGustDir  \\\n",
       "0   Albury     13.4     22.9       0.6     5.119906  7.632205           W   \n",
       "1   Albury      7.4     25.1       0.0     5.119906  7.632205         WNW   \n",
       "2   Albury     12.9     25.7       0.0     5.119906  7.632205         WSW   \n",
       "3   Albury      9.2     28.0       0.0     5.119906  7.632205          NE   \n",
       "4   Albury     17.5     32.3       1.0     5.119906  7.632205           W   \n",
       "\n",
       "   WindGustSpeed WindDir9am WindDir3pm  WindSpeed9am  WindSpeed3pm  \\\n",
       "0           44.0          W        WNW          20.0          24.0   \n",
       "1           44.0        NNW        WSW           4.0          22.0   \n",
       "2           46.0          W        WSW          19.0          26.0   \n",
       "3           24.0         SE          E          11.0           9.0   \n",
       "4           41.0        ENE         NW           7.0          20.0   \n",
       "\n",
       "   Humidity9am  Humidity3pm  Pressure9am  Pressure3pm  Cloud9am  Cloud3pm  \\\n",
       "0         71.0         22.0       1007.7       1007.1  8.000000  4.503183   \n",
       "1         44.0         25.0       1010.6       1007.8  4.566622  4.503183   \n",
       "2         38.0         30.0       1007.6       1008.7  4.566622  2.000000   \n",
       "3         45.0         16.0       1017.6       1012.8  4.566622  4.503183   \n",
       "4         82.0         33.0       1010.8       1006.0  7.000000  8.000000   \n",
       "\n",
       "   Temp9am  Temp3pm RainToday RainTomorrow  year  month  day  \n",
       "0     16.9     21.8        No           No  2008     12    1  \n",
       "1     17.2     24.3        No           No  2008     12    2  \n",
       "2     21.0     23.2        No           No  2008     12    3  \n",
       "3     18.1     26.5        No           No  2008     12    4  \n",
       "4     17.8     29.7        No           No  2008     12    5  "
      ]
     },
     "execution_count": 33,
     "metadata": {},
     "output_type": "execute_result"
    }
   ],
   "source": [
    "rain.head()"
   ]
  },
  {
   "cell_type": "markdown",
   "metadata": {},
   "source": [
    "### Univariate Analysis"
   ]
  },
  {
   "cell_type": "code",
   "execution_count": 34,
   "metadata": {
    "scrolled": false
   },
   "outputs": [
    {
     "data": {
      "text/plain": [
       "<AxesSubplot:>"
      ]
     },
     "execution_count": 34,
     "metadata": {},
     "output_type": "execute_result"
    },
    {
     "data": {
      "image/png": "[encoded data removed]",
      "text/plain": [
       "<Figure size 432x288 with 1 Axes>"
      ]
     },
     "metadata": {
      "needs_background": "light"
     },
     "output_type": "display_data"
    }
   ],
   "source": [
    "# Exploring RainTomorrow label\n",
    "\n",
    "rain['RainTomorrow'].value_counts().plot(kind='bar')"
   ]
  },
  {
   "cell_type": "markdown",
   "metadata": {},
   "source": [
    "Looks like Target variable is imbalanced. It has more 'No' values. If data is imbalanced, then it might decrease performance of model. As this data is released by the meteorological department of Australia, it doesn't make any sense when we try to balance target variable, because the truthfullness of data might descreases. So, let me keep it as it is."
   ]
  },
  {
   "cell_type": "code",
   "execution_count": 35,
   "metadata": {
    "scrolled": true
   },
   "outputs": [
    {
     "data": {
      "image/png": "[encoded data removed]",
      "text/plain": [
       "<Figure size 432x288 with 1 Axes>"
      ]
     },
     "metadata": {
      "needs_background": "light"
     },
     "output_type": "display_data"
    }
   ],
   "source": [
    "#Exploring RainToday Variable:\n",
    "\n",
    "sns.countplot(data=rain, x=\"RainToday\")\n",
    "plt.grid(linewidth = 0.5)\n",
    "plt.show()"
   ]
  },
  {
   "cell_type": "markdown",
   "metadata": {},
   "source": [
    "###  Multivariate Analysis"
   ]
  },
  {
   "cell_type": "code",
   "execution_count": 36,
   "metadata": {
    "scrolled": false
   },
   "outputs": [
    {
     "data": {
      "image/png": "[encoded data removed]",
      "text/plain": [
       "<Figure size 1440x720 with 1 Axes>"
      ]
     },
     "metadata": {
      "needs_background": "light"
     },
     "output_type": "display_data"
    }
   ],
   "source": [
    "plt.figure(figsize=(20,10))\n",
    "ax = sns.countplot(x=\"Location\", hue=\"RainTomorrow\", data=rain)"
   ]
  },
  {
   "cell_type": "code",
   "execution_count": 37,
   "metadata": {
    "scrolled": true
   },
   "outputs": [
    {
     "data": {
      "text/plain": [
       "<AxesSubplot:xlabel='Sunshine', ylabel='Rainfall'>"
      ]
     },
     "execution_count": 37,
     "metadata": {},
     "output_type": "execute_result"
    },
    {
     "data": {
      "image/png": "[encoded data removed]",
      "text/plain": [
       "<Figure size 432x288 with 1 Axes>"
      ]
     },
     "metadata": {
      "needs_background": "light"
     },
     "output_type": "display_data"
    }
   ],
   "source": [
    "sns.lineplot(data=rain,x='Sunshine',y='Rainfall',color='goldenrod')"
   ]
  },
  {
   "cell_type": "code",
   "execution_count": 38,
   "metadata": {},
   "outputs": [
    {
     "data": {
      "text/plain": [
       "array([[<AxesSubplot:title={'center':'MinTemp'}>,\n",
       "        <AxesSubplot:title={'center':'MaxTemp'}>,\n",
       "        <AxesSubplot:title={'center':'Rainfall'}>,\n",
       "        <AxesSubplot:title={'center':'Evaporation'}>],\n",
       "       [<AxesSubplot:title={'center':'Sunshine'}>,\n",
       "        <AxesSubplot:title={'center':'WindGustSpeed'}>,\n",
       "        <AxesSubplot:title={'center':'WindSpeed9am'}>,\n",
       "        <AxesSubplot:title={'center':'WindSpeed3pm'}>],\n",
       "       [<AxesSubplot:title={'center':'Humidity9am'}>,\n",
       "        <AxesSubplot:title={'center':'Humidity3pm'}>,\n",
       "        <AxesSubplot:title={'center':'Pressure9am'}>,\n",
       "        <AxesSubplot:title={'center':'Pressure3pm'}>],\n",
       "       [<AxesSubplot:title={'center':'Cloud9am'}>,\n",
       "        <AxesSubplot:title={'center':'Cloud3pm'}>,\n",
       "        <AxesSubplot:title={'center':'Temp9am'}>,\n",
       "        <AxesSubplot:title={'center':'Temp3pm'}>]], dtype=object)"
      ]
     },
     "execution_count": 38,
     "metadata": {},
     "output_type": "execute_result"
    },
    {
     "data": {
      "image/png": "[encoded data removed]",
      "text/plain": [
       "<Figure size 1440x1440 with 16 Axes>"
      ]
     },
     "metadata": {
      "needs_background": "light"
     },
     "output_type": "display_data"
    }
   ],
   "source": [
    "num_features = ['MinTemp', 'MaxTemp', 'Rainfall', 'Evaporation', 'Sunshine', 'WindGustSpeed', 'WindSpeed9am', 'WindSpeed3pm', 'Humidity9am', 'Humidity3pm', 'Pressure9am', 'Pressure3pm', 'Cloud9am', 'Cloud3pm', 'Temp9am', 'Temp3pm']\n",
    "rain[num_features].hist(bins=10,figsize=(20,20))"
   ]
  },
  {
   "cell_type": "markdown",
   "metadata": {},
   "source": [
    "Correlation: Correlation is a statistic that helps to measure the strength of relationship between features. \n"
   ]
  },
  {
   "cell_type": "code",
   "execution_count": 39,
   "metadata": {
    "scrolled": false
   },
   "outputs": [
    {
     "data": {
      "text/html": [
       "<div>\n",
       "<style scoped>\n",
       "    .dataframe tbody tr th:only-of-type {\n",
       "        vertical-align: middle;\n",
       "    }\n",
       "\n",
       "    .dataframe tbody tr th {\n",
       "        vertical-align: top;\n",
       "    }\n",
       "\n",
       "    .dataframe thead th {\n",
       "        text-align: right;\n",
       "    }\n",
       "</style>\n",
       "<table border=\"1\" class=\"dataframe\">\n",
       "  <thead>\n",
       "    <tr style=\"text-align: right;\">\n",
       "      <th></th>\n",
       "      <th>MinTemp</th>\n",
       "      <th>MaxTemp</th>\n",
       "      <th>Rainfall</th>\n",
       "      <th>Evaporation</th>\n",
       "      <th>Sunshine</th>\n",
       "      <th>WindGustSpeed</th>\n",
       "      <th>WindSpeed9am</th>\n",
       "      <th>WindSpeed3pm</th>\n",
       "      <th>Humidity9am</th>\n",
       "      <th>Humidity3pm</th>\n",
       "      <th>Pressure9am</th>\n",
       "      <th>Pressure3pm</th>\n",
       "      <th>Cloud9am</th>\n",
       "      <th>Cloud3pm</th>\n",
       "      <th>Temp9am</th>\n",
       "      <th>Temp3pm</th>\n",
       "      <th>year</th>\n",
       "      <th>month</th>\n",
       "      <th>day</th>\n",
       "    </tr>\n",
       "  </thead>\n",
       "  <tbody>\n",
       "    <tr>\n",
       "      <th>MinTemp</th>\n",
       "      <td>1.000000</td>\n",
       "      <td>0.718001</td>\n",
       "      <td>0.075556</td>\n",
       "      <td>0.378765</td>\n",
       "      <td>0.056184</td>\n",
       "      <td>0.232307</td>\n",
       "      <td>0.139208</td>\n",
       "      <td>0.182028</td>\n",
       "      <td>-0.130330</td>\n",
       "      <td>0.079048</td>\n",
       "      <td>-0.431617</td>\n",
       "      <td>-0.425306</td>\n",
       "      <td>0.091604</td>\n",
       "      <td>0.038414</td>\n",
       "      <td>0.887190</td>\n",
       "      <td>0.686292</td>\n",
       "      <td>0.044123</td>\n",
       "      <td>-0.245854</td>\n",
       "      <td>0.009446</td>\n",
       "    </tr>\n",
       "    <tr>\n",
       "      <th>MaxTemp</th>\n",
       "      <td>0.718001</td>\n",
       "      <td>1.000000</td>\n",
       "      <td>-0.235267</td>\n",
       "      <td>0.471384</td>\n",
       "      <td>0.379266</td>\n",
       "      <td>0.140585</td>\n",
       "      <td>0.011687</td>\n",
       "      <td>0.090981</td>\n",
       "      <td>-0.390515</td>\n",
       "      <td>-0.421429</td>\n",
       "      <td>-0.328197</td>\n",
       "      <td>-0.406001</td>\n",
       "      <td>-0.254414</td>\n",
       "      <td>-0.250543</td>\n",
       "      <td>0.866698</td>\n",
       "      <td>0.974538</td>\n",
       "      <td>0.119702</td>\n",
       "      <td>-0.162506</td>\n",
       "      <td>0.015722</td>\n",
       "    </tr>\n",
       "    <tr>\n",
       "      <th>Rainfall</th>\n",
       "      <td>0.075556</td>\n",
       "      <td>-0.235267</td>\n",
       "      <td>1.000000</td>\n",
       "      <td>-0.164845</td>\n",
       "      <td>-0.255176</td>\n",
       "      <td>0.087183</td>\n",
       "      <td>0.045306</td>\n",
       "      <td>0.027078</td>\n",
       "      <td>0.404765</td>\n",
       "      <td>0.384859</td>\n",
       "      <td>-0.117617</td>\n",
       "      <td>-0.040890</td>\n",
       "      <td>0.307582</td>\n",
       "      <td>0.263521</td>\n",
       "      <td>-0.099851</td>\n",
       "      <td>-0.245436</td>\n",
       "      <td>0.003306</td>\n",
       "      <td>0.001672</td>\n",
       "      <td>-0.017648</td>\n",
       "    </tr>\n",
       "    <tr>\n",
       "      <th>Evaporation</th>\n",
       "      <td>0.378765</td>\n",
       "      <td>0.471384</td>\n",
       "      <td>-0.164845</td>\n",
       "      <td>1.000000</td>\n",
       "      <td>0.346654</td>\n",
       "      <td>0.208527</td>\n",
       "      <td>0.166081</td>\n",
       "      <td>0.132428</td>\n",
       "      <td>-0.332103</td>\n",
       "      <td>-0.240127</td>\n",
       "      <td>-0.260124</td>\n",
       "      <td>-0.272803</td>\n",
       "      <td>-0.117655</td>\n",
       "      <td>-0.147804</td>\n",
       "      <td>0.450422</td>\n",
       "      <td>0.458000</td>\n",
       "      <td>0.141970</td>\n",
       "      <td>-0.037221</td>\n",
       "      <td>0.015207</td>\n",
       "    </tr>\n",
       "    <tr>\n",
       "      <th>Sunshine</th>\n",
       "      <td>0.056184</td>\n",
       "      <td>0.379266</td>\n",
       "      <td>-0.255176</td>\n",
       "      <td>0.346654</td>\n",
       "      <td>1.000000</td>\n",
       "      <td>-0.012151</td>\n",
       "      <td>-0.017446</td>\n",
       "      <td>0.031878</td>\n",
       "      <td>-0.360958</td>\n",
       "      <td>-0.440268</td>\n",
       "      <td>0.020120</td>\n",
       "      <td>-0.037756</td>\n",
       "      <td>-0.533391</td>\n",
       "      <td>-0.547304</td>\n",
       "      <td>0.250559</td>\n",
       "      <td>0.396694</td>\n",
       "      <td>0.065374</td>\n",
       "      <td>-0.006694</td>\n",
       "      <td>0.004662</td>\n",
       "    </tr>\n",
       "    <tr>\n",
       "      <th>WindGustSpeed</th>\n",
       "      <td>0.232307</td>\n",
       "      <td>0.140585</td>\n",
       "      <td>0.087183</td>\n",
       "      <td>0.208527</td>\n",
       "      <td>-0.012151</td>\n",
       "      <td>1.000000</td>\n",
       "      <td>0.601377</td>\n",
       "      <td>0.640967</td>\n",
       "      <td>-0.271939</td>\n",
       "      <td>-0.092607</td>\n",
       "      <td>-0.404907</td>\n",
       "      <td>-0.369817</td>\n",
       "      <td>0.022342</td>\n",
       "      <td>0.078299</td>\n",
       "      <td>0.204029</td>\n",
       "      <td>0.103139</td>\n",
       "      <td>-0.041851</td>\n",
       "      <td>0.050826</td>\n",
       "      <td>-0.002990</td>\n",
       "    </tr>\n",
       "    <tr>\n",
       "      <th>WindSpeed9am</th>\n",
       "      <td>0.139208</td>\n",
       "      <td>0.011687</td>\n",
       "      <td>0.045306</td>\n",
       "      <td>0.166081</td>\n",
       "      <td>-0.017446</td>\n",
       "      <td>0.601377</td>\n",
       "      <td>1.000000</td>\n",
       "      <td>0.564137</td>\n",
       "      <td>-0.359724</td>\n",
       "      <td>-0.108080</td>\n",
       "      <td>-0.174375</td>\n",
       "      <td>-0.135352</td>\n",
       "      <td>0.000076</td>\n",
       "      <td>0.056551</td>\n",
       "      <td>0.110262</td>\n",
       "      <td>-0.004690</td>\n",
       "      <td>-0.089078</td>\n",
       "      <td>0.038560</td>\n",
       "      <td>-0.004590</td>\n",
       "    </tr>\n",
       "    <tr>\n",
       "      <th>WindSpeed3pm</th>\n",
       "      <td>0.182028</td>\n",
       "      <td>0.090981</td>\n",
       "      <td>0.027078</td>\n",
       "      <td>0.132428</td>\n",
       "      <td>0.031878</td>\n",
       "      <td>0.640967</td>\n",
       "      <td>0.564137</td>\n",
       "      <td>1.000000</td>\n",
       "      <td>-0.252167</td>\n",
       "      <td>-0.089889</td>\n",
       "      <td>-0.250575</td>\n",
       "      <td>-0.205115</td>\n",
       "      <td>0.006831</td>\n",
       "      <td>0.004431</td>\n",
       "      <td>0.187655</td>\n",
       "      <td>0.068461</td>\n",
       "      <td>-0.055169</td>\n",
       "      <td>0.047180</td>\n",
       "      <td>-0.008772</td>\n",
       "    </tr>\n",
       "    <tr>\n",
       "      <th>Humidity9am</th>\n",
       "      <td>-0.130330</td>\n",
       "      <td>-0.390515</td>\n",
       "      <td>0.404765</td>\n",
       "      <td>-0.332103</td>\n",
       "      <td>-0.360958</td>\n",
       "      <td>-0.271939</td>\n",
       "      <td>-0.359724</td>\n",
       "      <td>-0.252167</td>\n",
       "      <td>1.000000</td>\n",
       "      <td>0.633368</td>\n",
       "      <td>0.143685</td>\n",
       "      <td>0.175286</td>\n",
       "      <td>0.405018</td>\n",
       "      <td>0.297133</td>\n",
       "      <td>-0.377312</td>\n",
       "      <td>-0.382141</td>\n",
       "      <td>0.100039</td>\n",
       "      <td>-0.115279</td>\n",
       "      <td>0.003970</td>\n",
       "    </tr>\n",
       "    <tr>\n",
       "      <th>Humidity3pm</th>\n",
       "      <td>0.079048</td>\n",
       "      <td>-0.421429</td>\n",
       "      <td>0.384859</td>\n",
       "      <td>-0.240127</td>\n",
       "      <td>-0.440268</td>\n",
       "      <td>-0.092607</td>\n",
       "      <td>-0.108080</td>\n",
       "      <td>-0.089889</td>\n",
       "      <td>0.633368</td>\n",
       "      <td>1.000000</td>\n",
       "      <td>0.002390</td>\n",
       "      <td>0.071555</td>\n",
       "      <td>0.424348</td>\n",
       "      <td>0.439965</td>\n",
       "      <td>-0.130367</td>\n",
       "      <td>-0.490686</td>\n",
       "      <td>-0.028920</td>\n",
       "      <td>-0.074256</td>\n",
       "      <td>0.012512</td>\n",
       "    </tr>\n",
       "    <tr>\n",
       "      <th>Pressure9am</th>\n",
       "      <td>-0.431617</td>\n",
       "      <td>-0.328197</td>\n",
       "      <td>-0.117617</td>\n",
       "      <td>-0.260124</td>\n",
       "      <td>0.020120</td>\n",
       "      <td>-0.404907</td>\n",
       "      <td>-0.174375</td>\n",
       "      <td>-0.250575</td>\n",
       "      <td>0.143685</td>\n",
       "      <td>0.002390</td>\n",
       "      <td>1.000000</td>\n",
       "      <td>0.961286</td>\n",
       "      <td>-0.069773</td>\n",
       "      <td>-0.081895</td>\n",
       "      <td>-0.413180</td>\n",
       "      <td>-0.285463</td>\n",
       "      <td>0.029419</td>\n",
       "      <td>0.008721</td>\n",
       "      <td>-0.016035</td>\n",
       "    </tr>\n",
       "    <tr>\n",
       "      <th>Pressure3pm</th>\n",
       "      <td>-0.425306</td>\n",
       "      <td>-0.406001</td>\n",
       "      <td>-0.040890</td>\n",
       "      <td>-0.272803</td>\n",
       "      <td>-0.037756</td>\n",
       "      <td>-0.369817</td>\n",
       "      <td>-0.135352</td>\n",
       "      <td>-0.205115</td>\n",
       "      <td>0.175286</td>\n",
       "      <td>0.071555</td>\n",
       "      <td>0.961286</td>\n",
       "      <td>1.000000</td>\n",
       "      <td>-0.011046</td>\n",
       "      <td>-0.027673</td>\n",
       "      <td>-0.441903</td>\n",
       "      <td>-0.372298</td>\n",
       "      <td>0.013105</td>\n",
       "      <td>0.003524</td>\n",
       "      <td>-0.012218</td>\n",
       "    </tr>\n",
       "    <tr>\n",
       "      <th>Cloud9am</th>\n",
       "      <td>0.091604</td>\n",
       "      <td>-0.254414</td>\n",
       "      <td>0.307582</td>\n",
       "      <td>-0.117655</td>\n",
       "      <td>-0.533391</td>\n",
       "      <td>0.022342</td>\n",
       "      <td>0.000076</td>\n",
       "      <td>0.006831</td>\n",
       "      <td>0.405018</td>\n",
       "      <td>0.424348</td>\n",
       "      <td>-0.069773</td>\n",
       "      <td>-0.011046</td>\n",
       "      <td>1.000000</td>\n",
       "      <td>0.574943</td>\n",
       "      <td>-0.135452</td>\n",
       "      <td>-0.269587</td>\n",
       "      <td>0.006788</td>\n",
       "      <td>-0.012628</td>\n",
       "      <td>-0.008100</td>\n",
       "    </tr>\n",
       "    <tr>\n",
       "      <th>Cloud3pm</th>\n",
       "      <td>0.038414</td>\n",
       "      <td>-0.250543</td>\n",
       "      <td>0.263521</td>\n",
       "      <td>-0.147804</td>\n",
       "      <td>-0.547304</td>\n",
       "      <td>0.078299</td>\n",
       "      <td>0.056551</td>\n",
       "      <td>0.004431</td>\n",
       "      <td>0.297133</td>\n",
       "      <td>0.439965</td>\n",
       "      <td>-0.081895</td>\n",
       "      <td>-0.027673</td>\n",
       "      <td>0.574943</td>\n",
       "      <td>1.000000</td>\n",
       "      <td>-0.125789</td>\n",
       "      <td>-0.292475</td>\n",
       "      <td>-0.010801</td>\n",
       "      <td>0.002344</td>\n",
       "      <td>0.000664</td>\n",
       "    </tr>\n",
       "    <tr>\n",
       "      <th>Temp9am</th>\n",
       "      <td>0.887190</td>\n",
       "      <td>0.866698</td>\n",
       "      <td>-0.099851</td>\n",
       "      <td>0.450422</td>\n",
       "      <td>0.250559</td>\n",
       "      <td>0.204029</td>\n",
       "      <td>0.110262</td>\n",
       "      <td>0.187655</td>\n",
       "      <td>-0.377312</td>\n",
       "      <td>-0.130367</td>\n",
       "      <td>-0.413180</td>\n",
       "      <td>-0.441903</td>\n",
       "      <td>-0.135452</td>\n",
       "      <td>-0.125789</td>\n",
       "      <td>1.000000</td>\n",
       "      <td>0.835398</td>\n",
       "      <td>0.088618</td>\n",
       "      <td>-0.164975</td>\n",
       "      <td>0.010945</td>\n",
       "    </tr>\n",
       "    <tr>\n",
       "      <th>Temp3pm</th>\n",
       "      <td>0.686292</td>\n",
       "      <td>0.974538</td>\n",
       "      <td>-0.245436</td>\n",
       "      <td>0.458000</td>\n",
       "      <td>0.396694</td>\n",
       "      <td>0.103139</td>\n",
       "      <td>-0.004690</td>\n",
       "      <td>0.068461</td>\n",
       "      <td>-0.382141</td>\n",
       "      <td>-0.490686</td>\n",
       "      <td>-0.285463</td>\n",
       "      <td>-0.372298</td>\n",
       "      <td>-0.269587</td>\n",
       "      <td>-0.292475</td>\n",
       "      <td>0.835398</td>\n",
       "      <td>1.000000</td>\n",
       "      <td>0.132702</td>\n",
       "      <td>-0.175610</td>\n",
       "      <td>0.012785</td>\n",
       "    </tr>\n",
       "    <tr>\n",
       "      <th>year</th>\n",
       "      <td>0.044123</td>\n",
       "      <td>0.119702</td>\n",
       "      <td>0.003306</td>\n",
       "      <td>0.141970</td>\n",
       "      <td>0.065374</td>\n",
       "      <td>-0.041851</td>\n",
       "      <td>-0.089078</td>\n",
       "      <td>-0.055169</td>\n",
       "      <td>0.100039</td>\n",
       "      <td>-0.028920</td>\n",
       "      <td>0.029419</td>\n",
       "      <td>0.013105</td>\n",
       "      <td>0.006788</td>\n",
       "      <td>-0.010801</td>\n",
       "      <td>0.088618</td>\n",
       "      <td>0.132702</td>\n",
       "      <td>1.000000</td>\n",
       "      <td>-0.090394</td>\n",
       "      <td>-0.003836</td>\n",
       "    </tr>\n",
       "    <tr>\n",
       "      <th>month</th>\n",
       "      <td>-0.245854</td>\n",
       "      <td>-0.162506</td>\n",
       "      <td>0.001672</td>\n",
       "      <td>-0.037221</td>\n",
       "      <td>-0.006694</td>\n",
       "      <td>0.050826</td>\n",
       "      <td>0.038560</td>\n",
       "      <td>0.047180</td>\n",
       "      <td>-0.115279</td>\n",
       "      <td>-0.074256</td>\n",
       "      <td>0.008721</td>\n",
       "      <td>0.003524</td>\n",
       "      <td>-0.012628</td>\n",
       "      <td>0.002344</td>\n",
       "      <td>-0.164975</td>\n",
       "      <td>-0.175610</td>\n",
       "      <td>-0.090394</td>\n",
       "      <td>1.000000</td>\n",
       "      <td>0.004386</td>\n",
       "    </tr>\n",
       "    <tr>\n",
       "      <th>day</th>\n",
       "      <td>0.009446</td>\n",
       "      <td>0.015722</td>\n",
       "      <td>-0.017648</td>\n",
       "      <td>0.015207</td>\n",
       "      <td>0.004662</td>\n",
       "      <td>-0.002990</td>\n",
       "      <td>-0.004590</td>\n",
       "      <td>-0.008772</td>\n",
       "      <td>0.003970</td>\n",
       "      <td>0.012512</td>\n",
       "      <td>-0.016035</td>\n",
       "      <td>-0.012218</td>\n",
       "      <td>-0.008100</td>\n",
       "      <td>0.000664</td>\n",
       "      <td>0.010945</td>\n",
       "      <td>0.012785</td>\n",
       "      <td>-0.003836</td>\n",
       "      <td>0.004386</td>\n",
       "      <td>1.000000</td>\n",
       "    </tr>\n",
       "  </tbody>\n",
       "</table>\n",
       "</div>"
      ],
      "text/plain": [
       "                MinTemp   MaxTemp  Rainfall  Evaporation  Sunshine  \\\n",
       "MinTemp        1.000000  0.718001  0.075556     0.378765  0.056184   \n",
       "MaxTemp        0.718001  1.000000 -0.235267     0.471384  0.379266   \n",
       "Rainfall       0.075556 -0.235267  1.000000    -0.164845 -0.255176   \n",
       "Evaporation    0.378765  0.471384 -0.164845     1.000000  0.346654   \n",
       "Sunshine       0.056184  0.379266 -0.255176     0.346654  1.000000   \n",
       "WindGustSpeed  0.232307  0.140585  0.087183     0.208527 -0.012151   \n",
       "WindSpeed9am   0.139208  0.011687  0.045306     0.166081 -0.017446   \n",
       "WindSpeed3pm   0.182028  0.090981  0.027078     0.132428  0.031878   \n",
       "Humidity9am   -0.130330 -0.390515  0.404765    -0.332103 -0.360958   \n",
       "Humidity3pm    0.079048 -0.421429  0.384859    -0.240127 -0.440268   \n",
       "Pressure9am   -0.431617 -0.328197 -0.117617    -0.260124  0.020120   \n",
       "Pressure3pm   -0.425306 -0.406001 -0.040890    -0.272803 -0.037756   \n",
       "Cloud9am       0.091604 -0.254414  0.307582    -0.117655 -0.533391   \n",
       "Cloud3pm       0.038414 -0.250543  0.263521    -0.147804 -0.547304   \n",
       "Temp9am        0.887190  0.866698 -0.099851     0.450422  0.250559   \n",
       "Temp3pm        0.686292  0.974538 -0.245436     0.458000  0.396694   \n",
       "year           0.044123  0.119702  0.003306     0.141970  0.065374   \n",
       "month         -0.245854 -0.162506  0.001672    -0.037221 -0.006694   \n",
       "day            0.009446  0.015722 -0.017648     0.015207  0.004662   \n",
       "\n",
       "               WindGustSpeed  WindSpeed9am  WindSpeed3pm  Humidity9am  \\\n",
       "MinTemp             0.232307      0.139208      0.182028    -0.130330   \n",
       "MaxTemp             0.140585      0.011687      0.090981    -0.390515   \n",
       "Rainfall            0.087183      0.045306      0.027078     0.404765   \n",
       "Evaporation         0.208527      0.166081      0.132428    -0.332103   \n",
       "Sunshine           -0.012151     -0.017446      0.031878    -0.360958   \n",
       "WindGustSpeed       1.000000      0.601377      0.640967    -0.271939   \n",
       "WindSpeed9am        0.601377      1.000000      0.564137    -0.359724   \n",
       "WindSpeed3pm        0.640967      0.564137      1.000000    -0.252167   \n",
       "Humidity9am        -0.271939     -0.359724     -0.252167     1.000000   \n",
       "Humidity3pm        -0.092607     -0.108080     -0.089889     0.633368   \n",
       "Pressure9am        -0.404907     -0.174375     -0.250575     0.143685   \n",
       "Pressure3pm        -0.369817     -0.135352     -0.205115     0.175286   \n",
       "Cloud9am            0.022342      0.000076      0.006831     0.405018   \n",
       "Cloud3pm            0.078299      0.056551      0.004431     0.297133   \n",
       "Temp9am             0.204029      0.110262      0.187655    -0.377312   \n",
       "Temp3pm             0.103139     -0.004690      0.068461    -0.382141   \n",
       "year               -0.041851     -0.089078     -0.055169     0.100039   \n",
       "month               0.050826      0.038560      0.047180    -0.115279   \n",
       "day                -0.002990     -0.004590     -0.008772     0.003970   \n",
       "\n",
       "               Humidity3pm  Pressure9am  Pressure3pm  Cloud9am  Cloud3pm  \\\n",
       "MinTemp           0.079048    -0.431617    -0.425306  0.091604  0.038414   \n",
       "MaxTemp          -0.421429    -0.328197    -0.406001 -0.254414 -0.250543   \n",
       "Rainfall          0.384859    -0.117617    -0.040890  0.307582  0.263521   \n",
       "Evaporation      -0.240127    -0.260124    -0.272803 -0.117655 -0.147804   \n",
       "Sunshine         -0.440268     0.020120    -0.037756 -0.533391 -0.547304   \n",
       "WindGustSpeed    -0.092607    -0.404907    -0.369817  0.022342  0.078299   \n",
       "WindSpeed9am     -0.108080    -0.174375    -0.135352  0.000076  0.056551   \n",
       "WindSpeed3pm     -0.089889    -0.250575    -0.205115  0.006831  0.004431   \n",
       "Humidity9am       0.633368     0.143685     0.175286  0.405018  0.297133   \n",
       "Humidity3pm       1.000000     0.002390     0.071555  0.424348  0.439965   \n",
       "Pressure9am       0.002390     1.000000     0.961286 -0.069773 -0.081895   \n",
       "Pressure3pm       0.071555     0.961286     1.000000 -0.011046 -0.027673   \n",
       "Cloud9am          0.424348    -0.069773    -0.011046  1.000000  0.574943   \n",
       "Cloud3pm          0.439965    -0.081895    -0.027673  0.574943  1.000000   \n",
       "Temp9am          -0.130367    -0.413180    -0.441903 -0.135452 -0.125789   \n",
       "Temp3pm          -0.490686    -0.285463    -0.372298 -0.269587 -0.292475   \n",
       "year             -0.028920     0.029419     0.013105  0.006788 -0.010801   \n",
       "month            -0.074256     0.008721     0.003524 -0.012628  0.002344   \n",
       "day               0.012512    -0.016035    -0.012218 -0.008100  0.000664   \n",
       "\n",
       "                Temp9am   Temp3pm      year     month       day  \n",
       "MinTemp        0.887190  0.686292  0.044123 -0.245854  0.009446  \n",
       "MaxTemp        0.866698  0.974538  0.119702 -0.162506  0.015722  \n",
       "Rainfall      -0.099851 -0.245436  0.003306  0.001672 -0.017648  \n",
       "Evaporation    0.450422  0.458000  0.141970 -0.037221  0.015207  \n",
       "Sunshine       0.250559  0.396694  0.065374 -0.006694  0.004662  \n",
       "WindGustSpeed  0.204029  0.103139 -0.041851  0.050826 -0.002990  \n",
       "WindSpeed9am   0.110262 -0.004690 -0.089078  0.038560 -0.004590  \n",
       "WindSpeed3pm   0.187655  0.068461 -0.055169  0.047180 -0.008772  \n",
       "Humidity9am   -0.377312 -0.382141  0.100039 -0.115279  0.003970  \n",
       "Humidity3pm   -0.130367 -0.490686 -0.028920 -0.074256  0.012512  \n",
       "Pressure9am   -0.413180 -0.285463  0.029419  0.008721 -0.016035  \n",
       "Pressure3pm   -0.441903 -0.372298  0.013105  0.003524 -0.012218  \n",
       "Cloud9am      -0.135452 -0.269587  0.006788 -0.012628 -0.008100  \n",
       "Cloud3pm      -0.125789 -0.292475 -0.010801  0.002344  0.000664  \n",
       "Temp9am        1.000000  0.835398  0.088618 -0.164975  0.010945  \n",
       "Temp3pm        0.835398  1.000000  0.132702 -0.175610  0.012785  \n",
       "year           0.088618  0.132702  1.000000 -0.090394 -0.003836  \n",
       "month         -0.164975 -0.175610 -0.090394  1.000000  0.004386  \n",
       "day            0.010945  0.012785 -0.003836  0.004386  1.000000  "
      ]
     },
     "execution_count": 39,
     "metadata": {},
     "output_type": "execute_result"
    }
   ],
   "source": [
    "rain.corr()"
   ]
  },
  {
   "cell_type": "code",
   "execution_count": 40,
   "metadata": {
    "scrolled": false
   },
   "outputs": [
    {
     "data": {
      "text/plain": [
       "<AxesSubplot:>"
      ]
     },
     "execution_count": 40,
     "metadata": {},
     "output_type": "execute_result"
    },
    {
     "data": {
      "image/png": "[encoded data removed]",
      "text/plain": [
       "<Figure size 1440x1440 with 2 Axes>"
      ]
     },
     "metadata": {
      "needs_background": "light"
     },
     "output_type": "display_data"
    }
   ],
   "source": [
    "plt.figure(figsize=(20,20))\n",
    "sns.heatmap(rain.corr(),linewidths=0.5,annot=True,fmt=\".2f\", cmap = 'Blues')"
   ]
  },
  {
   "cell_type": "code",
   "execution_count": 41,
   "metadata": {
    "scrolled": true
   },
   "outputs": [
    {
     "data": {
      "text/html": [
       "<div>\n",
       "<style scoped>\n",
       "    .dataframe tbody tr th:only-of-type {\n",
       "        vertical-align: middle;\n",
       "    }\n",
       "\n",
       "    .dataframe tbody tr th {\n",
       "        vertical-align: top;\n",
       "    }\n",
       "\n",
       "    .dataframe thead th {\n",
       "        text-align: right;\n",
       "    }\n",
       "</style>\n",
       "<table border=\"1\" class=\"dataframe\">\n",
       "  <thead>\n",
       "    <tr style=\"text-align: right;\">\n",
       "      <th></th>\n",
       "      <th>Location</th>\n",
       "      <th>MinTemp</th>\n",
       "      <th>MaxTemp</th>\n",
       "      <th>Rainfall</th>\n",
       "      <th>Evaporation</th>\n",
       "      <th>Sunshine</th>\n",
       "      <th>WindGustDir</th>\n",
       "      <th>WindGustSpeed</th>\n",
       "      <th>WindDir9am</th>\n",
       "      <th>WindDir3pm</th>\n",
       "      <th>WindSpeed9am</th>\n",
       "      <th>WindSpeed3pm</th>\n",
       "      <th>Humidity9am</th>\n",
       "      <th>Humidity3pm</th>\n",
       "      <th>Pressure9am</th>\n",
       "      <th>Pressure3pm</th>\n",
       "      <th>Cloud9am</th>\n",
       "      <th>Cloud3pm</th>\n",
       "      <th>Temp9am</th>\n",
       "      <th>Temp3pm</th>\n",
       "      <th>RainToday</th>\n",
       "      <th>RainTomorrow</th>\n",
       "      <th>year</th>\n",
       "      <th>month</th>\n",
       "      <th>day</th>\n",
       "    </tr>\n",
       "  </thead>\n",
       "  <tbody>\n",
       "    <tr>\n",
       "      <th>0</th>\n",
       "      <td>Albury</td>\n",
       "      <td>13.4</td>\n",
       "      <td>22.9</td>\n",
       "      <td>0.6</td>\n",
       "      <td>5.119906</td>\n",
       "      <td>7.632205</td>\n",
       "      <td>W</td>\n",
       "      <td>44.0</td>\n",
       "      <td>W</td>\n",
       "      <td>WNW</td>\n",
       "      <td>20.0</td>\n",
       "      <td>24.0</td>\n",
       "      <td>71.0</td>\n",
       "      <td>22.0</td>\n",
       "      <td>1007.7</td>\n",
       "      <td>1007.1</td>\n",
       "      <td>8.000000</td>\n",
       "      <td>4.503183</td>\n",
       "      <td>16.9</td>\n",
       "      <td>21.8</td>\n",
       "      <td>No</td>\n",
       "      <td>No</td>\n",
       "      <td>2008</td>\n",
       "      <td>12</td>\n",
       "      <td>1</td>\n",
       "    </tr>\n",
       "    <tr>\n",
       "      <th>1</th>\n",
       "      <td>Albury</td>\n",
       "      <td>7.4</td>\n",
       "      <td>25.1</td>\n",
       "      <td>0.0</td>\n",
       "      <td>5.119906</td>\n",
       "      <td>7.632205</td>\n",
       "      <td>WNW</td>\n",
       "      <td>44.0</td>\n",
       "      <td>NNW</td>\n",
       "      <td>WSW</td>\n",
       "      <td>4.0</td>\n",
       "      <td>22.0</td>\n",
       "      <td>44.0</td>\n",
       "      <td>25.0</td>\n",
       "      <td>1010.6</td>\n",
       "      <td>1007.8</td>\n",
       "      <td>4.566622</td>\n",
       "      <td>4.503183</td>\n",
       "      <td>17.2</td>\n",
       "      <td>24.3</td>\n",
       "      <td>No</td>\n",
       "      <td>No</td>\n",
       "      <td>2008</td>\n",
       "      <td>12</td>\n",
       "      <td>2</td>\n",
       "    </tr>\n",
       "    <tr>\n",
       "      <th>2</th>\n",
       "      <td>Albury</td>\n",
       "      <td>12.9</td>\n",
       "      <td>25.7</td>\n",
       "      <td>0.0</td>\n",
       "      <td>5.119906</td>\n",
       "      <td>7.632205</td>\n",
       "      <td>WSW</td>\n",
       "      <td>46.0</td>\n",
       "      <td>W</td>\n",
       "      <td>WSW</td>\n",
       "      <td>19.0</td>\n",
       "      <td>26.0</td>\n",
       "      <td>38.0</td>\n",
       "      <td>30.0</td>\n",
       "      <td>1007.6</td>\n",
       "      <td>1008.7</td>\n",
       "      <td>4.566622</td>\n",
       "      <td>2.000000</td>\n",
       "      <td>21.0</td>\n",
       "      <td>23.2</td>\n",
       "      <td>No</td>\n",
       "      <td>No</td>\n",
       "      <td>2008</td>\n",
       "      <td>12</td>\n",
       "      <td>3</td>\n",
       "    </tr>\n",
       "    <tr>\n",
       "      <th>3</th>\n",
       "      <td>Albury</td>\n",
       "      <td>9.2</td>\n",
       "      <td>28.0</td>\n",
       "      <td>0.0</td>\n",
       "      <td>5.119906</td>\n",
       "      <td>7.632205</td>\n",
       "      <td>NE</td>\n",
       "      <td>24.0</td>\n",
       "      <td>SE</td>\n",
       "      <td>E</td>\n",
       "      <td>11.0</td>\n",
       "      <td>9.0</td>\n",
       "      <td>45.0</td>\n",
       "      <td>16.0</td>\n",
       "      <td>1017.6</td>\n",
       "      <td>1012.8</td>\n",
       "      <td>4.566622</td>\n",
       "      <td>4.503183</td>\n",
       "      <td>18.1</td>\n",
       "      <td>26.5</td>\n",
       "      <td>No</td>\n",
       "      <td>No</td>\n",
       "      <td>2008</td>\n",
       "      <td>12</td>\n",
       "      <td>4</td>\n",
       "    </tr>\n",
       "    <tr>\n",
       "      <th>4</th>\n",
       "      <td>Albury</td>\n",
       "      <td>17.5</td>\n",
       "      <td>32.3</td>\n",
       "      <td>1.0</td>\n",
       "      <td>5.119906</td>\n",
       "      <td>7.632205</td>\n",
       "      <td>W</td>\n",
       "      <td>41.0</td>\n",
       "      <td>ENE</td>\n",
       "      <td>NW</td>\n",
       "      <td>7.0</td>\n",
       "      <td>20.0</td>\n",
       "      <td>82.0</td>\n",
       "      <td>33.0</td>\n",
       "      <td>1010.8</td>\n",
       "      <td>1006.0</td>\n",
       "      <td>7.000000</td>\n",
       "      <td>8.000000</td>\n",
       "      <td>17.8</td>\n",
       "      <td>29.7</td>\n",
       "      <td>No</td>\n",
       "      <td>No</td>\n",
       "      <td>2008</td>\n",
       "      <td>12</td>\n",
       "      <td>5</td>\n",
       "    </tr>\n",
       "  </tbody>\n",
       "</table>\n",
       "</div>"
      ],
      "text/plain": [
       "  Location  MinTemp  MaxTemp  Rainfall  Evaporation  Sunshine WindGustDir  \\\n",
       "0   Albury     13.4     22.9       0.6     5.119906  7.632205           W   \n",
       "1   Albury      7.4     25.1       0.0     5.119906  7.632205         WNW   \n",
       "2   Albury     12.9     25.7       0.0     5.119906  7.632205         WSW   \n",
       "3   Albury      9.2     28.0       0.0     5.119906  7.632205          NE   \n",
       "4   Albury     17.5     32.3       1.0     5.119906  7.632205           W   \n",
       "\n",
       "   WindGustSpeed WindDir9am WindDir3pm  WindSpeed9am  WindSpeed3pm  \\\n",
       "0           44.0          W        WNW          20.0          24.0   \n",
       "1           44.0        NNW        WSW           4.0          22.0   \n",
       "2           46.0          W        WSW          19.0          26.0   \n",
       "3           24.0         SE          E          11.0           9.0   \n",
       "4           41.0        ENE         NW           7.0          20.0   \n",
       "\n",
       "   Humidity9am  Humidity3pm  Pressure9am  Pressure3pm  Cloud9am  Cloud3pm  \\\n",
       "0         71.0         22.0       1007.7       1007.1  8.000000  4.503183   \n",
       "1         44.0         25.0       1010.6       1007.8  4.566622  4.503183   \n",
       "2         38.0         30.0       1007.6       1008.7  4.566622  2.000000   \n",
       "3         45.0         16.0       1017.6       1012.8  4.566622  4.503183   \n",
       "4         82.0         33.0       1010.8       1006.0  7.000000  8.000000   \n",
       "\n",
       "   Temp9am  Temp3pm RainToday RainTomorrow  year  month  day  \n",
       "0     16.9     21.8        No           No  2008     12    1  \n",
       "1     17.2     24.3        No           No  2008     12    2  \n",
       "2     21.0     23.2        No           No  2008     12    3  \n",
       "3     18.1     26.5        No           No  2008     12    4  \n",
       "4     17.8     29.7        No           No  2008     12    5  "
      ]
     },
     "execution_count": 41,
     "metadata": {},
     "output_type": "execute_result"
    }
   ],
   "source": [
    "rain.head()"
   ]
  },
  {
   "cell_type": "markdown",
   "metadata": {},
   "source": [
    "Most Machine Learning Algorithms like Logistic Regression, Support Vector Machines, K Nearest Neighbours etc. can't handle categorical data. Hence, these categorical data needs to converted to numerical data for modelling, which is called as Feature Encoding ."
   ]
  },
  {
   "cell_type": "code",
   "execution_count": 42,
   "metadata": {
    "scrolled": false
   },
   "outputs": [
    {
     "data": {
      "text/plain": [
       "['Location',\n",
       " 'WindGustDir',\n",
       " 'WindDir9am',\n",
       " 'WindDir3pm',\n",
       " 'RainToday',\n",
       " 'RainTomorrow']"
      ]
     },
     "execution_count": 42,
     "metadata": {},
     "output_type": "execute_result"
    }
   ],
   "source": [
    "categorical_features"
   ]
  },
  {
   "cell_type": "code",
   "execution_count": 43,
   "metadata": {},
   "outputs": [],
   "source": [
    "# Encoding Categorical Features using replace function:\n",
    "\n",
    "rain['RainToday'].replace({'No':0, 'Yes': 1}, inplace = True)\n",
    "\n",
    "# pd.get_dummies(rain['RainToday'],drop_first = True)\n",
    "\n",
    "rain['RainTomorrow'].replace({'No':0, 'Yes': 1}, inplace = True)"
   ]
  },
  {
   "cell_type": "code",
   "execution_count": 44,
   "metadata": {},
   "outputs": [],
   "source": [
    "def encode_data(feature_name):\n",
    "    \n",
    "    ''' \n",
    "    \n",
    "     function which takes feature name as a parameter and return mapping dictionary to replace(or map) categorical data \n",
    "     to numerical data.\n",
    "     \n",
    "    '''\n",
    "    \n",
    "    mapping_dict = {}\n",
    "    unique_values = list(rain[feature_name].unique())\n",
    "    for idx in range(len(unique_values)):\n",
    "        mapping_dict[unique_values[idx]] = idx\n",
    "    print(mapping_dict)\n",
    "    return mapping_dict\n"
   ]
  },
  {
   "cell_type": "code",
   "execution_count": 45,
   "metadata": {},
   "outputs": [
    {
     "name": "stdout",
     "output_type": "stream",
     "text": [
      "{'W': 0, 'WNW': 1, 'WSW': 2, 'NE': 3, 'NNW': 4, 'N': 5, 'NNE': 6, 'SW': 7, 'ENE': 8, 'SSE': 9, 'S': 10, 'NW': 11, 'SE': 12, 'ESE': 13, 'E': 14, 'SSW': 15}\n"
     ]
    }
   ],
   "source": [
    "rain['WindGustDir'].replace(encode_data('WindGustDir'),inplace = True)"
   ]
  },
  {
   "cell_type": "code",
   "execution_count": 46,
   "metadata": {
    "scrolled": true
   },
   "outputs": [
    {
     "name": "stdout",
     "output_type": "stream",
     "text": [
      "{'W': 0, 'NNW': 1, 'SE': 2, 'ENE': 3, 'SW': 4, 'SSE': 5, 'S': 6, 'NE': 7, 'N': 8, 'SSW': 9, 'WSW': 10, 'ESE': 11, 'E': 12, 'NW': 13, 'WNW': 14, 'NNE': 15}\n"
     ]
    }
   ],
   "source": [
    "rain['WindDir9am'].replace(encode_data('WindDir9am'),inplace = True)"
   ]
  },
  {
   "cell_type": "code",
   "execution_count": 47,
   "metadata": {},
   "outputs": [
    {
     "name": "stdout",
     "output_type": "stream",
     "text": [
      "{'WNW': 0, 'WSW': 1, 'E': 2, 'NW': 3, 'W': 4, 'SSE': 5, 'ESE': 6, 'ENE': 7, 'NNW': 8, 'SSW': 9, 'SW': 10, 'SE': 11, 'N': 12, 'S': 13, 'NNE': 14, 'NE': 15}\n"
     ]
    }
   ],
   "source": [
    "rain['WindDir3pm'].replace(encode_data('WindDir3pm'),inplace = True)"
   ]
  },
  {
   "cell_type": "code",
   "execution_count": 48,
   "metadata": {},
   "outputs": [
    {
     "name": "stdout",
     "output_type": "stream",
     "text": [
      "{'Albury': 0, 'CoffsHarbour': 1, 'Newcastle': 2, 'Penrith': 3, 'Williamtown': 4, 'Wollongong': 5, 'Melbourne': 6, 'Brisbane': 7, 'Adelaide': 8, 'PerthAirport': 9, 'Darwin': 10, 'Uluru': 11}\n"
     ]
    }
   ],
   "source": [
    "rain['Location'].replace(encode_data('Location'), inplace = True)"
   ]
  },
  {
   "cell_type": "code",
   "execution_count": 49,
   "metadata": {
    "scrolled": true
   },
   "outputs": [
    {
     "data": {
      "text/html": [
       "<div>\n",
       "<style scoped>\n",
       "    .dataframe tbody tr th:only-of-type {\n",
       "        vertical-align: middle;\n",
       "    }\n",
       "\n",
       "    .dataframe tbody tr th {\n",
       "        vertical-align: top;\n",
       "    }\n",
       "\n",
       "    .dataframe thead th {\n",
       "        text-align: right;\n",
       "    }\n",
       "</style>\n",
       "<table border=\"1\" class=\"dataframe\">\n",
       "  <thead>\n",
       "    <tr style=\"text-align: right;\">\n",
       "      <th></th>\n",
       "      <th>Location</th>\n",
       "      <th>MinTemp</th>\n",
       "      <th>MaxTemp</th>\n",
       "      <th>Rainfall</th>\n",
       "      <th>Evaporation</th>\n",
       "      <th>Sunshine</th>\n",
       "      <th>WindGustDir</th>\n",
       "      <th>WindGustSpeed</th>\n",
       "      <th>WindDir9am</th>\n",
       "      <th>WindDir3pm</th>\n",
       "      <th>WindSpeed9am</th>\n",
       "      <th>WindSpeed3pm</th>\n",
       "      <th>Humidity9am</th>\n",
       "      <th>Humidity3pm</th>\n",
       "      <th>Pressure9am</th>\n",
       "      <th>Pressure3pm</th>\n",
       "      <th>Cloud9am</th>\n",
       "      <th>Cloud3pm</th>\n",
       "      <th>Temp9am</th>\n",
       "      <th>Temp3pm</th>\n",
       "      <th>RainToday</th>\n",
       "      <th>RainTomorrow</th>\n",
       "      <th>year</th>\n",
       "      <th>month</th>\n",
       "      <th>day</th>\n",
       "    </tr>\n",
       "  </thead>\n",
       "  <tbody>\n",
       "    <tr>\n",
       "      <th>0</th>\n",
       "      <td>0</td>\n",
       "      <td>13.4</td>\n",
       "      <td>22.9</td>\n",
       "      <td>0.6</td>\n",
       "      <td>5.119906</td>\n",
       "      <td>7.632205</td>\n",
       "      <td>0</td>\n",
       "      <td>44.0</td>\n",
       "      <td>0</td>\n",
       "      <td>0</td>\n",
       "      <td>20.0</td>\n",
       "      <td>24.0</td>\n",
       "      <td>71.0</td>\n",
       "      <td>22.0</td>\n",
       "      <td>1007.7</td>\n",
       "      <td>1007.1</td>\n",
       "      <td>8.000000</td>\n",
       "      <td>4.503183</td>\n",
       "      <td>16.9</td>\n",
       "      <td>21.8</td>\n",
       "      <td>0</td>\n",
       "      <td>0</td>\n",
       "      <td>2008</td>\n",
       "      <td>12</td>\n",
       "      <td>1</td>\n",
       "    </tr>\n",
       "    <tr>\n",
       "      <th>1</th>\n",
       "      <td>0</td>\n",
       "      <td>7.4</td>\n",
       "      <td>25.1</td>\n",
       "      <td>0.0</td>\n",
       "      <td>5.119906</td>\n",
       "      <td>7.632205</td>\n",
       "      <td>1</td>\n",
       "      <td>44.0</td>\n",
       "      <td>1</td>\n",
       "      <td>1</td>\n",
       "      <td>4.0</td>\n",
       "      <td>22.0</td>\n",
       "      <td>44.0</td>\n",
       "      <td>25.0</td>\n",
       "      <td>1010.6</td>\n",
       "      <td>1007.8</td>\n",
       "      <td>4.566622</td>\n",
       "      <td>4.503183</td>\n",
       "      <td>17.2</td>\n",
       "      <td>24.3</td>\n",
       "      <td>0</td>\n",
       "      <td>0</td>\n",
       "      <td>2008</td>\n",
       "      <td>12</td>\n",
       "      <td>2</td>\n",
       "    </tr>\n",
       "    <tr>\n",
       "      <th>2</th>\n",
       "      <td>0</td>\n",
       "      <td>12.9</td>\n",
       "      <td>25.7</td>\n",
       "      <td>0.0</td>\n",
       "      <td>5.119906</td>\n",
       "      <td>7.632205</td>\n",
       "      <td>2</td>\n",
       "      <td>46.0</td>\n",
       "      <td>0</td>\n",
       "      <td>1</td>\n",
       "      <td>19.0</td>\n",
       "      <td>26.0</td>\n",
       "      <td>38.0</td>\n",
       "      <td>30.0</td>\n",
       "      <td>1007.6</td>\n",
       "      <td>1008.7</td>\n",
       "      <td>4.566622</td>\n",
       "      <td>2.000000</td>\n",
       "      <td>21.0</td>\n",
       "      <td>23.2</td>\n",
       "      <td>0</td>\n",
       "      <td>0</td>\n",
       "      <td>2008</td>\n",
       "      <td>12</td>\n",
       "      <td>3</td>\n",
       "    </tr>\n",
       "    <tr>\n",
       "      <th>3</th>\n",
       "      <td>0</td>\n",
       "      <td>9.2</td>\n",
       "      <td>28.0</td>\n",
       "      <td>0.0</td>\n",
       "      <td>5.119906</td>\n",
       "      <td>7.632205</td>\n",
       "      <td>3</td>\n",
       "      <td>24.0</td>\n",
       "      <td>2</td>\n",
       "      <td>2</td>\n",
       "      <td>11.0</td>\n",
       "      <td>9.0</td>\n",
       "      <td>45.0</td>\n",
       "      <td>16.0</td>\n",
       "      <td>1017.6</td>\n",
       "      <td>1012.8</td>\n",
       "      <td>4.566622</td>\n",
       "      <td>4.503183</td>\n",
       "      <td>18.1</td>\n",
       "      <td>26.5</td>\n",
       "      <td>0</td>\n",
       "      <td>0</td>\n",
       "      <td>2008</td>\n",
       "      <td>12</td>\n",
       "      <td>4</td>\n",
       "    </tr>\n",
       "    <tr>\n",
       "      <th>4</th>\n",
       "      <td>0</td>\n",
       "      <td>17.5</td>\n",
       "      <td>32.3</td>\n",
       "      <td>1.0</td>\n",
       "      <td>5.119906</td>\n",
       "      <td>7.632205</td>\n",
       "      <td>0</td>\n",
       "      <td>41.0</td>\n",
       "      <td>3</td>\n",
       "      <td>3</td>\n",
       "      <td>7.0</td>\n",
       "      <td>20.0</td>\n",
       "      <td>82.0</td>\n",
       "      <td>33.0</td>\n",
       "      <td>1010.8</td>\n",
       "      <td>1006.0</td>\n",
       "      <td>7.000000</td>\n",
       "      <td>8.000000</td>\n",
       "      <td>17.8</td>\n",
       "      <td>29.7</td>\n",
       "      <td>0</td>\n",
       "      <td>0</td>\n",
       "      <td>2008</td>\n",
       "      <td>12</td>\n",
       "      <td>5</td>\n",
       "    </tr>\n",
       "  </tbody>\n",
       "</table>\n",
       "</div>"
      ],
      "text/plain": [
       "   Location  MinTemp  MaxTemp  Rainfall  Evaporation  Sunshine  WindGustDir  \\\n",
       "0         0     13.4     22.9       0.6     5.119906  7.632205            0   \n",
       "1         0      7.4     25.1       0.0     5.119906  7.632205            1   \n",
       "2         0     12.9     25.7       0.0     5.119906  7.632205            2   \n",
       "3         0      9.2     28.0       0.0     5.119906  7.632205            3   \n",
       "4         0     17.5     32.3       1.0     5.119906  7.632205            0   \n",
       "\n",
       "   WindGustSpeed  WindDir9am  WindDir3pm  WindSpeed9am  WindSpeed3pm  \\\n",
       "0           44.0           0           0          20.0          24.0   \n",
       "1           44.0           1           1           4.0          22.0   \n",
       "2           46.0           0           1          19.0          26.0   \n",
       "3           24.0           2           2          11.0           9.0   \n",
       "4           41.0           3           3           7.0          20.0   \n",
       "\n",
       "   Humidity9am  Humidity3pm  Pressure9am  Pressure3pm  Cloud9am  Cloud3pm  \\\n",
       "0         71.0         22.0       1007.7       1007.1  8.000000  4.503183   \n",
       "1         44.0         25.0       1010.6       1007.8  4.566622  4.503183   \n",
       "2         38.0         30.0       1007.6       1008.7  4.566622  2.000000   \n",
       "3         45.0         16.0       1017.6       1012.8  4.566622  4.503183   \n",
       "4         82.0         33.0       1010.8       1006.0  7.000000  8.000000   \n",
       "\n",
       "   Temp9am  Temp3pm  RainToday  RainTomorrow  year  month  day  \n",
       "0     16.9     21.8          0             0  2008     12    1  \n",
       "1     17.2     24.3          0             0  2008     12    2  \n",
       "2     21.0     23.2          0             0  2008     12    3  \n",
       "3     18.1     26.5          0             0  2008     12    4  \n",
       "4     17.8     29.7          0             0  2008     12    5  "
      ]
     },
     "execution_count": 49,
     "metadata": {},
     "output_type": "execute_result"
    }
   ],
   "source": [
    "rain.head()"
   ]
  },
  {
   "cell_type": "markdown",
   "metadata": {},
   "source": [
    "Spliting data into input features and label"
   ]
  },
  {
   "cell_type": "code",
   "execution_count": 50,
   "metadata": {},
   "outputs": [],
   "source": [
    "X = rain.drop(['RainTomorrow'],axis=1)\n",
    "y = rain['RainTomorrow']"
   ]
  },
  {
   "cell_type": "markdown",
   "metadata": {},
   "source": []
  },
  {
   "cell_type": "code",
   "execution_count": 51,
   "metadata": {},
   "outputs": [
    {
     "data": {
      "text/html": [
       "<style>#sk-container-id-1 {color: black;background-color: white;}#sk-container-id-1 pre{padding: 0;}#sk-container-id-1 div.sk-toggleable {background-color: white;}#sk-container-id-1 label.sk-toggleable__label {cursor: pointer;display: block;width: 100%;margin-bottom: 0;padding: 0.3em;box-sizing: border-box;text-align: center;}#sk-container-id-1 label.sk-toggleable__label-arrow:before {content: \"▸\";float: left;margin-right: 0.25em;color: #696969;}#sk-container-id-1 label.sk-toggleable__label-arrow:hover:before {color: black;}#sk-container-id-1 div.sk-estimator:hover label.sk-toggleable__label-arrow:before {color: black;}#sk-container-id-1 div.sk-toggleable__content {max-height: 0;max-width: 0;overflow: hidden;text-align: left;background-color: #f0f8ff;}#sk-container-id-1 div.sk-toggleable__content pre {margin: 0.2em;color: black;border-radius: 0.25em;background-color: #f0f8ff;}#sk-container-id-1 input.sk-toggleable__control:checked~div.sk-toggleable__content {max-height: 200px;max-width: 100%;overflow: auto;}#sk-container-id-1 input.sk-toggleable__control:checked~label.sk-toggleable__label-arrow:before {content: \"▾\";}#sk-container-id-1 div.sk-estimator input.sk-toggleable__control:checked~label.sk-toggleable__label {background-color: #d4ebff;}#sk-container-id-1 div.sk-label input.sk-toggleable__control:checked~label.sk-toggleable__label {background-color: #d4ebff;}#sk-container-id-1 input.sk-hidden--visually {border: 0;clip: rect(1px 1px 1px 1px);clip: rect(1px, 1px, 1px, 1px);height: 1px;margin: -1px;overflow: hidden;padding: 0;position: absolute;width: 1px;}#sk-container-id-1 div.sk-estimator {font-family: monospace;background-color: #f0f8ff;border: 1px dotted black;border-radius: 0.25em;box-sizing: border-box;margin-bottom: 0.5em;}#sk-container-id-1 div.sk-estimator:hover {background-color: #d4ebff;}#sk-container-id-1 div.sk-parallel-item::after {content: \"\";width: 100%;border-bottom: 1px solid gray;flex-grow: 1;}#sk-container-id-1 div.sk-label:hover label.sk-toggleable__label {background-color: #d4ebff;}#sk-container-id-1 div.sk-serial::before {content: \"\";position: absolute;border-left: 1px solid gray;box-sizing: border-box;top: 0;bottom: 0;left: 50%;z-index: 0;}#sk-container-id-1 div.sk-serial {display: flex;flex-direction: column;align-items: center;background-color: white;padding-right: 0.2em;padding-left: 0.2em;position: relative;}#sk-container-id-1 div.sk-item {position: relative;z-index: 1;}#sk-container-id-1 div.sk-parallel {display: flex;align-items: stretch;justify-content: center;background-color: white;position: relative;}#sk-container-id-1 div.sk-item::before, #sk-container-id-1 div.sk-parallel-item::before {content: \"\";position: absolute;border-left: 1px solid gray;box-sizing: border-box;top: 0;bottom: 0;left: 50%;z-index: -1;}#sk-container-id-1 div.sk-parallel-item {display: flex;flex-direction: column;z-index: 1;position: relative;background-color: white;}#sk-container-id-1 div.sk-parallel-item:first-child::after {align-self: flex-end;width: 50%;}#sk-container-id-1 div.sk-parallel-item:last-child::after {align-self: flex-start;width: 50%;}#sk-container-id-1 div.sk-parallel-item:only-child::after {width: 0;}#sk-container-id-1 div.sk-dashed-wrapped {border: 1px dashed gray;margin: 0 0.4em 0.5em 0.4em;box-sizing: border-box;padding-bottom: 0.4em;background-color: white;}#sk-container-id-1 div.sk-label label {font-family: monospace;font-weight: bold;display: inline-block;line-height: 1.2em;}#sk-container-id-1 div.sk-label-container {text-align: center;}#sk-container-id-1 div.sk-container {/* jupyter's `normalize.less` sets `[hidden] { display: none; }` but bootstrap.min.css set `[hidden] { display: none !important; }` so we also need the `!important` here to be able to override the default hidden behavior on the sphinx rendered scikit-learn.org. See: https://github.com/scikit-learn/scikit-learn/issues/21755 */display: inline-block !important;position: relative;}#sk-container-id-1 div.sk-text-repr-fallback {display: none;}</style><div id=\"sk-container-id-1\" class=\"sk-top-container\"><div class=\"sk-text-repr-fallback\"><pre>ExtraTreesRegressor()</pre><b>In a Jupyter environment, please rerun this cell to show the HTML representation or trust the notebook. <br />On GitHub, the HTML representation is unable to render, please try loading this page with nbviewer.org.</b></div><div class=\"sk-container\" hidden><div class=\"sk-item\"><div class=\"sk-estimator sk-toggleable\"><input class=\"sk-toggleable__control sk-hidden--visually\" id=\"sk-estimator-id-1\" type=\"checkbox\" checked><label for=\"sk-estimator-id-1\" class=\"sk-toggleable__label sk-toggleable__label-arrow\">ExtraTreesRegressor</label><div class=\"sk-toggleable__content\"><pre>ExtraTreesRegressor()</pre></div></div></div></div></div>"
      ],
      "text/plain": [
       "ExtraTreesRegressor()"
      ]
     },
     "execution_count": 51,
     "metadata": {},
     "output_type": "execute_result"
    }
   ],
   "source": [
    "# finding feature importance using ExtraTreesRegressor:\n",
    "\n",
    "from sklearn.ensemble import ExtraTreesRegressor\n",
    "etr_model = ExtraTreesRegressor()\n",
    "etr_model.fit(X,y)"
   ]
  },
  {
   "cell_type": "code",
   "execution_count": 52,
   "metadata": {},
   "outputs": [
    {
     "data": {
      "text/plain": [
       "array([0.02595646, 0.02798094, 0.02782708, 0.0413589 , 0.02362508,\n",
       "       0.03907244, 0.02988794, 0.05987214, 0.03163503, 0.03450023,\n",
       "       0.03235994, 0.03600086, 0.03961347, 0.20047467, 0.0295102 ,\n",
       "       0.0347596 , 0.0274227 , 0.05939673, 0.02620618, 0.02862886,\n",
       "       0.05085635, 0.0299403 , 0.02906363, 0.03405028])"
      ]
     },
     "execution_count": 52,
     "metadata": {},
     "output_type": "execute_result"
    }
   ],
   "source": [
    "etr_model.feature_importances_"
   ]
  },
  {
   "cell_type": "code",
   "execution_count": 53,
   "metadata": {
    "scrolled": false
   },
   "outputs": [
    {
     "data": {
      "text/plain": [
       "<AxesSubplot:>"
      ]
     },
     "execution_count": 53,
     "metadata": {},
     "output_type": "execute_result"
    },
    {
     "data": {
      "image/png": "[encoded data removed]",
      "text/plain": [
       "<Figure size 432x288 with 1 Axes>"
      ]
     },
     "metadata": {
      "needs_background": "light"
     },
     "output_type": "display_data"
    }
   ],
   "source": [
    "# visualizing feature importance using bar graph:\n",
    "\n",
    "feature_imp = pd.Series(etr_model.feature_importances_,index=X.columns)\n",
    "feature_imp.nlargest(10).plot(kind='barh')"
   ]
  },
  {
   "cell_type": "code",
   "execution_count": 54,
   "metadata": {},
   "outputs": [
    {
     "data": {
      "text/plain": [
       "Location         0.025956\n",
       "MinTemp          0.027981\n",
       "MaxTemp          0.027827\n",
       "Rainfall         0.041359\n",
       "Evaporation      0.023625\n",
       "Sunshine         0.039072\n",
       "WindGustDir      0.029888\n",
       "WindGustSpeed    0.059872\n",
       "WindDir9am       0.031635\n",
       "WindDir3pm       0.034500\n",
       "WindSpeed9am     0.032360\n",
       "WindSpeed3pm     0.036001\n",
       "Humidity9am      0.039613\n",
       "Humidity3pm      0.200475\n",
       "Pressure9am      0.029510\n",
       "Pressure3pm      0.034760\n",
       "Cloud9am         0.027423\n",
       "Cloud3pm         0.059397\n",
       "Temp9am          0.026206\n",
       "Temp3pm          0.028629\n",
       "RainToday        0.050856\n",
       "year             0.029940\n",
       "month            0.029064\n",
       "day              0.034050\n",
       "dtype: float64"
      ]
     },
     "execution_count": 54,
     "metadata": {},
     "output_type": "execute_result"
    }
   ],
   "source": [
    "feature_imp"
   ]
  },
  {
   "cell_type": "markdown",
   "metadata": {},
   "source": [
    "## 5) Split Data into Training and Testing Set"
   ]
  },
  {
   "cell_type": "code",
   "execution_count": 55,
   "metadata": {},
   "outputs": [],
   "source": [
    "from sklearn.model_selection import train_test_split\n",
    "X_train, X_test, y_train, y_test = train_test_split(X,y, test_size = 0.2, random_state = 0)"
   ]
  },
  {
   "cell_type": "code",
   "execution_count": 56,
   "metadata": {},
   "outputs": [
    {
     "name": "stdout",
     "output_type": "stream",
     "text": [
      "Length of Training Data: 6740\n",
      "Length of Testing Data: 1685\n"
     ]
    }
   ],
   "source": [
    "print(\"Length of Training Data: {}\".format(len(X_train)))\n",
    "print(\"Length of Testing Data: {}\".format(len(X_test)))"
   ]
  },
  {
   "cell_type": "markdown",
   "metadata": {},
   "source": [
    "## 6) Feature Scaling"
   ]
  },
  {
   "cell_type": "code",
   "execution_count": 57,
   "metadata": {},
   "outputs": [],
   "source": [
    "from sklearn.preprocessing import StandardScaler\n",
    "scaler = StandardScaler()\n",
    "X_train = scaler.fit_transform(X_train)"
   ]
  },
  {
   "cell_type": "code",
   "execution_count": 58,
   "metadata": {},
   "outputs": [],
   "source": [
    "X_test = scaler.transform(X_test)"
   ]
  },
  {
   "cell_type": "markdown",
   "metadata": {},
   "source": [
    "Save the Scaler object to Standardize Real Time Data feeded by users for prediction"
   ]
  },
  {
   "cell_type": "code",
   "execution_count": 59,
   "metadata": {},
   "outputs": [],
   "source": [
    "with open('scaler.pkl', 'wb') as file:\n",
    "    pickle.dump(scaler, file)"
   ]
  },
  {
   "cell_type": "markdown",
   "metadata": {},
   "source": [
    "## Model Building\n"
   ]
  },
  {
   "cell_type": "code",
   "execution_count": 60,
   "metadata": {},
   "outputs": [],
   "source": [
    "from sklearn.metrics import accuracy_score,confusion_matrix,classification_report"
   ]
  },
  {
   "cell_type": "markdown",
   "metadata": {},
   "source": [
    "(i) Logistic Regression"
   ]
  },
  {
   "cell_type": "markdown",
   "metadata": {},
   "source": [
    "### Model Training:"
   ]
  },
  {
   "cell_type": "code",
   "execution_count": 61,
   "metadata": {},
   "outputs": [],
   "source": [
    "from sklearn.linear_model import LogisticRegression"
   ]
  },
  {
   "cell_type": "code",
   "execution_count": 62,
   "metadata": {},
   "outputs": [],
   "source": [
    "start_time = time.time()\n",
    "classifier_logreg = LogisticRegression(solver='liblinear', random_state=0)\n",
    "classifier_logreg.fit(X_train, y_train)\n",
    "end_time = time.time()"
   ]
  },
  {
   "cell_type": "code",
   "execution_count": 63,
   "metadata": {},
   "outputs": [
    {
     "name": "stdout",
     "output_type": "stream",
     "text": [
      "Time Taken to train: 0.2971644401550293\n"
     ]
    }
   ],
   "source": [
    "print(\"Time Taken to train: {}\".format(end_time - start_time))"
   ]
  },
  {
   "cell_type": "markdown",
   "metadata": {},
   "source": [
    "### Model Testing:"
   ]
  },
  {
   "cell_type": "code",
   "execution_count": 64,
   "metadata": {},
   "outputs": [],
   "source": [
    "y_pred = classifier_logreg.predict(X_test)"
   ]
  },
  {
   "cell_type": "code",
   "execution_count": 65,
   "metadata": {},
   "outputs": [],
   "source": [
    "from sklearn.metrics import accuracy_score,confusion_matrix,classification_report"
   ]
  },
  {
   "cell_type": "code",
   "execution_count": 66,
   "metadata": {
    "scrolled": false
   },
   "outputs": [
    {
     "name": "stdout",
     "output_type": "stream",
     "text": [
      "Accuracy Score: 0.8367952522255193\n"
     ]
    }
   ],
   "source": [
    "print(\"Accuracy Score: {}\".format(accuracy_score(y_test,y_pred)))"
   ]
  },
  {
   "cell_type": "markdown",
   "metadata": {},
   "source": [
    "`Checking for Overfitting and Under Fitting:`"
   ]
  },
  {
   "cell_type": "code",
   "execution_count": 67,
   "metadata": {
    "scrolled": false
   },
   "outputs": [
    {
     "name": "stdout",
     "output_type": "stream",
     "text": [
      "Train Data Score: 0.8302670623145401\n",
      "Test Data Score: 0.8367952522255193\n"
     ]
    }
   ],
   "source": [
    "print(\"Train Data Score: {}\".format(classifier_logreg.score(X_train, y_train)))\n",
    "print(\"Test Data Score: {}\".format(classifier_logreg.score(X_test, y_test)))"
   ]
  },
  {
   "cell_type": "markdown",
   "metadata": {},
   "source": [
    "#### Accuracy Score of Training and Testing Data is comparable and almost equal. So, there is no question of Underfitting and Over Fitting. And model is generalizing well for new unseen data."
   ]
  },
  {
   "cell_type": "code",
   "execution_count": 68,
   "metadata": {
    "scrolled": true
   },
   "outputs": [
    {
     "name": "stdout",
     "output_type": "stream",
     "text": [
      "Confusion Matrix:\n",
      "\n",
      " [[1203   83]\n",
      " [ 192  207]]\n"
     ]
    }
   ],
   "source": [
    "# confusion Matrix:\n",
    "\n",
    "print(\"Confusion Matrix:\")\n",
    "print(\"\\n\",confusion_matrix(y_test,y_pred))"
   ]
  },
  {
   "cell_type": "code",
   "execution_count": 69,
   "metadata": {
    "scrolled": true
   },
   "outputs": [
    {
     "name": "stdout",
     "output_type": "stream",
     "text": [
      "classification_report:\n",
      "\n",
      "               precision    recall  f1-score   support\n",
      "\n",
      "           0       0.86      0.94      0.90      1286\n",
      "           1       0.71      0.52      0.60       399\n",
      "\n",
      "    accuracy                           0.84      1685\n",
      "   macro avg       0.79      0.73      0.75      1685\n",
      "weighted avg       0.83      0.84      0.83      1685\n",
      "\n"
     ]
    }
   ],
   "source": [
    "# Classification Report:\n",
    "\n",
    "print(\"classification_report:\")\n",
    "print(\"\\n\",classification_report(y_test,y_pred))"
   ]
  },
  {
   "cell_type": "code",
   "execution_count": 70,
   "metadata": {},
   "outputs": [],
   "source": [
    "# predicting probabilities:\n",
    "\n",
    "y_pred_logreg_proba = classifier_logreg.predict_proba(X_test)"
   ]
  },
  {
   "cell_type": "code",
   "execution_count": 71,
   "metadata": {},
   "outputs": [],
   "source": [
    "# Finding True Positive Rate(tpr), False Positive Rate(fpr), threshold values to plot ROC curve\n",
    "\n",
    "from sklearn.metrics import roc_curve\n",
    "fpr, tpr, thresholds = roc_curve(y_test, y_pred_logreg_proba[:,1])"
   ]
  },
  {
   "cell_type": "code",
   "execution_count": 72,
   "metadata": {},
   "outputs": [
    {
     "data": {
      "image/png": "[encoded data removed]",
      "text/plain": [
       "<Figure size 432x288 with 1 Axes>"
      ]
     },
     "metadata": {
      "needs_background": "light"
     },
     "output_type": "display_data"
    }
   ],
   "source": [
    "# Plotting ROC curve:\n",
    "\n",
    "plt.figure(figsize=(6,4))\n",
    "plt.plot(fpr,tpr,'-b',linewidth=1)\n",
    "plt.plot([0,1], [0,1], 'k--' )\n",
    "plt.title('ROC curve for Logistic Regression Model')\n",
    "plt.xlabel(\"False Positive Rate\")\n",
    "plt.ylabel('True Positive Rate')\n",
    "plt.show()"
   ]
  },
  {
   "cell_type": "code",
   "execution_count": 73,
   "metadata": {},
   "outputs": [
    {
     "name": "stdout",
     "output_type": "stream",
     "text": [
      "ROC AUC Scores: 0.7271278897087198\n"
     ]
    }
   ],
   "source": [
    "# finding ROC-AUC score:\n",
    "\n",
    "from sklearn.metrics import roc_auc_score\n",
    "print('ROC AUC Scores: {}'.format(roc_auc_score(y_test, y_pred)))"
   ]
  },
  {
   "cell_type": "markdown",
   "metadata": {},
   "source": [
    "#### Finding whether model performance can be improved using Cross Validation Score:"
   ]
  },
  {
   "cell_type": "code",
   "execution_count": 74,
   "metadata": {},
   "outputs": [
    {
     "name": "stdout",
     "output_type": "stream",
     "text": [
      "Cross-validation scores:[0.82937685 0.83456973 0.83308605 0.83679525 0.81973294]\n"
     ]
    }
   ],
   "source": [
    "from sklearn.model_selection import cross_val_score\n",
    "scores = cross_val_score(classifier_logreg, X_train, y_train, cv = 5, scoring='accuracy')\n",
    "print('Cross-validation scores:{}'.format(scores))"
   ]
  },
  {
   "cell_type": "code",
   "execution_count": 75,
   "metadata": {},
   "outputs": [
    {
     "name": "stdout",
     "output_type": "stream",
     "text": [
      "Average cross-validation score: 0.8307121661721067\n"
     ]
    }
   ],
   "source": [
    "print('Average cross-validation score: {}'.format(scores.mean()))"
   ]
  },
  {
   "cell_type": "markdown",
   "metadata": {},
   "source": [
    "The mean accuracy score of cross validation is almost same like original model accuracy score which is 0.8445. So, accuracy of model may not be improved using Cross-validation."
   ]
  },
  {
   "cell_type": "markdown",
   "metadata": {},
   "source": [
    " Cat Boost"
   ]
  },
  {
   "cell_type": "code",
   "execution_count": 76,
   "metadata": {},
   "outputs": [],
   "source": [
    "from catboost import CatBoostClassifier"
   ]
  },
  {
   "cell_type": "markdown",
   "metadata": {},
   "source": [
    "Model Training:"
   ]
  },
  {
   "cell_type": "code",
   "execution_count": 77,
   "metadata": {
    "scrolled": true
   },
   "outputs": [
    {
     "name": "stdout",
     "output_type": "stream",
     "text": [
      "Learning rate set to 0.192208\n",
      "0:\ttotal: 190ms\tremaining: 18.8s\n",
      "1:\ttotal: 221ms\tremaining: 10.8s\n",
      "2:\ttotal: 255ms\tremaining: 8.25s\n",
      "3:\ttotal: 288ms\tremaining: 6.91s\n",
      "4:\ttotal: 317ms\tremaining: 6.03s\n",
      "5:\ttotal: 347ms\tremaining: 5.43s\n",
      "6:\ttotal: 376ms\tremaining: 4.99s\n",
      "7:\ttotal: 411ms\tremaining: 4.73s\n",
      "8:\ttotal: 444ms\tremaining: 4.49s\n",
      "9:\ttotal: 479ms\tremaining: 4.31s\n",
      "10:\ttotal: 510ms\tremaining: 4.12s\n",
      "11:\ttotal: 539ms\tremaining: 3.95s\n",
      "12:\ttotal: 568ms\tremaining: 3.8s\n",
      "13:\ttotal: 596ms\tremaining: 3.66s\n",
      "14:\ttotal: 627ms\tremaining: 3.55s\n",
      "15:\ttotal: 660ms\tremaining: 3.46s\n",
      "16:\ttotal: 693ms\tremaining: 3.38s\n",
      "17:\ttotal: 726ms\tremaining: 3.31s\n",
      "18:\ttotal: 757ms\tremaining: 3.23s\n",
      "19:\ttotal: 788ms\tremaining: 3.15s\n",
      "20:\ttotal: 823ms\tremaining: 3.1s\n",
      "21:\ttotal: 855ms\tremaining: 3.03s\n",
      "22:\ttotal: 887ms\tremaining: 2.97s\n",
      "23:\ttotal: 921ms\tremaining: 2.92s\n",
      "24:\ttotal: 957ms\tremaining: 2.87s\n",
      "25:\ttotal: 992ms\tremaining: 2.82s\n",
      "26:\ttotal: 1.02s\tremaining: 2.77s\n",
      "27:\ttotal: 1.06s\tremaining: 2.73s\n",
      "28:\ttotal: 1.1s\tremaining: 2.68s\n",
      "29:\ttotal: 1.13s\tremaining: 2.63s\n",
      "30:\ttotal: 1.16s\tremaining: 2.58s\n",
      "31:\ttotal: 1.19s\tremaining: 2.52s\n",
      "32:\ttotal: 1.22s\tremaining: 2.47s\n",
      "33:\ttotal: 1.24s\tremaining: 2.41s\n",
      "34:\ttotal: 1.28s\tremaining: 2.37s\n",
      "35:\ttotal: 1.31s\tremaining: 2.33s\n",
      "36:\ttotal: 1.34s\tremaining: 2.28s\n",
      "37:\ttotal: 1.37s\tremaining: 2.23s\n",
      "38:\ttotal: 1.4s\tremaining: 2.18s\n",
      "39:\ttotal: 1.42s\tremaining: 2.14s\n",
      "40:\ttotal: 1.45s\tremaining: 2.09s\n",
      "41:\ttotal: 1.48s\tremaining: 2.05s\n",
      "42:\ttotal: 1.52s\tremaining: 2.01s\n",
      "43:\ttotal: 1.55s\tremaining: 1.97s\n",
      "44:\ttotal: 1.58s\tremaining: 1.93s\n",
      "45:\ttotal: 1.61s\tremaining: 1.89s\n",
      "46:\ttotal: 1.64s\tremaining: 1.84s\n",
      "47:\ttotal: 1.66s\tremaining: 1.8s\n",
      "48:\ttotal: 1.69s\tremaining: 1.76s\n",
      "49:\ttotal: 1.73s\tremaining: 1.73s\n",
      "50:\ttotal: 1.76s\tremaining: 1.69s\n",
      "51:\ttotal: 1.79s\tremaining: 1.65s\n",
      "52:\ttotal: 1.82s\tremaining: 1.61s\n",
      "53:\ttotal: 1.85s\tremaining: 1.57s\n",
      "54:\ttotal: 1.88s\tremaining: 1.54s\n",
      "55:\ttotal: 1.91s\tremaining: 1.5s\n",
      "56:\ttotal: 1.94s\tremaining: 1.47s\n",
      "57:\ttotal: 1.98s\tremaining: 1.43s\n",
      "58:\ttotal: 2s\tremaining: 1.39s\n",
      "59:\ttotal: 2.03s\tremaining: 1.36s\n",
      "60:\ttotal: 2.06s\tremaining: 1.32s\n",
      "61:\ttotal: 2.09s\tremaining: 1.28s\n",
      "62:\ttotal: 2.12s\tremaining: 1.25s\n",
      "63:\ttotal: 2.16s\tremaining: 1.22s\n",
      "64:\ttotal: 2.19s\tremaining: 1.18s\n",
      "65:\ttotal: 2.22s\tremaining: 1.15s\n",
      "66:\ttotal: 2.25s\tremaining: 1.11s\n",
      "67:\ttotal: 2.28s\tremaining: 1.07s\n",
      "68:\ttotal: 2.31s\tremaining: 1.04s\n",
      "69:\ttotal: 2.34s\tremaining: 1s\n",
      "70:\ttotal: 2.38s\tremaining: 971ms\n",
      "71:\ttotal: 2.41s\tremaining: 938ms\n",
      "72:\ttotal: 2.44s\tremaining: 903ms\n",
      "73:\ttotal: 2.47s\tremaining: 867ms\n",
      "74:\ttotal: 2.5s\tremaining: 833ms\n",
      "75:\ttotal: 2.53s\tremaining: 798ms\n",
      "76:\ttotal: 2.56s\tremaining: 763ms\n",
      "77:\ttotal: 2.59s\tremaining: 730ms\n",
      "78:\ttotal: 2.62s\tremaining: 697ms\n",
      "79:\ttotal: 2.65s\tremaining: 663ms\n",
      "80:\ttotal: 2.68s\tremaining: 629ms\n",
      "81:\ttotal: 2.72s\tremaining: 598ms\n",
      "82:\ttotal: 2.75s\tremaining: 564ms\n",
      "83:\ttotal: 2.78s\tremaining: 530ms\n",
      "84:\ttotal: 2.82s\tremaining: 497ms\n",
      "85:\ttotal: 2.85s\tremaining: 464ms\n",
      "86:\ttotal: 2.88s\tremaining: 431ms\n",
      "87:\ttotal: 2.91s\tremaining: 397ms\n",
      "88:\ttotal: 2.94s\tremaining: 363ms\n",
      "89:\ttotal: 2.97s\tremaining: 330ms\n",
      "90:\ttotal: 3s\tremaining: 297ms\n",
      "91:\ttotal: 3.04s\tremaining: 264ms\n",
      "92:\ttotal: 3.07s\tremaining: 231ms\n",
      "93:\ttotal: 3.1s\tremaining: 198ms\n",
      "94:\ttotal: 3.13s\tremaining: 165ms\n",
      "95:\ttotal: 3.15s\tremaining: 131ms\n",
      "96:\ttotal: 3.18s\tremaining: 98.4ms\n",
      "97:\ttotal: 3.21s\tremaining: 65.6ms\n",
      "98:\ttotal: 3.25s\tremaining: 32.8ms\n",
      "99:\ttotal: 3.28s\tremaining: 0us\n"
     ]
    }
   ],
   "source": [
    "start_time = time.time()\n",
    "cat_classifier = CatBoostClassifier(iterations=100, eval_metric = \"AUC\")\n",
    "cat_classifier.fit(X_train, y_train)\n",
    "end_time = time.time()"
   ]
  },
  {
   "cell_type": "code",
   "execution_count": 78,
   "metadata": {},
   "outputs": [
    {
     "name": "stdout",
     "output_type": "stream",
     "text": [
      "Time Taken to train: 3.69635009765625\n"
     ]
    }
   ],
   "source": [
    "print(\"Time Taken to train: {}\".format(end_time - start_time))"
   ]
  },
  {
   "cell_type": "markdown",
   "metadata": {},
   "source": [
    "Model Testing:"
   ]
  },
  {
   "cell_type": "code",
   "execution_count": 79,
   "metadata": {},
   "outputs": [],
   "source": [
    "y_pred_cat = cat_classifier.predict(X_test)"
   ]
  },
  {
   "cell_type": "code",
   "execution_count": 80,
   "metadata": {},
   "outputs": [
    {
     "name": "stdout",
     "output_type": "stream",
     "text": [
      "Accuracy Score: 0.8836795252225519\n"
     ]
    }
   ],
   "source": [
    "print(\"Accuracy Score: {}\".format(accuracy_score(y_test,y_pred_cat)))"
   ]
  },
  {
   "cell_type": "markdown",
   "metadata": {},
   "source": [
    "Checking for Overfitting and Under Fitting:"
   ]
  },
  {
   "cell_type": "code",
   "execution_count": 81,
   "metadata": {},
   "outputs": [
    {
     "name": "stdout",
     "output_type": "stream",
     "text": [
      "Train Data Score: 0.9372403560830861\n",
      "Test Data Score: 0.8836795252225519\n"
     ]
    }
   ],
   "source": [
    "print(\"Train Data Score: {}\".format(cat_classifier.score(X_train, y_train)))\n",
    "print(\"Test Data Score: {}\".format(cat_classifier.score(X_test, y_test)))"
   ]
  },
  {
   "cell_type": "markdown",
   "metadata": {},
   "source": [
    "Accuracy Score of Training and Testing Data is comparable and almost equal. So, there is no question of Underfitting and Over Fitting. And model is generalizing well for new unseen data."
   ]
  },
  {
   "cell_type": "code",
   "execution_count": 82,
   "metadata": {
    "scrolled": true
   },
   "outputs": [
    {
     "name": "stdout",
     "output_type": "stream",
     "text": [
      "Confusion Matrix:\n",
      "\n",
      " [[1232   54]\n",
      " [ 142  257]]\n"
     ]
    }
   ],
   "source": [
    "# Confusion Matrix:\n",
    "\n",
    "print(\"Confusion Matrix:\")\n",
    "print(\"\\n\",confusion_matrix(y_test,y_pred_cat))"
   ]
  },
  {
   "cell_type": "code",
   "execution_count": 83,
   "metadata": {},
   "outputs": [
    {
     "name": "stdout",
     "output_type": "stream",
     "text": [
      "classification_report:\n",
      "\n",
      "               precision    recall  f1-score   support\n",
      "\n",
      "           0       0.90      0.96      0.93      1286\n",
      "           1       0.83      0.64      0.72       399\n",
      "\n",
      "    accuracy                           0.88      1685\n",
      "   macro avg       0.86      0.80      0.83      1685\n",
      "weighted avg       0.88      0.88      0.88      1685\n",
      "\n"
     ]
    }
   ],
   "source": [
    "# classification Report:\n",
    "\n",
    "print(\"classification_report:\")\n",
    "print(\"\\n\",classification_report(y_test,y_pred_cat))"
   ]
  },
  {
   "cell_type": "code",
   "execution_count": 84,
   "metadata": {},
   "outputs": [],
   "source": [
    "# predicting the probabilities:\n",
    "\n",
    "y_pred_cat_proba = cat_classifier.predict_proba(X_test)"
   ]
  },
  {
   "cell_type": "code",
   "execution_count": 85,
   "metadata": {},
   "outputs": [],
   "source": [
    "# Finding True Positive Rate(tpr), False Positive Rate(fpr), threshold values to plot ROC curve  \n",
    "\n",
    "from sklearn.metrics import roc_curve\n",
    "fpr, tpr, thresholds = roc_curve(y_test, y_pred_cat_proba[:,1])"
   ]
  },
  {
   "cell_type": "code",
   "execution_count": 86,
   "metadata": {},
   "outputs": [
    {
     "data": {
      "image/png": "[encoded data removed]",
      "text/plain": [
       "<Figure size 432x288 with 1 Axes>"
      ]
     },
     "metadata": {
      "needs_background": "light"
     },
     "output_type": "display_data"
    }
   ],
   "source": [
    "# plotting ROC Curve:\n",
    "\n",
    "plt.figure(figsize=(6,4))\n",
    "plt.plot(fpr,tpr,'-b',linewidth=1)\n",
    "plt.plot([0,1], [0,1], 'k--' )\n",
    "plt.title('ROC curve for Cat Boost Model')\n",
    "plt.xlabel(\"False Positive Rate\")\n",
    "plt.ylabel('True Positive Rate')\n",
    "plt.show()"
   ]
  },
  {
   "cell_type": "code",
   "execution_count": 87,
   "metadata": {
    "scrolled": true
   },
   "outputs": [
    {
     "name": "stdout",
     "output_type": "stream",
     "text": [
      "ROC AUC Scores: 0.8010598034744716\n"
     ]
    }
   ],
   "source": [
    "#finding ROC AUC Scores:\n",
    "\n",
    "from sklearn.metrics import roc_auc_score\n",
    "print('ROC AUC Scores: {}'.format(roc_auc_score(y_test, y_pred_cat)))"
   ]
  },
  {
   "cell_type": "markdown",
   "metadata": {},
   "source": [
    "#### Finding whether model performance can be improved using Cross Validation Score:"
   ]
  },
  {
   "cell_type": "code",
   "execution_count": 88,
   "metadata": {},
   "outputs": [
    {
     "name": "stdout",
     "output_type": "stream",
     "text": [
      "Learning rate set to 0.17474\n",
      "0:\ttotal: 26.3ms\tremaining: 2.6s\n",
      "1:\ttotal: 50.9ms\tremaining: 2.5s\n",
      "2:\ttotal: 77.5ms\tremaining: 2.51s\n",
      "3:\ttotal: 103ms\tremaining: 2.48s\n",
      "4:\ttotal: 129ms\tremaining: 2.45s\n",
      "5:\ttotal: 156ms\tremaining: 2.44s\n",
      "6:\ttotal: 182ms\tremaining: 2.41s\n",
      "7:\ttotal: 211ms\tremaining: 2.43s\n",
      "8:\ttotal: 241ms\tremaining: 2.44s\n",
      "9:\ttotal: 272ms\tremaining: 2.45s\n",
      "10:\ttotal: 299ms\tremaining: 2.42s\n",
      "11:\ttotal: 327ms\tremaining: 2.4s\n",
      "12:\ttotal: 353ms\tremaining: 2.36s\n",
      "13:\ttotal: 380ms\tremaining: 2.34s\n",
      "14:\ttotal: 411ms\tremaining: 2.33s\n",
      "15:\ttotal: 441ms\tremaining: 2.32s\n",
      "16:\ttotal: 472ms\tremaining: 2.31s\n",
      "17:\ttotal: 501ms\tremaining: 2.28s\n",
      "18:\ttotal: 527ms\tremaining: 2.25s\n",
      "19:\ttotal: 553ms\tremaining: 2.21s\n",
      "20:\ttotal: 581ms\tremaining: 2.18s\n",
      "21:\ttotal: 612ms\tremaining: 2.17s\n",
      "22:\ttotal: 646ms\tremaining: 2.16s\n",
      "23:\ttotal: 678ms\tremaining: 2.15s\n",
      "24:\ttotal: 706ms\tremaining: 2.12s\n",
      "25:\ttotal: 732ms\tremaining: 2.08s\n",
      "26:\ttotal: 758ms\tremaining: 2.05s\n",
      "27:\ttotal: 791ms\tremaining: 2.03s\n",
      "28:\ttotal: 823ms\tremaining: 2.01s\n",
      "29:\ttotal: 855ms\tremaining: 2s\n",
      "30:\ttotal: 885ms\tremaining: 1.97s\n",
      "31:\ttotal: 914ms\tremaining: 1.94s\n",
      "32:\ttotal: 940ms\tremaining: 1.91s\n",
      "33:\ttotal: 965ms\tremaining: 1.87s\n",
      "34:\ttotal: 991ms\tremaining: 1.84s\n",
      "35:\ttotal: 1.02s\tremaining: 1.82s\n",
      "36:\ttotal: 1.05s\tremaining: 1.79s\n",
      "37:\ttotal: 1.08s\tremaining: 1.76s\n",
      "38:\ttotal: 1.11s\tremaining: 1.74s\n",
      "39:\ttotal: 1.14s\tremaining: 1.71s\n",
      "40:\ttotal: 1.16s\tremaining: 1.68s\n",
      "41:\ttotal: 1.2s\tremaining: 1.65s\n",
      "42:\ttotal: 1.22s\tremaining: 1.62s\n",
      "43:\ttotal: 1.25s\tremaining: 1.59s\n",
      "44:\ttotal: 1.28s\tremaining: 1.57s\n",
      "45:\ttotal: 1.31s\tremaining: 1.54s\n",
      "46:\ttotal: 1.33s\tremaining: 1.5s\n",
      "47:\ttotal: 1.36s\tremaining: 1.47s\n",
      "48:\ttotal: 1.39s\tremaining: 1.44s\n",
      "49:\ttotal: 1.42s\tremaining: 1.42s\n",
      "50:\ttotal: 1.45s\tremaining: 1.39s\n",
      "51:\ttotal: 1.48s\tremaining: 1.37s\n",
      "52:\ttotal: 1.51s\tremaining: 1.34s\n",
      "53:\ttotal: 1.53s\tremaining: 1.31s\n",
      "54:\ttotal: 1.56s\tremaining: 1.28s\n",
      "55:\ttotal: 1.59s\tremaining: 1.25s\n",
      "56:\ttotal: 1.61s\tremaining: 1.22s\n",
      "57:\ttotal: 1.65s\tremaining: 1.19s\n",
      "58:\ttotal: 1.68s\tremaining: 1.17s\n",
      "59:\ttotal: 1.71s\tremaining: 1.14s\n",
      "60:\ttotal: 1.74s\tremaining: 1.11s\n",
      "61:\ttotal: 1.76s\tremaining: 1.08s\n",
      "62:\ttotal: 1.79s\tremaining: 1.05s\n",
      "63:\ttotal: 1.82s\tremaining: 1.02s\n",
      "64:\ttotal: 1.84s\tremaining: 993ms\n",
      "65:\ttotal: 1.87s\tremaining: 965ms\n",
      "66:\ttotal: 1.9s\tremaining: 938ms\n",
      "67:\ttotal: 1.96s\tremaining: 921ms\n",
      "68:\ttotal: 2.01s\tremaining: 903ms\n",
      "69:\ttotal: 2.04s\tremaining: 874ms\n",
      "70:\ttotal: 2.08s\tremaining: 848ms\n",
      "71:\ttotal: 2.11s\tremaining: 819ms\n",
      "72:\ttotal: 2.14s\tremaining: 790ms\n",
      "73:\ttotal: 2.17s\tremaining: 762ms\n",
      "74:\ttotal: 2.2s\tremaining: 732ms\n",
      "75:\ttotal: 2.22s\tremaining: 702ms\n",
      "76:\ttotal: 2.25s\tremaining: 672ms\n",
      "77:\ttotal: 2.28s\tremaining: 642ms\n",
      "78:\ttotal: 2.3s\tremaining: 612ms\n",
      "79:\ttotal: 2.33s\tremaining: 584ms\n",
      "80:\ttotal: 2.36s\tremaining: 555ms\n",
      "81:\ttotal: 2.39s\tremaining: 526ms\n",
      "82:\ttotal: 2.42s\tremaining: 496ms\n",
      "83:\ttotal: 2.45s\tremaining: 467ms\n",
      "84:\ttotal: 2.48s\tremaining: 437ms\n",
      "85:\ttotal: 2.5s\tremaining: 408ms\n",
      "86:\ttotal: 2.53s\tremaining: 378ms\n",
      "87:\ttotal: 2.56s\tremaining: 349ms\n",
      "88:\ttotal: 2.59s\tremaining: 320ms\n",
      "89:\ttotal: 2.62s\tremaining: 291ms\n",
      "90:\ttotal: 2.65s\tremaining: 262ms\n",
      "91:\ttotal: 2.68s\tremaining: 233ms\n",
      "92:\ttotal: 2.7s\tremaining: 203ms\n",
      "93:\ttotal: 2.73s\tremaining: 174ms\n",
      "94:\ttotal: 2.76s\tremaining: 145ms\n",
      "95:\ttotal: 2.79s\tremaining: 116ms\n",
      "96:\ttotal: 2.82s\tremaining: 87.1ms\n",
      "97:\ttotal: 2.85s\tremaining: 58.1ms\n",
      "98:\ttotal: 2.88s\tremaining: 29.1ms\n",
      "99:\ttotal: 2.9s\tremaining: 0us\n",
      "Learning rate set to 0.17474\n",
      "0:\ttotal: 26ms\tremaining: 2.57s\n",
      "1:\ttotal: 51.8ms\tremaining: 2.54s\n",
      "2:\ttotal: 78.8ms\tremaining: 2.55s\n",
      "3:\ttotal: 105ms\tremaining: 2.53s\n",
      "4:\ttotal: 131ms\tremaining: 2.5s\n",
      "5:\ttotal: 158ms\tremaining: 2.47s\n",
      "6:\ttotal: 190ms\tremaining: 2.52s\n",
      "7:\ttotal: 220ms\tremaining: 2.52s\n",
      "8:\ttotal: 249ms\tremaining: 2.52s\n",
      "9:\ttotal: 293ms\tremaining: 2.63s\n",
      "10:\ttotal: 323ms\tremaining: 2.62s\n",
      "11:\ttotal: 354ms\tremaining: 2.59s\n",
      "12:\ttotal: 383ms\tremaining: 2.56s\n",
      "13:\ttotal: 416ms\tremaining: 2.55s\n",
      "14:\ttotal: 446ms\tremaining: 2.53s\n",
      "15:\ttotal: 478ms\tremaining: 2.51s\n",
      "16:\ttotal: 512ms\tremaining: 2.5s\n",
      "17:\ttotal: 543ms\tremaining: 2.47s\n",
      "18:\ttotal: 572ms\tremaining: 2.44s\n",
      "19:\ttotal: 602ms\tremaining: 2.41s\n",
      "20:\ttotal: 630ms\tremaining: 2.37s\n",
      "21:\ttotal: 661ms\tremaining: 2.34s\n",
      "22:\ttotal: 689ms\tremaining: 2.31s\n",
      "23:\ttotal: 720ms\tremaining: 2.28s\n",
      "24:\ttotal: 748ms\tremaining: 2.24s\n",
      "25:\ttotal: 775ms\tremaining: 2.21s\n",
      "26:\ttotal: 804ms\tremaining: 2.17s\n",
      "27:\ttotal: 835ms\tremaining: 2.15s\n",
      "28:\ttotal: 865ms\tremaining: 2.12s\n",
      "29:\ttotal: 895ms\tremaining: 2.09s\n",
      "30:\ttotal: 924ms\tremaining: 2.06s\n",
      "31:\ttotal: 951ms\tremaining: 2.02s\n",
      "32:\ttotal: 979ms\tremaining: 1.99s\n",
      "33:\ttotal: 1.01s\tremaining: 1.96s\n",
      "34:\ttotal: 1.04s\tremaining: 1.93s\n",
      "35:\ttotal: 1.07s\tremaining: 1.9s\n",
      "36:\ttotal: 1.1s\tremaining: 1.87s\n",
      "37:\ttotal: 1.13s\tremaining: 1.84s\n",
      "38:\ttotal: 1.15s\tremaining: 1.8s\n",
      "39:\ttotal: 1.18s\tremaining: 1.77s\n",
      "40:\ttotal: 1.21s\tremaining: 1.74s\n",
      "41:\ttotal: 1.24s\tremaining: 1.71s\n",
      "42:\ttotal: 1.27s\tremaining: 1.69s\n",
      "43:\ttotal: 1.3s\tremaining: 1.66s\n",
      "44:\ttotal: 1.33s\tremaining: 1.63s\n",
      "45:\ttotal: 1.36s\tremaining: 1.6s\n",
      "46:\ttotal: 1.39s\tremaining: 1.56s\n",
      "47:\ttotal: 1.41s\tremaining: 1.53s\n",
      "48:\ttotal: 1.45s\tremaining: 1.5s\n",
      "49:\ttotal: 1.48s\tremaining: 1.48s\n",
      "50:\ttotal: 1.51s\tremaining: 1.45s\n",
      "51:\ttotal: 1.54s\tremaining: 1.42s\n",
      "52:\ttotal: 1.57s\tremaining: 1.39s\n",
      "53:\ttotal: 1.6s\tremaining: 1.36s\n",
      "54:\ttotal: 1.63s\tremaining: 1.33s\n",
      "55:\ttotal: 1.66s\tremaining: 1.3s\n",
      "56:\ttotal: 1.69s\tremaining: 1.27s\n",
      "57:\ttotal: 1.72s\tremaining: 1.24s\n",
      "58:\ttotal: 1.75s\tremaining: 1.21s\n",
      "59:\ttotal: 1.77s\tremaining: 1.18s\n",
      "60:\ttotal: 1.8s\tremaining: 1.15s\n",
      "61:\ttotal: 1.83s\tremaining: 1.12s\n",
      "62:\ttotal: 1.86s\tremaining: 1.09s\n",
      "63:\ttotal: 1.89s\tremaining: 1.06s\n",
      "64:\ttotal: 1.92s\tremaining: 1.03s\n",
      "65:\ttotal: 1.95s\tremaining: 1s\n",
      "66:\ttotal: 1.98s\tremaining: 974ms\n",
      "67:\ttotal: 2s\tremaining: 943ms\n",
      "68:\ttotal: 2.03s\tremaining: 912ms\n",
      "69:\ttotal: 2.06s\tremaining: 884ms\n",
      "70:\ttotal: 2.09s\tremaining: 856ms\n",
      "71:\ttotal: 2.12s\tremaining: 826ms\n",
      "72:\ttotal: 2.15s\tremaining: 797ms\n",
      "73:\ttotal: 2.18s\tremaining: 767ms\n",
      "74:\ttotal: 2.21s\tremaining: 738ms\n",
      "75:\ttotal: 2.25s\tremaining: 711ms\n",
      "76:\ttotal: 2.28s\tremaining: 682ms\n",
      "77:\ttotal: 2.31s\tremaining: 653ms\n",
      "78:\ttotal: 2.35s\tremaining: 624ms\n",
      "79:\ttotal: 2.37s\tremaining: 594ms\n",
      "80:\ttotal: 2.4s\tremaining: 563ms\n",
      "81:\ttotal: 2.43s\tremaining: 533ms\n",
      "82:\ttotal: 2.45s\tremaining: 503ms\n",
      "83:\ttotal: 2.48s\tremaining: 473ms\n",
      "84:\ttotal: 2.52s\tremaining: 444ms\n",
      "85:\ttotal: 2.55s\tremaining: 415ms\n",
      "86:\ttotal: 2.58s\tremaining: 386ms\n",
      "87:\ttotal: 2.61s\tremaining: 356ms\n",
      "88:\ttotal: 2.64s\tremaining: 326ms\n",
      "89:\ttotal: 2.67s\tremaining: 296ms\n",
      "90:\ttotal: 2.7s\tremaining: 267ms\n",
      "91:\ttotal: 2.73s\tremaining: 237ms\n",
      "92:\ttotal: 2.76s\tremaining: 208ms\n",
      "93:\ttotal: 2.79s\tremaining: 178ms\n",
      "94:\ttotal: 2.82s\tremaining: 148ms\n",
      "95:\ttotal: 2.85s\tremaining: 119ms\n",
      "96:\ttotal: 2.87s\tremaining: 88.9ms\n",
      "97:\ttotal: 2.9s\tremaining: 59.2ms\n",
      "98:\ttotal: 2.93s\tremaining: 29.6ms\n",
      "99:\ttotal: 2.96s\tremaining: 0us\n",
      "Learning rate set to 0.17474\n",
      "0:\ttotal: 41.6ms\tremaining: 4.12s\n",
      "1:\ttotal: 65.9ms\tremaining: 3.23s\n",
      "2:\ttotal: 91.6ms\tremaining: 2.96s\n",
      "3:\ttotal: 117ms\tremaining: 2.8s\n",
      "4:\ttotal: 143ms\tremaining: 2.72s\n",
      "5:\ttotal: 170ms\tremaining: 2.66s\n",
      "6:\ttotal: 201ms\tremaining: 2.67s\n",
      "7:\ttotal: 231ms\tremaining: 2.65s\n",
      "8:\ttotal: 261ms\tremaining: 2.64s\n",
      "9:\ttotal: 292ms\tremaining: 2.63s\n",
      "10:\ttotal: 320ms\tremaining: 2.59s\n",
      "11:\ttotal: 346ms\tremaining: 2.54s\n",
      "12:\ttotal: 374ms\tremaining: 2.5s\n",
      "13:\ttotal: 401ms\tremaining: 2.46s\n",
      "14:\ttotal: 431ms\tremaining: 2.44s\n",
      "15:\ttotal: 460ms\tremaining: 2.42s\n",
      "16:\ttotal: 490ms\tremaining: 2.39s\n",
      "17:\ttotal: 520ms\tremaining: 2.37s\n",
      "18:\ttotal: 551ms\tremaining: 2.35s\n",
      "19:\ttotal: 580ms\tremaining: 2.32s\n",
      "20:\ttotal: 612ms\tremaining: 2.3s\n",
      "21:\ttotal: 642ms\tremaining: 2.28s\n",
      "22:\ttotal: 669ms\tremaining: 2.24s\n",
      "23:\ttotal: 698ms\tremaining: 2.21s\n",
      "24:\ttotal: 727ms\tremaining: 2.18s\n",
      "25:\ttotal: 755ms\tremaining: 2.15s\n",
      "26:\ttotal: 781ms\tremaining: 2.11s\n",
      "27:\ttotal: 807ms\tremaining: 2.08s\n",
      "28:\ttotal: 839ms\tremaining: 2.05s\n",
      "29:\ttotal: 868ms\tremaining: 2.02s\n",
      "30:\ttotal: 900ms\tremaining: 2s\n",
      "31:\ttotal: 929ms\tremaining: 1.97s\n",
      "32:\ttotal: 959ms\tremaining: 1.95s\n",
      "33:\ttotal: 985ms\tremaining: 1.91s\n",
      "34:\ttotal: 1.01s\tremaining: 1.88s\n",
      "35:\ttotal: 1.04s\tremaining: 1.85s\n",
      "36:\ttotal: 1.07s\tremaining: 1.82s\n",
      "37:\ttotal: 1.1s\tremaining: 1.79s\n",
      "38:\ttotal: 1.13s\tremaining: 1.76s\n",
      "39:\ttotal: 1.16s\tremaining: 1.74s\n",
      "40:\ttotal: 1.19s\tremaining: 1.71s\n",
      "41:\ttotal: 1.21s\tremaining: 1.68s\n"
     ]
    },
    {
     "name": "stdout",
     "output_type": "stream",
     "text": [
      "42:\ttotal: 1.24s\tremaining: 1.65s\n",
      "43:\ttotal: 1.27s\tremaining: 1.62s\n",
      "44:\ttotal: 1.3s\tremaining: 1.59s\n",
      "45:\ttotal: 1.33s\tremaining: 1.56s\n",
      "46:\ttotal: 1.36s\tremaining: 1.53s\n",
      "47:\ttotal: 1.39s\tremaining: 1.5s\n",
      "48:\ttotal: 1.41s\tremaining: 1.47s\n",
      "49:\ttotal: 1.44s\tremaining: 1.44s\n",
      "50:\ttotal: 1.47s\tremaining: 1.41s\n",
      "51:\ttotal: 1.5s\tremaining: 1.39s\n",
      "52:\ttotal: 1.53s\tremaining: 1.36s\n",
      "53:\ttotal: 1.56s\tremaining: 1.33s\n",
      "54:\ttotal: 1.59s\tremaining: 1.3s\n",
      "55:\ttotal: 1.61s\tremaining: 1.27s\n",
      "56:\ttotal: 1.64s\tremaining: 1.24s\n",
      "57:\ttotal: 1.67s\tremaining: 1.21s\n",
      "58:\ttotal: 1.7s\tremaining: 1.18s\n",
      "59:\ttotal: 1.73s\tremaining: 1.15s\n",
      "60:\ttotal: 1.75s\tremaining: 1.12s\n",
      "61:\ttotal: 1.78s\tremaining: 1.09s\n",
      "62:\ttotal: 1.81s\tremaining: 1.06s\n",
      "63:\ttotal: 1.84s\tremaining: 1.03s\n",
      "64:\ttotal: 1.87s\tremaining: 1.01s\n",
      "65:\ttotal: 1.9s\tremaining: 978ms\n",
      "66:\ttotal: 1.93s\tremaining: 949ms\n",
      "67:\ttotal: 1.95s\tremaining: 919ms\n",
      "68:\ttotal: 1.98s\tremaining: 889ms\n",
      "69:\ttotal: 2s\tremaining: 859ms\n",
      "70:\ttotal: 2.03s\tremaining: 830ms\n",
      "71:\ttotal: 2.06s\tremaining: 802ms\n",
      "72:\ttotal: 2.09s\tremaining: 774ms\n",
      "73:\ttotal: 2.12s\tremaining: 745ms\n",
      "74:\ttotal: 2.15s\tremaining: 715ms\n",
      "75:\ttotal: 2.17s\tremaining: 686ms\n",
      "76:\ttotal: 2.2s\tremaining: 657ms\n",
      "77:\ttotal: 2.22s\tremaining: 627ms\n",
      "78:\ttotal: 2.25s\tremaining: 598ms\n",
      "79:\ttotal: 2.28s\tremaining: 570ms\n",
      "80:\ttotal: 2.31s\tremaining: 542ms\n",
      "81:\ttotal: 2.34s\tremaining: 514ms\n",
      "82:\ttotal: 2.37s\tremaining: 485ms\n",
      "83:\ttotal: 2.39s\tremaining: 456ms\n",
      "84:\ttotal: 2.42s\tremaining: 427ms\n",
      "85:\ttotal: 2.45s\tremaining: 398ms\n",
      "86:\ttotal: 2.47s\tremaining: 370ms\n",
      "87:\ttotal: 2.5s\tremaining: 342ms\n",
      "88:\ttotal: 2.54s\tremaining: 313ms\n",
      "89:\ttotal: 2.57s\tremaining: 285ms\n",
      "90:\ttotal: 2.59s\tremaining: 257ms\n",
      "91:\ttotal: 2.62s\tremaining: 228ms\n",
      "92:\ttotal: 2.65s\tremaining: 199ms\n",
      "93:\ttotal: 2.67s\tremaining: 171ms\n",
      "94:\ttotal: 2.7s\tremaining: 142ms\n",
      "95:\ttotal: 2.73s\tremaining: 114ms\n",
      "96:\ttotal: 2.76s\tremaining: 85.4ms\n",
      "97:\ttotal: 2.79s\tremaining: 57ms\n",
      "98:\ttotal: 2.82s\tremaining: 28.5ms\n",
      "99:\ttotal: 2.85s\tremaining: 0us\n",
      "Learning rate set to 0.17474\n",
      "0:\ttotal: 26.3ms\tremaining: 2.6s\n",
      "1:\ttotal: 50.7ms\tremaining: 2.48s\n",
      "2:\ttotal: 77.4ms\tremaining: 2.5s\n",
      "3:\ttotal: 104ms\tremaining: 2.49s\n",
      "4:\ttotal: 130ms\tremaining: 2.46s\n",
      "5:\ttotal: 156ms\tremaining: 2.45s\n",
      "6:\ttotal: 181ms\tremaining: 2.41s\n",
      "7:\ttotal: 211ms\tremaining: 2.42s\n",
      "8:\ttotal: 241ms\tremaining: 2.44s\n",
      "9:\ttotal: 272ms\tremaining: 2.45s\n",
      "10:\ttotal: 299ms\tremaining: 2.42s\n",
      "11:\ttotal: 325ms\tremaining: 2.39s\n",
      "12:\ttotal: 351ms\tremaining: 2.35s\n",
      "13:\ttotal: 378ms\tremaining: 2.33s\n",
      "14:\ttotal: 408ms\tremaining: 2.31s\n",
      "15:\ttotal: 437ms\tremaining: 2.29s\n",
      "16:\ttotal: 467ms\tremaining: 2.28s\n",
      "17:\ttotal: 496ms\tremaining: 2.26s\n",
      "18:\ttotal: 525ms\tremaining: 2.24s\n",
      "19:\ttotal: 555ms\tremaining: 2.22s\n",
      "20:\ttotal: 586ms\tremaining: 2.21s\n",
      "21:\ttotal: 618ms\tremaining: 2.19s\n",
      "22:\ttotal: 648ms\tremaining: 2.17s\n",
      "23:\ttotal: 676ms\tremaining: 2.14s\n",
      "24:\ttotal: 703ms\tremaining: 2.11s\n",
      "25:\ttotal: 728ms\tremaining: 2.07s\n",
      "26:\ttotal: 754ms\tremaining: 2.04s\n",
      "27:\ttotal: 780ms\tremaining: 2s\n",
      "28:\ttotal: 813ms\tremaining: 1.99s\n",
      "29:\ttotal: 844ms\tremaining: 1.97s\n",
      "30:\ttotal: 875ms\tremaining: 1.95s\n",
      "31:\ttotal: 903ms\tremaining: 1.92s\n",
      "32:\ttotal: 929ms\tremaining: 1.89s\n",
      "33:\ttotal: 954ms\tremaining: 1.85s\n",
      "34:\ttotal: 981ms\tremaining: 1.82s\n",
      "35:\ttotal: 1.01s\tremaining: 1.79s\n",
      "36:\ttotal: 1.04s\tremaining: 1.76s\n",
      "37:\ttotal: 1.07s\tremaining: 1.74s\n",
      "38:\ttotal: 1.1s\tremaining: 1.72s\n",
      "39:\ttotal: 1.13s\tremaining: 1.69s\n",
      "40:\ttotal: 1.15s\tremaining: 1.66s\n",
      "41:\ttotal: 1.18s\tremaining: 1.63s\n",
      "42:\ttotal: 1.2s\tremaining: 1.6s\n",
      "43:\ttotal: 1.23s\tremaining: 1.57s\n",
      "44:\ttotal: 1.26s\tremaining: 1.54s\n",
      "45:\ttotal: 1.29s\tremaining: 1.51s\n",
      "46:\ttotal: 1.32s\tremaining: 1.49s\n",
      "47:\ttotal: 1.35s\tremaining: 1.47s\n",
      "48:\ttotal: 1.38s\tremaining: 1.44s\n",
      "49:\ttotal: 1.41s\tremaining: 1.41s\n",
      "50:\ttotal: 1.44s\tremaining: 1.38s\n",
      "51:\ttotal: 1.47s\tremaining: 1.35s\n",
      "52:\ttotal: 1.5s\tremaining: 1.33s\n",
      "53:\ttotal: 1.52s\tremaining: 1.3s\n",
      "54:\ttotal: 1.55s\tremaining: 1.27s\n",
      "55:\ttotal: 1.58s\tremaining: 1.24s\n",
      "56:\ttotal: 1.61s\tremaining: 1.21s\n",
      "57:\ttotal: 1.64s\tremaining: 1.19s\n",
      "58:\ttotal: 1.67s\tremaining: 1.16s\n",
      "59:\ttotal: 1.7s\tremaining: 1.13s\n",
      "60:\ttotal: 1.73s\tremaining: 1.1s\n",
      "61:\ttotal: 1.76s\tremaining: 1.08s\n",
      "62:\ttotal: 1.78s\tremaining: 1.05s\n",
      "63:\ttotal: 1.81s\tremaining: 1.02s\n",
      "64:\ttotal: 1.84s\tremaining: 991ms\n",
      "65:\ttotal: 1.87s\tremaining: 964ms\n",
      "66:\ttotal: 1.9s\tremaining: 936ms\n",
      "67:\ttotal: 1.93s\tremaining: 909ms\n",
      "68:\ttotal: 1.96s\tremaining: 881ms\n",
      "69:\ttotal: 1.99s\tremaining: 852ms\n",
      "70:\ttotal: 2.01s\tremaining: 822ms\n",
      "71:\ttotal: 2.04s\tremaining: 795ms\n",
      "72:\ttotal: 2.07s\tremaining: 767ms\n",
      "73:\ttotal: 2.1s\tremaining: 739ms\n",
      "74:\ttotal: 2.13s\tremaining: 711ms\n",
      "75:\ttotal: 2.16s\tremaining: 682ms\n",
      "76:\ttotal: 2.19s\tremaining: 653ms\n",
      "77:\ttotal: 2.21s\tremaining: 624ms\n",
      "78:\ttotal: 2.24s\tremaining: 596ms\n",
      "79:\ttotal: 2.27s\tremaining: 569ms\n",
      "80:\ttotal: 2.31s\tremaining: 541ms\n",
      "81:\ttotal: 2.34s\tremaining: 513ms\n",
      "82:\ttotal: 2.37s\tremaining: 485ms\n",
      "83:\ttotal: 2.39s\tremaining: 456ms\n",
      "84:\ttotal: 2.42s\tremaining: 427ms\n",
      "85:\ttotal: 2.45s\tremaining: 399ms\n",
      "86:\ttotal: 2.48s\tremaining: 370ms\n",
      "87:\ttotal: 2.51s\tremaining: 342ms\n",
      "88:\ttotal: 2.54s\tremaining: 314ms\n",
      "89:\ttotal: 2.56s\tremaining: 285ms\n",
      "90:\ttotal: 2.59s\tremaining: 256ms\n",
      "91:\ttotal: 2.62s\tremaining: 228ms\n",
      "92:\ttotal: 2.65s\tremaining: 199ms\n",
      "93:\ttotal: 2.68s\tremaining: 171ms\n",
      "94:\ttotal: 2.71s\tremaining: 143ms\n",
      "95:\ttotal: 2.74s\tremaining: 114ms\n",
      "96:\ttotal: 2.77s\tremaining: 85.6ms\n",
      "97:\ttotal: 2.79s\tremaining: 57ms\n",
      "98:\ttotal: 2.82s\tremaining: 28.5ms\n",
      "99:\ttotal: 2.85s\tremaining: 0us\n",
      "Learning rate set to 0.17474\n",
      "0:\ttotal: 26.3ms\tremaining: 2.6s\n",
      "1:\ttotal: 52ms\tremaining: 2.55s\n",
      "2:\ttotal: 78.7ms\tremaining: 2.54s\n",
      "3:\ttotal: 105ms\tremaining: 2.51s\n",
      "4:\ttotal: 130ms\tremaining: 2.47s\n",
      "5:\ttotal: 157ms\tremaining: 2.45s\n",
      "6:\ttotal: 182ms\tremaining: 2.42s\n",
      "7:\ttotal: 215ms\tremaining: 2.47s\n",
      "8:\ttotal: 245ms\tremaining: 2.48s\n",
      "9:\ttotal: 274ms\tremaining: 2.47s\n",
      "10:\ttotal: 307ms\tremaining: 2.48s\n",
      "11:\ttotal: 334ms\tremaining: 2.45s\n",
      "12:\ttotal: 359ms\tremaining: 2.4s\n",
      "13:\ttotal: 386ms\tremaining: 2.37s\n",
      "14:\ttotal: 419ms\tremaining: 2.37s\n",
      "15:\ttotal: 447ms\tremaining: 2.35s\n",
      "16:\ttotal: 480ms\tremaining: 2.34s\n",
      "17:\ttotal: 513ms\tremaining: 2.33s\n",
      "18:\ttotal: 543ms\tremaining: 2.31s\n",
      "19:\ttotal: 571ms\tremaining: 2.28s\n",
      "20:\ttotal: 598ms\tremaining: 2.25s\n",
      "21:\ttotal: 631ms\tremaining: 2.23s\n",
      "22:\ttotal: 660ms\tremaining: 2.21s\n",
      "23:\ttotal: 690ms\tremaining: 2.19s\n",
      "24:\ttotal: 721ms\tremaining: 2.16s\n",
      "25:\ttotal: 748ms\tremaining: 2.13s\n",
      "26:\ttotal: 775ms\tremaining: 2.09s\n",
      "27:\ttotal: 801ms\tremaining: 2.06s\n",
      "28:\ttotal: 828ms\tremaining: 2.03s\n",
      "29:\ttotal: 859ms\tremaining: 2s\n",
      "30:\ttotal: 889ms\tremaining: 1.98s\n",
      "31:\ttotal: 918ms\tremaining: 1.95s\n",
      "32:\ttotal: 948ms\tremaining: 1.92s\n",
      "33:\ttotal: 977ms\tremaining: 1.9s\n",
      "34:\ttotal: 1s\tremaining: 1.86s\n",
      "35:\ttotal: 1.03s\tremaining: 1.83s\n",
      "36:\ttotal: 1.06s\tremaining: 1.8s\n",
      "37:\ttotal: 1.09s\tremaining: 1.77s\n",
      "38:\ttotal: 1.12s\tremaining: 1.75s\n",
      "39:\ttotal: 1.15s\tremaining: 1.72s\n",
      "40:\ttotal: 1.18s\tremaining: 1.69s\n",
      "41:\ttotal: 1.21s\tremaining: 1.67s\n",
      "42:\ttotal: 1.23s\tremaining: 1.63s\n",
      "43:\ttotal: 1.26s\tremaining: 1.6s\n",
      "44:\ttotal: 1.29s\tremaining: 1.57s\n",
      "45:\ttotal: 1.32s\tremaining: 1.54s\n",
      "46:\ttotal: 1.34s\tremaining: 1.52s\n",
      "47:\ttotal: 1.37s\tremaining: 1.49s\n",
      "48:\ttotal: 1.4s\tremaining: 1.46s\n",
      "49:\ttotal: 1.43s\tremaining: 1.43s\n",
      "50:\ttotal: 1.46s\tremaining: 1.4s\n",
      "51:\ttotal: 1.49s\tremaining: 1.38s\n",
      "52:\ttotal: 1.52s\tremaining: 1.35s\n",
      "53:\ttotal: 1.55s\tremaining: 1.32s\n",
      "54:\ttotal: 1.58s\tremaining: 1.29s\n",
      "55:\ttotal: 1.6s\tremaining: 1.26s\n",
      "56:\ttotal: 1.63s\tremaining: 1.23s\n",
      "57:\ttotal: 1.66s\tremaining: 1.2s\n",
      "58:\ttotal: 1.69s\tremaining: 1.17s\n",
      "59:\ttotal: 1.72s\tremaining: 1.15s\n",
      "60:\ttotal: 1.75s\tremaining: 1.12s\n",
      "61:\ttotal: 1.78s\tremaining: 1.09s\n",
      "62:\ttotal: 1.81s\tremaining: 1.06s\n",
      "63:\ttotal: 1.84s\tremaining: 1.03s\n",
      "64:\ttotal: 1.86s\tremaining: 1s\n",
      "65:\ttotal: 1.89s\tremaining: 974ms\n",
      "66:\ttotal: 1.92s\tremaining: 946ms\n",
      "67:\ttotal: 1.95s\tremaining: 917ms\n",
      "68:\ttotal: 1.98s\tremaining: 889ms\n",
      "69:\ttotal: 2.01s\tremaining: 861ms\n",
      "70:\ttotal: 2.04s\tremaining: 832ms\n",
      "71:\ttotal: 2.06s\tremaining: 803ms\n",
      "72:\ttotal: 2.1s\tremaining: 775ms\n",
      "73:\ttotal: 2.12s\tremaining: 746ms\n",
      "74:\ttotal: 2.15s\tremaining: 718ms\n",
      "75:\ttotal: 2.19s\tremaining: 690ms\n",
      "76:\ttotal: 2.22s\tremaining: 662ms\n",
      "77:\ttotal: 2.24s\tremaining: 633ms\n",
      "78:\ttotal: 2.27s\tremaining: 604ms\n",
      "79:\ttotal: 2.3s\tremaining: 576ms\n",
      "80:\ttotal: 2.33s\tremaining: 548ms\n",
      "81:\ttotal: 2.36s\tremaining: 519ms\n",
      "82:\ttotal: 2.39s\tremaining: 490ms\n",
      "83:\ttotal: 2.42s\tremaining: 462ms\n",
      "84:\ttotal: 2.45s\tremaining: 432ms\n",
      "85:\ttotal: 2.48s\tremaining: 403ms\n"
     ]
    },
    {
     "name": "stdout",
     "output_type": "stream",
     "text": [
      "86:\ttotal: 2.51s\tremaining: 375ms\n",
      "87:\ttotal: 2.54s\tremaining: 346ms\n",
      "88:\ttotal: 2.57s\tremaining: 317ms\n",
      "89:\ttotal: 2.6s\tremaining: 288ms\n",
      "90:\ttotal: 2.63s\tremaining: 260ms\n",
      "91:\ttotal: 2.65s\tremaining: 231ms\n",
      "92:\ttotal: 2.68s\tremaining: 202ms\n",
      "93:\ttotal: 2.71s\tremaining: 173ms\n",
      "94:\ttotal: 2.74s\tremaining: 144ms\n",
      "95:\ttotal: 2.77s\tremaining: 115ms\n",
      "96:\ttotal: 2.8s\tremaining: 86.6ms\n",
      "97:\ttotal: 2.83s\tremaining: 57.7ms\n",
      "98:\ttotal: 2.85s\tremaining: 28.8ms\n",
      "99:\ttotal: 2.88s\tremaining: 0us\n",
      "Cross-validation scores:[0.87240356 0.86721068 0.86424332 0.86721068 0.85534125]\n"
     ]
    }
   ],
   "source": [
    "from sklearn.model_selection import cross_val_score\n",
    "scores = cross_val_score(cat_classifier, X_train, y_train, cv = 5, scoring='accuracy')\n",
    "print('Cross-validation scores:{}'.format(scores))"
   ]
  },
  {
   "cell_type": "code",
   "execution_count": 89,
   "metadata": {},
   "outputs": [
    {
     "name": "stdout",
     "output_type": "stream",
     "text": [
      "Average cross-validation score: 0.8652818991097924\n"
     ]
    }
   ],
   "source": [
    "print('Average cross-validation score: {}'.format(scores.mean()))"
   ]
  },
  {
   "cell_type": "markdown",
   "metadata": {},
   "source": [
    "#### The mean accuracy score of cross validation is almost same like original model accuracy score which is 0.8579076625491403. So, accuracy of model may not be improved using Cross-validation."
   ]
  },
  {
   "cell_type": "markdown",
   "metadata": {},
   "source": [
    "#### Random Forest"
   ]
  },
  {
   "cell_type": "code",
   "execution_count": 90,
   "metadata": {},
   "outputs": [],
   "source": [
    "from sklearn.ensemble import RandomForestClassifier"
   ]
  },
  {
   "cell_type": "markdown",
   "metadata": {},
   "source": [
    "Model Training:"
   ]
  },
  {
   "cell_type": "code",
   "execution_count": 91,
   "metadata": {},
   "outputs": [],
   "source": [
    "start_time = time.time()\n",
    "classifier_rf=RandomForestClassifier()\n",
    "classifier_rf.fit(X_train,y_train)\n",
    "end_time = time.time()"
   ]
  },
  {
   "cell_type": "code",
   "execution_count": 92,
   "metadata": {},
   "outputs": [
    {
     "name": "stdout",
     "output_type": "stream",
     "text": [
      "Time Taken to train: 9.208181142807007\n"
     ]
    }
   ],
   "source": [
    "print(\"Time Taken to train: {}\".format(end_time - start_time))"
   ]
  },
  {
   "cell_type": "markdown",
   "metadata": {},
   "source": [
    "Model Testing:"
   ]
  },
  {
   "cell_type": "code",
   "execution_count": 93,
   "metadata": {},
   "outputs": [],
   "source": [
    "y_pred_rf = classifier_rf.predict(X_test)"
   ]
  },
  {
   "cell_type": "code",
   "execution_count": 94,
   "metadata": {},
   "outputs": [
    {
     "name": "stdout",
     "output_type": "stream",
     "text": [
      "Accuracy Score: 0.8949554896142433\n"
     ]
    }
   ],
   "source": [
    "print(\"Accuracy Score: {}\".format(accuracy_score(y_test,y_pred_rf)))"
   ]
  },
  {
   "cell_type": "markdown",
   "metadata": {},
   "source": [
    "Checking for Overfitting and Under Fitting:"
   ]
  },
  {
   "cell_type": "code",
   "execution_count": 95,
   "metadata": {},
   "outputs": [
    {
     "name": "stdout",
     "output_type": "stream",
     "text": [
      "Train Data Score: 1.0\n",
      "Test Data Score: 0.8949554896142433\n"
     ]
    }
   ],
   "source": [
    "print(\"Train Data Score: {}\".format(classifier_rf.score(X_train, y_train)))\n",
    "print(\"Test Data Score: {}\".format(classifier_rf.score(X_test, y_test)))"
   ]
  },
  {
   "cell_type": "markdown",
   "metadata": {},
   "source": [
    "Accuracy score for Training Set is almost 1 or 100%, which is quite uncommon. And testing accuracy is 0.85. It seems like model is overfitting, because the generalization for unseen data is not that accurate, when compared with seen data and difference between training - testing accuracy is not minimum."
   ]
  },
  {
   "cell_type": "markdown",
   "metadata": {},
   "source": [
    "##  Results and Conclusion:"
   ]
  },
  {
   "cell_type": "markdown",
   "metadata": {},
   "source": [
    "Best Models in terms of accuracy (In my Experiment):\n",
    "\n",
    "    1) Cat Boost Model\n",
    "    2) Logistic Regression\n",
    "    3) Random Forest\n",
    "    \n",
    "Best Models in terms of Computation Time (In my Experiment):\n",
    "\n",
    "    1) Logistic Regression\n",
    "    2) Random Forest\n",
    "    3) Cat Boost Model\n",
    "        "
   ]
  },
  {
   "cell_type": "markdown",
   "metadata": {},
   "source": [
    "Conclusion:\n",
    "\n",
    "The accuracy score of Cat Boost Model is high when compared with accuracy scores of Logistic Regression and Random Forest. But cat Boost model consumes lot of time to train the model.\n",
    "\n",
    "In terms of computation time and Accuracy score, logistic Regression model is doing job.\n"
   ]
  },
  {
   "cell_type": "markdown",
   "metadata": {},
   "source": [
    "## Saving Classifier Object into Pickle File:"
   ]
  },
  {
   "cell_type": "code",
   "execution_count": 96,
   "metadata": {},
   "outputs": [],
   "source": [
    "with open('logreg.pkl', 'wb') as file:\n",
    "    pickle.dump(classifier_logreg, file)"
   ]
  },
  {
   "cell_type": "code",
   "execution_count": 97,
   "metadata": {},
   "outputs": [],
   "source": [
    "with open('catboostclassifier.pkl', 'wb') as file:\n",
    "    pickle.dump(cat_classifier, file)"
   ]
  }
 ],
 "metadata": {
  "kernelspec": {
   "display_name": "Python 3 (ipykernel)",
   "language": "python",
   "name": "python3"
  },
  "language_info": {
   "codemirror_mode": {
    "name": "ipython",
    "version": 3
   },
   "file_extension": ".py",
   "mimetype": "text/x-python",
   "name": "python",
   "nbconvert_exporter": "python",
   "pygments_lexer": "ipython3",
   "version": "3.9.12"
  }
 },
 "nbformat": 4,
 "nbformat_minor": 4
}
