{
 "cells": [
  {
   "cell_type": "markdown",
   "metadata": {
    "id": "BxmW0Hm3zrsP"
   },
   "source": [
    "# Avocado Price prediction- A regression problem<br>\n",
    "Avocado is a fruit and it is liked by United state people mostly. it comes in different varieties and sizes. Product code is also given to them. There has also grown in two ways one is conventional and second one in organic ways. it is labeled as organic after meeting all the organic compliance patameters.<br><br>\n",
    "**About dataset:**<br>\n",
    "Dataset has pure 1517 observations with 13 columns including one target. Dataset has lot of missing values which needs treatment. features details are mentioned below<br>\n",
    "\n",
    "**Feature details**<br>\n",
    "Date == The date of the observation<br>\n",
    "AveragePrice == the average price of a single avocado<br>\n",
    "type == conventional or organic<br>\n",
    "year == The year<br>\n",
    "Region == the city or region of the observation <br>\n",
    "Total Volume == Total number of avocados sold <br>\n",
    "4046 ==  Total number of avocados with PLU 4046 sold<br>\n",
    "4225 ==  Total number of avocados with PLU 4225 sold<br>\n",
    "4770 ==  Total number of avocados with PLU 4770 sold<>\n",
    "Total Bags == Numbe of bags used \n",
    "Small Bags == number of small bag used\n",
    "large bags =  Number of large bag used\n",
    "XLarge bags = number of Xtra lage bag used\n",
    "\n"
   ]
  },
  {
   "cell_type": "code",
   "execution_count": 1,
   "metadata": {
    "colab": {
     "base_uri": "https://localhost:8080/",
     "height": 72,
     "resources": {
      "http://localhost:8080/nbextensions/google.colab/files.js": {
       "data": "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",
       "headers": [
        [
         "content-type",
         "application/javascript"
        ]
       ],
       "ok": true,
       "status": 200,
       "status_text": ""
      }
     }
    },
    "id": "uqlz3xFmZQp3",
    "outputId": "a057c941-1455-41ac-f16c-d6c7ee4642ec"
   },
   "outputs": [],
   "source": [
    "import matplotlib.pyplot as plt\n",
    "import seaborn as sns\n",
    "import pandas as pd\n",
    "import numpy as np\n",
    "from sklearn.model_selection import train_test_split, GridSearchCV, RandomizedSearchCV, cross_val_score\n",
    "from sklearn.preprocessing import StandardScaler \n",
    "from sklearn.linear_model import LinearRegression , Ridge, Lasso\n",
    "from sklearn.ensemble import RandomForestRegressor , AdaBoostRegressor\n",
    "from sklearn.tree import DecisionTreeRegressor\n",
    "from sklearn.svm import SVR\n",
    "from sklearn.neighbors import KNeighborsRegressor\n",
    "from sklearn.metrics import r2_score,mean_squared_error\n",
    "avocado_ds = pd.read_csv(\"avocado.csv\")"
   ]
  },
  {
   "cell_type": "code",
   "execution_count": 2,
   "metadata": {
    "colab": {
     "base_uri": "https://localhost:8080/",
     "height": 204
    },
    "id": "PmsPgE-9eEIn",
    "outputId": "12486129-365f-4e30-f879-acae4950cb86"
   },
   "outputs": [
    {
     "data": {
      "text/html": [
       "<div>\n",
       "<style scoped>\n",
       "    .dataframe tbody tr th:only-of-type {\n",
       "        vertical-align: middle;\n",
       "    }\n",
       "\n",
       "    .dataframe tbody tr th {\n",
       "        vertical-align: top;\n",
       "    }\n",
       "\n",
       "    .dataframe thead th {\n",
       "        text-align: right;\n",
       "    }\n",
       "</style>\n",
       "<table border=\"1\" class=\"dataframe\">\n",
       "  <thead>\n",
       "    <tr style=\"text-align: right;\">\n",
       "      <th></th>\n",
       "      <th>Unnamed: 0</th>\n",
       "      <th>Date</th>\n",
       "      <th>AveragePrice</th>\n",
       "      <th>Total Volume</th>\n",
       "      <th>4046</th>\n",
       "      <th>4225</th>\n",
       "      <th>4770</th>\n",
       "      <th>Total Bags</th>\n",
       "      <th>Small Bags</th>\n",
       "      <th>Large Bags</th>\n",
       "      <th>XLarge Bags</th>\n",
       "      <th>type</th>\n",
       "      <th>year</th>\n",
       "      <th>region</th>\n",
       "    </tr>\n",
       "  </thead>\n",
       "  <tbody>\n",
       "    <tr>\n",
       "      <th>0</th>\n",
       "      <td>0</td>\n",
       "      <td>2015-12-27</td>\n",
       "      <td>1.33</td>\n",
       "      <td>64236.62</td>\n",
       "      <td>1036.74</td>\n",
       "      <td>54454.85</td>\n",
       "      <td>48.16</td>\n",
       "      <td>8696.87</td>\n",
       "      <td>8603.62</td>\n",
       "      <td>93.25</td>\n",
       "      <td>0.0</td>\n",
       "      <td>conventional</td>\n",
       "      <td>2015</td>\n",
       "      <td>Albany</td>\n",
       "    </tr>\n",
       "    <tr>\n",
       "      <th>1</th>\n",
       "      <td>1</td>\n",
       "      <td>2015-12-20</td>\n",
       "      <td>1.35</td>\n",
       "      <td>54876.98</td>\n",
       "      <td>674.28</td>\n",
       "      <td>44638.81</td>\n",
       "      <td>58.33</td>\n",
       "      <td>9505.56</td>\n",
       "      <td>9408.07</td>\n",
       "      <td>97.49</td>\n",
       "      <td>0.0</td>\n",
       "      <td>conventional</td>\n",
       "      <td>2015</td>\n",
       "      <td>Albany</td>\n",
       "    </tr>\n",
       "    <tr>\n",
       "      <th>2</th>\n",
       "      <td>2</td>\n",
       "      <td>2015-12-13</td>\n",
       "      <td>0.93</td>\n",
       "      <td>118220.22</td>\n",
       "      <td>794.70</td>\n",
       "      <td>109149.67</td>\n",
       "      <td>130.50</td>\n",
       "      <td>8145.35</td>\n",
       "      <td>8042.21</td>\n",
       "      <td>103.14</td>\n",
       "      <td>0.0</td>\n",
       "      <td>conventional</td>\n",
       "      <td>2015</td>\n",
       "      <td>Albany</td>\n",
       "    </tr>\n",
       "    <tr>\n",
       "      <th>3</th>\n",
       "      <td>3</td>\n",
       "      <td>2015-12-06</td>\n",
       "      <td>1.08</td>\n",
       "      <td>78992.15</td>\n",
       "      <td>1132.00</td>\n",
       "      <td>71976.41</td>\n",
       "      <td>72.58</td>\n",
       "      <td>5811.16</td>\n",
       "      <td>5677.40</td>\n",
       "      <td>133.76</td>\n",
       "      <td>0.0</td>\n",
       "      <td>conventional</td>\n",
       "      <td>2015</td>\n",
       "      <td>Albany</td>\n",
       "    </tr>\n",
       "    <tr>\n",
       "      <th>4</th>\n",
       "      <td>4</td>\n",
       "      <td>2015-11-29</td>\n",
       "      <td>1.28</td>\n",
       "      <td>51039.60</td>\n",
       "      <td>941.48</td>\n",
       "      <td>43838.39</td>\n",
       "      <td>75.78</td>\n",
       "      <td>6183.95</td>\n",
       "      <td>5986.26</td>\n",
       "      <td>197.69</td>\n",
       "      <td>0.0</td>\n",
       "      <td>conventional</td>\n",
       "      <td>2015</td>\n",
       "      <td>Albany</td>\n",
       "    </tr>\n",
       "  </tbody>\n",
       "</table>\n",
       "</div>"
      ],
      "text/plain": [
       "   Unnamed: 0        Date  AveragePrice  Total Volume     4046       4225  \\\n",
       "0           0  2015-12-27          1.33      64236.62  1036.74   54454.85   \n",
       "1           1  2015-12-20          1.35      54876.98   674.28   44638.81   \n",
       "2           2  2015-12-13          0.93     118220.22   794.70  109149.67   \n",
       "3           3  2015-12-06          1.08      78992.15  1132.00   71976.41   \n",
       "4           4  2015-11-29          1.28      51039.60   941.48   43838.39   \n",
       "\n",
       "     4770  Total Bags  Small Bags  Large Bags  XLarge Bags          type  \\\n",
       "0   48.16     8696.87     8603.62       93.25          0.0  conventional   \n",
       "1   58.33     9505.56     9408.07       97.49          0.0  conventional   \n",
       "2  130.50     8145.35     8042.21      103.14          0.0  conventional   \n",
       "3   72.58     5811.16     5677.40      133.76          0.0  conventional   \n",
       "4   75.78     6183.95     5986.26      197.69          0.0  conventional   \n",
       "\n",
       "   year  region  \n",
       "0  2015  Albany  \n",
       "1  2015  Albany  \n",
       "2  2015  Albany  \n",
       "3  2015  Albany  \n",
       "4  2015  Albany  "
      ]
     },
     "execution_count": 2,
     "metadata": {},
     "output_type": "execute_result"
    }
   ],
   "source": [
    "avocado_ds.head() # checking top 5 observations"
   ]
  },
  {
   "cell_type": "code",
   "execution_count": 3,
   "metadata": {
    "colab": {
     "base_uri": "https://localhost:8080/",
     "height": 204
    },
    "id": "WjH8_eK0ePsf",
    "outputId": "f42e71d1-c1d2-4ab9-883d-378714d3a760"
   },
   "outputs": [
    {
     "data": {
      "text/html": [
       "<div>\n",
       "<style scoped>\n",
       "    .dataframe tbody tr th:only-of-type {\n",
       "        vertical-align: middle;\n",
       "    }\n",
       "\n",
       "    .dataframe tbody tr th {\n",
       "        vertical-align: top;\n",
       "    }\n",
       "\n",
       "    .dataframe thead th {\n",
       "        text-align: right;\n",
       "    }\n",
       "</style>\n",
       "<table border=\"1\" class=\"dataframe\">\n",
       "  <thead>\n",
       "    <tr style=\"text-align: right;\">\n",
       "      <th></th>\n",
       "      <th>Unnamed: 0</th>\n",
       "      <th>Date</th>\n",
       "      <th>AveragePrice</th>\n",
       "      <th>Total Volume</th>\n",
       "      <th>4046</th>\n",
       "      <th>4225</th>\n",
       "      <th>4770</th>\n",
       "      <th>Total Bags</th>\n",
       "      <th>Small Bags</th>\n",
       "      <th>Large Bags</th>\n",
       "      <th>XLarge Bags</th>\n",
       "      <th>type</th>\n",
       "      <th>year</th>\n",
       "      <th>region</th>\n",
       "    </tr>\n",
       "  </thead>\n",
       "  <tbody>\n",
       "    <tr>\n",
       "      <th>18244</th>\n",
       "      <td>7</td>\n",
       "      <td>2018-02-04</td>\n",
       "      <td>1.63</td>\n",
       "      <td>17074.83</td>\n",
       "      <td>2046.96</td>\n",
       "      <td>1529.20</td>\n",
       "      <td>0.00</td>\n",
       "      <td>13498.67</td>\n",
       "      <td>13066.82</td>\n",
       "      <td>431.85</td>\n",
       "      <td>0.0</td>\n",
       "      <td>organic</td>\n",
       "      <td>2018</td>\n",
       "      <td>WestTexNewMexico</td>\n",
       "    </tr>\n",
       "    <tr>\n",
       "      <th>18245</th>\n",
       "      <td>8</td>\n",
       "      <td>2018-01-28</td>\n",
       "      <td>1.71</td>\n",
       "      <td>13888.04</td>\n",
       "      <td>1191.70</td>\n",
       "      <td>3431.50</td>\n",
       "      <td>0.00</td>\n",
       "      <td>9264.84</td>\n",
       "      <td>8940.04</td>\n",
       "      <td>324.80</td>\n",
       "      <td>0.0</td>\n",
       "      <td>organic</td>\n",
       "      <td>2018</td>\n",
       "      <td>WestTexNewMexico</td>\n",
       "    </tr>\n",
       "    <tr>\n",
       "      <th>18246</th>\n",
       "      <td>9</td>\n",
       "      <td>2018-01-21</td>\n",
       "      <td>1.87</td>\n",
       "      <td>13766.76</td>\n",
       "      <td>1191.92</td>\n",
       "      <td>2452.79</td>\n",
       "      <td>727.94</td>\n",
       "      <td>9394.11</td>\n",
       "      <td>9351.80</td>\n",
       "      <td>42.31</td>\n",
       "      <td>0.0</td>\n",
       "      <td>organic</td>\n",
       "      <td>2018</td>\n",
       "      <td>WestTexNewMexico</td>\n",
       "    </tr>\n",
       "    <tr>\n",
       "      <th>18247</th>\n",
       "      <td>10</td>\n",
       "      <td>2018-01-14</td>\n",
       "      <td>1.93</td>\n",
       "      <td>16205.22</td>\n",
       "      <td>1527.63</td>\n",
       "      <td>2981.04</td>\n",
       "      <td>727.01</td>\n",
       "      <td>10969.54</td>\n",
       "      <td>10919.54</td>\n",
       "      <td>50.00</td>\n",
       "      <td>0.0</td>\n",
       "      <td>organic</td>\n",
       "      <td>2018</td>\n",
       "      <td>WestTexNewMexico</td>\n",
       "    </tr>\n",
       "    <tr>\n",
       "      <th>18248</th>\n",
       "      <td>11</td>\n",
       "      <td>2018-01-07</td>\n",
       "      <td>1.62</td>\n",
       "      <td>17489.58</td>\n",
       "      <td>2894.77</td>\n",
       "      <td>2356.13</td>\n",
       "      <td>224.53</td>\n",
       "      <td>12014.15</td>\n",
       "      <td>11988.14</td>\n",
       "      <td>26.01</td>\n",
       "      <td>0.0</td>\n",
       "      <td>organic</td>\n",
       "      <td>2018</td>\n",
       "      <td>WestTexNewMexico</td>\n",
       "    </tr>\n",
       "  </tbody>\n",
       "</table>\n",
       "</div>"
      ],
      "text/plain": [
       "       Unnamed: 0        Date  AveragePrice  Total Volume     4046     4225  \\\n",
       "18244           7  2018-02-04          1.63      17074.83  2046.96  1529.20   \n",
       "18245           8  2018-01-28          1.71      13888.04  1191.70  3431.50   \n",
       "18246           9  2018-01-21          1.87      13766.76  1191.92  2452.79   \n",
       "18247          10  2018-01-14          1.93      16205.22  1527.63  2981.04   \n",
       "18248          11  2018-01-07          1.62      17489.58  2894.77  2356.13   \n",
       "\n",
       "         4770  Total Bags  Small Bags  Large Bags  XLarge Bags     type  year  \\\n",
       "18244    0.00    13498.67    13066.82      431.85          0.0  organic  2018   \n",
       "18245    0.00     9264.84     8940.04      324.80          0.0  organic  2018   \n",
       "18246  727.94     9394.11     9351.80       42.31          0.0  organic  2018   \n",
       "18247  727.01    10969.54    10919.54       50.00          0.0  organic  2018   \n",
       "18248  224.53    12014.15    11988.14       26.01          0.0  organic  2018   \n",
       "\n",
       "                 region  \n",
       "18244  WestTexNewMexico  \n",
       "18245  WestTexNewMexico  \n",
       "18246  WestTexNewMexico  \n",
       "18247  WestTexNewMexico  \n",
       "18248  WestTexNewMexico  "
      ]
     },
     "execution_count": 3,
     "metadata": {},
     "output_type": "execute_result"
    }
   ],
   "source": [
    "avocado_ds.tail()# checking last 5 observations"
   ]
  },
  {
   "cell_type": "markdown",
   "metadata": {
    "id": "2piMH0f4JeBY"
   },
   "source": [
    "Checking first 5 and last 5 observations, looking at the tail of the data, we have missing data in the dataset.<br>Also we ahve unnamed column in it which seems an index values. we will delete that. let check more info about the dataset's features"
   ]
  },
  {
   "cell_type": "code",
   "execution_count": 4,
   "metadata": {
    "colab": {
     "base_uri": "https://localhost:8080/"
    },
    "id": "SUxavOL0JLAR",
    "outputId": "0278eed0-49fa-4530-8038-0509e698ea38"
   },
   "outputs": [
    {
     "name": "stdout",
     "output_type": "stream",
     "text": [
      "<class 'pandas.core.frame.DataFrame'>\n",
      "RangeIndex: 18249 entries, 0 to 18248\n",
      "Data columns (total 14 columns):\n",
      " #   Column        Non-Null Count  Dtype  \n",
      "---  ------        --------------  -----  \n",
      " 0   Unnamed: 0    18249 non-null  int64  \n",
      " 1   Date          18249 non-null  object \n",
      " 2   AveragePrice  18249 non-null  float64\n",
      " 3   Total Volume  18249 non-null  float64\n",
      " 4   4046          18249 non-null  float64\n",
      " 5   4225          18249 non-null  float64\n",
      " 6   4770          18249 non-null  float64\n",
      " 7   Total Bags    18249 non-null  float64\n",
      " 8   Small Bags    18249 non-null  float64\n",
      " 9   Large Bags    18249 non-null  float64\n",
      " 10  XLarge Bags   18249 non-null  float64\n",
      " 11  type          18249 non-null  object \n",
      " 12  year          18249 non-null  int64  \n",
      " 13  region        18249 non-null  object \n",
      "dtypes: float64(9), int64(2), object(3)\n",
      "memory usage: 1.9+ MB\n"
     ]
    }
   ],
   "source": [
    "avocado_ds.info() # checking information about the data set and its columns"
   ]
  },
  {
   "cell_type": "markdown",
   "metadata": {
    "id": "sqzzW-dzKDBN"
   },
   "source": [
    "Info function gives information that no missing value in the data but while checking the tail, it has obsered some missing data. we will correct that. <br> we have 13 columsn including Target column. 3 columsn are objects type and resta are all numeric in nature. we have date column also which is current object type, we will change its data type as well to datetime"
   ]
  },
  {
   "cell_type": "code",
   "execution_count": 5,
   "metadata": {
    "id": "6jWPnNPZJzog"
   },
   "outputs": [],
   "source": [
    "# deleting the unnamed column from the dataset as it has its own index\n",
    "avocado_ds.drop(\"Unnamed: 0\",axis=1, inplace = True)"
   ]
  },
  {
   "cell_type": "code",
   "execution_count": 6,
   "metadata": {
    "colab": {
     "base_uri": "https://localhost:8080/"
    },
    "id": "h08t1jnKQGKM",
    "outputId": "5d8d5842-6ed8-496b-b846-cd1886a82cda"
   },
   "outputs": [
    {
     "name": "stdout",
     "output_type": "stream",
     "text": [
      "(18249, 13)\n",
      "Index(['Date', 'AveragePrice', 'Total Volume', '4046', '4225', '4770',\n",
      "       'Total Bags', 'Small Bags', 'Large Bags', 'XLarge Bags', 'type', 'year',\n",
      "       'region'],\n",
      "      dtype='object')\n"
     ]
    }
   ],
   "source": [
    "# checking the shape of the dataset and columns in it\n",
    "print(avocado_ds.shape)\n",
    "print(avocado_ds.columns)"
   ]
  },
  {
   "cell_type": "markdown",
   "metadata": {
    "id": "vockthZHQeoA"
   },
   "source": [
    "Unnamed has been deleted successfully from the data set. now we will clean the dataset."
   ]
  },
  {
   "cell_type": "code",
   "execution_count": 7,
   "metadata": {
    "id": "qxjtC5UNQPbI"
   },
   "outputs": [],
   "source": [
    "# creating deep copy \n",
    "avocado_ds_work_file = avocado_ds.copy()"
   ]
  },
  {
   "cell_type": "code",
   "execution_count": 8,
   "metadata": {
    "id": "1x273MfTQyCT"
   },
   "outputs": [],
   "source": [
    "# replace the NaN with np.nan just to ensure it NaN wasnt actual NAN. \n",
    "avocado_ds_work_file.replace({\"NaN\": np.nan},inplace=True)"
   ]
  },
  {
   "cell_type": "code",
   "execution_count": 9,
   "metadata": {
    "id": "MF5_bZmdREHC"
   },
   "outputs": [],
   "source": [
    "# function for checking missing values\n",
    "def missing_val(x):\n",
    "  missing = {}\n",
    "  for i in avocado_ds_work_file.columns:\n",
    "    if avocado_ds_work_file[i].isnull().sum()> 0:\n",
    "      missing[i] = avocado_ds_work_file[i].isnull().sum()\n",
    "  print(missing,end = \" \")"
   ]
  },
  {
   "cell_type": "code",
   "execution_count": 10,
   "metadata": {
    "colab": {
     "base_uri": "https://localhost:8080/"
    },
    "id": "4l0SACdrRYN0",
    "outputId": "a20003ce-d77e-49a7-b2f1-8ee4d61d9c10"
   },
   "outputs": [
    {
     "name": "stdout",
     "output_type": "stream",
     "text": [
      "{} \n",
      "\n",
      "Percentage of missing data:\n",
      " Date            0.0\n",
      "AveragePrice    0.0\n",
      "Total Volume    0.0\n",
      "4046            0.0\n",
      "4225            0.0\n",
      "4770            0.0\n",
      "Total Bags      0.0\n",
      "Small Bags      0.0\n",
      "Large Bags      0.0\n",
      "XLarge Bags     0.0\n",
      "type            0.0\n",
      "year            0.0\n",
      "region          0.0\n",
      "dtype: float64\n"
     ]
    }
   ],
   "source": [
    "# calling the function\n",
    "missing_val(avocado_ds_work_file)\n",
    "print(\"\\n\")\n",
    "print(\"Percentage of missing data:\\n\",avocado_ds_work_file.isnull().sum()/len(avocado_ds_work_file)*100)"
   ]
  },
  {
   "cell_type": "markdown",
   "metadata": {
    "id": "UKzqUGrTThsz"
   },
   "source": [
    "we have seen that actual data points are only 1517 out of 16000 plus observations. approx 91% data is missing and we cant impute it, we will have to delete them."
   ]
  },
  {
   "cell_type": "code",
   "execution_count": 11,
   "metadata": {
    "id": "z3ZxtHkzSKd_"
   },
   "outputs": [
    {
     "name": "stdout",
     "output_type": "stream",
     "text": [
      "{} "
     ]
    }
   ],
   "source": [
    "# dropping null value\n",
    "avocado_ds_work_file.dropna(inplace=True)\n",
    "missing_val(avocado_ds_work_file) # checking missing value again"
   ]
  },
  {
   "cell_type": "markdown",
   "metadata": {
    "id": "nyAwcLrmZujm"
   },
   "source": [
    "Missing value has been removed from the data set and we are ok to move ahead with othe analysis. "
   ]
  },
  {
   "cell_type": "code",
   "execution_count": 12,
   "metadata": {
    "colab": {
     "base_uri": "https://localhost:8080/"
    },
    "id": "o2vOp3VAZwtU",
    "outputId": "4e43dde0-a963-4c32-f3b1-a24ccffc71ad"
   },
   "outputs": [
    {
     "data": {
      "text/plain": [
       "Date            datetime64[ns]\n",
       "AveragePrice           float64\n",
       "Total Volume           float64\n",
       "4046                   float64\n",
       "4225                   float64\n",
       "4770                   float64\n",
       "Total Bags             float64\n",
       "Small Bags             float64\n",
       "Large Bags             float64\n",
       "XLarge Bags            float64\n",
       "type                    object\n",
       "year                     int64\n",
       "region                  object\n",
       "dtype: object"
      ]
     },
     "execution_count": 12,
     "metadata": {},
     "output_type": "execute_result"
    }
   ],
   "source": [
    "# we have date column also in dataset and its datatype is objects, lets change into datetime format\n",
    "avocado_ds_work_file[\"Date\"] = pd.to_datetime(avocado_ds_work_file[\"Date\"])\n",
    "avocado_ds_work_file.dtypes"
   ]
  },
  {
   "cell_type": "code",
   "execution_count": 13,
   "metadata": {
    "id": "X-GaCrIl_iFw"
   },
   "outputs": [],
   "source": [
    "# updating original files\n",
    "avocado_ds = avocado_ds_work_file.copy()"
   ]
  },
  {
   "cell_type": "code",
   "execution_count": 14,
   "metadata": {
    "colab": {
     "base_uri": "https://localhost:8080/",
     "height": 297
    },
    "id": "FrCCe0xaeyEQ",
    "outputId": "49337e75-477c-4d71-e4f5-6258ac88b16c"
   },
   "outputs": [
    {
     "data": {
      "text/html": [
       "<div>\n",
       "<style scoped>\n",
       "    .dataframe tbody tr th:only-of-type {\n",
       "        vertical-align: middle;\n",
       "    }\n",
       "\n",
       "    .dataframe tbody tr th {\n",
       "        vertical-align: top;\n",
       "    }\n",
       "\n",
       "    .dataframe thead th {\n",
       "        text-align: right;\n",
       "    }\n",
       "</style>\n",
       "<table border=\"1\" class=\"dataframe\">\n",
       "  <thead>\n",
       "    <tr style=\"text-align: right;\">\n",
       "      <th></th>\n",
       "      <th>AveragePrice</th>\n",
       "      <th>Total Volume</th>\n",
       "      <th>4046</th>\n",
       "      <th>4225</th>\n",
       "      <th>4770</th>\n",
       "      <th>Total Bags</th>\n",
       "      <th>Small Bags</th>\n",
       "      <th>Large Bags</th>\n",
       "      <th>XLarge Bags</th>\n",
       "      <th>year</th>\n",
       "    </tr>\n",
       "  </thead>\n",
       "  <tbody>\n",
       "    <tr>\n",
       "      <th>count</th>\n",
       "      <td>18249.00000</td>\n",
       "      <td>1.824900e+04</td>\n",
       "      <td>1.824900e+04</td>\n",
       "      <td>1.824900e+04</td>\n",
       "      <td>1.824900e+04</td>\n",
       "      <td>1.824900e+04</td>\n",
       "      <td>1.824900e+04</td>\n",
       "      <td>1.824900e+04</td>\n",
       "      <td>18249.00000</td>\n",
       "      <td>18249.00000</td>\n",
       "    </tr>\n",
       "    <tr>\n",
       "      <th>mean</th>\n",
       "      <td>1.40598</td>\n",
       "      <td>8.506440e+05</td>\n",
       "      <td>2.930084e+05</td>\n",
       "      <td>2.951546e+05</td>\n",
       "      <td>2.283974e+04</td>\n",
       "      <td>2.396392e+05</td>\n",
       "      <td>1.821947e+05</td>\n",
       "      <td>5.433809e+04</td>\n",
       "      <td>3106.42651</td>\n",
       "      <td>2016.14790</td>\n",
       "    </tr>\n",
       "    <tr>\n",
       "      <th>std</th>\n",
       "      <td>0.40268</td>\n",
       "      <td>3.453545e+06</td>\n",
       "      <td>1.264989e+06</td>\n",
       "      <td>1.204120e+06</td>\n",
       "      <td>1.074641e+05</td>\n",
       "      <td>9.862424e+05</td>\n",
       "      <td>7.461785e+05</td>\n",
       "      <td>2.439660e+05</td>\n",
       "      <td>17692.89465</td>\n",
       "      <td>0.93994</td>\n",
       "    </tr>\n",
       "    <tr>\n",
       "      <th>min</th>\n",
       "      <td>0.44000</td>\n",
       "      <td>8.456000e+01</td>\n",
       "      <td>0.000000e+00</td>\n",
       "      <td>0.000000e+00</td>\n",
       "      <td>0.000000e+00</td>\n",
       "      <td>0.000000e+00</td>\n",
       "      <td>0.000000e+00</td>\n",
       "      <td>0.000000e+00</td>\n",
       "      <td>0.00000</td>\n",
       "      <td>2015.00000</td>\n",
       "    </tr>\n",
       "    <tr>\n",
       "      <th>25%</th>\n",
       "      <td>1.10000</td>\n",
       "      <td>1.083858e+04</td>\n",
       "      <td>8.540700e+02</td>\n",
       "      <td>3.008780e+03</td>\n",
       "      <td>0.000000e+00</td>\n",
       "      <td>5.088640e+03</td>\n",
       "      <td>2.849420e+03</td>\n",
       "      <td>1.274700e+02</td>\n",
       "      <td>0.00000</td>\n",
       "      <td>2015.00000</td>\n",
       "    </tr>\n",
       "    <tr>\n",
       "      <th>50%</th>\n",
       "      <td>1.37000</td>\n",
       "      <td>1.073768e+05</td>\n",
       "      <td>8.645300e+03</td>\n",
       "      <td>2.906102e+04</td>\n",
       "      <td>1.849900e+02</td>\n",
       "      <td>3.974383e+04</td>\n",
       "      <td>2.636282e+04</td>\n",
       "      <td>2.647710e+03</td>\n",
       "      <td>0.00000</td>\n",
       "      <td>2016.00000</td>\n",
       "    </tr>\n",
       "    <tr>\n",
       "      <th>75%</th>\n",
       "      <td>1.66000</td>\n",
       "      <td>4.329623e+05</td>\n",
       "      <td>1.110202e+05</td>\n",
       "      <td>1.502069e+05</td>\n",
       "      <td>6.243420e+03</td>\n",
       "      <td>1.107834e+05</td>\n",
       "      <td>8.333767e+04</td>\n",
       "      <td>2.202925e+04</td>\n",
       "      <td>132.50000</td>\n",
       "      <td>2017.00000</td>\n",
       "    </tr>\n",
       "    <tr>\n",
       "      <th>max</th>\n",
       "      <td>3.25000</td>\n",
       "      <td>6.250565e+07</td>\n",
       "      <td>2.274362e+07</td>\n",
       "      <td>2.047057e+07</td>\n",
       "      <td>2.546439e+06</td>\n",
       "      <td>1.937313e+07</td>\n",
       "      <td>1.338459e+07</td>\n",
       "      <td>5.719097e+06</td>\n",
       "      <td>551693.65000</td>\n",
       "      <td>2018.00000</td>\n",
       "    </tr>\n",
       "  </tbody>\n",
       "</table>\n",
       "</div>"
      ],
      "text/plain": [
       "       AveragePrice  Total Volume          4046          4225          4770  \\\n",
       "count   18249.00000  1.824900e+04  1.824900e+04  1.824900e+04  1.824900e+04   \n",
       "mean        1.40598  8.506440e+05  2.930084e+05  2.951546e+05  2.283974e+04   \n",
       "std         0.40268  3.453545e+06  1.264989e+06  1.204120e+06  1.074641e+05   \n",
       "min         0.44000  8.456000e+01  0.000000e+00  0.000000e+00  0.000000e+00   \n",
       "25%         1.10000  1.083858e+04  8.540700e+02  3.008780e+03  0.000000e+00   \n",
       "50%         1.37000  1.073768e+05  8.645300e+03  2.906102e+04  1.849900e+02   \n",
       "75%         1.66000  4.329623e+05  1.110202e+05  1.502069e+05  6.243420e+03   \n",
       "max         3.25000  6.250565e+07  2.274362e+07  2.047057e+07  2.546439e+06   \n",
       "\n",
       "         Total Bags    Small Bags    Large Bags   XLarge Bags         year  \n",
       "count  1.824900e+04  1.824900e+04  1.824900e+04   18249.00000  18249.00000  \n",
       "mean   2.396392e+05  1.821947e+05  5.433809e+04    3106.42651   2016.14790  \n",
       "std    9.862424e+05  7.461785e+05  2.439660e+05   17692.89465      0.93994  \n",
       "min    0.000000e+00  0.000000e+00  0.000000e+00       0.00000   2015.00000  \n",
       "25%    5.088640e+03  2.849420e+03  1.274700e+02       0.00000   2015.00000  \n",
       "50%    3.974383e+04  2.636282e+04  2.647710e+03       0.00000   2016.00000  \n",
       "75%    1.107834e+05  8.333767e+04  2.202925e+04     132.50000   2017.00000  \n",
       "max    1.937313e+07  1.338459e+07  5.719097e+06  551693.65000   2018.00000  "
      ]
     },
     "execution_count": 14,
     "metadata": {},
     "output_type": "execute_result"
    }
   ],
   "source": [
    "avocado_ds.describe().round(5)"
   ]
  },
  {
   "cell_type": "markdown",
   "metadata": {
    "id": "TK8qqlcsoDta"
   },
   "source": [
    "By dignosing the data point, i have found that small and large bags are bifurcation of total bags so we can keep only total bags instead of them.we will treat them in coming section"
   ]
  },
  {
   "cell_type": "code",
   "execution_count": 15,
   "metadata": {
    "colab": {
     "base_uri": "https://localhost:8080/",
     "height": 173
    },
    "id": "o6Q3q-z3fzCJ",
    "outputId": "b4b6f780-9f14-4f85-ff99-f61a8ea3fb47"
   },
   "outputs": [
    {
     "data": {
      "text/html": [
       "<div>\n",
       "<style scoped>\n",
       "    .dataframe tbody tr th:only-of-type {\n",
       "        vertical-align: middle;\n",
       "    }\n",
       "\n",
       "    .dataframe tbody tr th {\n",
       "        vertical-align: top;\n",
       "    }\n",
       "\n",
       "    .dataframe thead th {\n",
       "        text-align: right;\n",
       "    }\n",
       "</style>\n",
       "<table border=\"1\" class=\"dataframe\">\n",
       "  <thead>\n",
       "    <tr style=\"text-align: right;\">\n",
       "      <th></th>\n",
       "      <th>type</th>\n",
       "      <th>region</th>\n",
       "    </tr>\n",
       "  </thead>\n",
       "  <tbody>\n",
       "    <tr>\n",
       "      <th>count</th>\n",
       "      <td>18249</td>\n",
       "      <td>18249</td>\n",
       "    </tr>\n",
       "    <tr>\n",
       "      <th>unique</th>\n",
       "      <td>2</td>\n",
       "      <td>54</td>\n",
       "    </tr>\n",
       "    <tr>\n",
       "      <th>top</th>\n",
       "      <td>conventional</td>\n",
       "      <td>Albany</td>\n",
       "    </tr>\n",
       "    <tr>\n",
       "      <th>freq</th>\n",
       "      <td>9126</td>\n",
       "      <td>338</td>\n",
       "    </tr>\n",
       "  </tbody>\n",
       "</table>\n",
       "</div>"
      ],
      "text/plain": [
       "                type  region\n",
       "count          18249   18249\n",
       "unique             2      54\n",
       "top     conventional  Albany\n",
       "freq            9126     338"
      ]
     },
     "execution_count": 15,
     "metadata": {},
     "output_type": "execute_result"
    }
   ],
   "source": [
    "avocado_ds.select_dtypes(include=\"object\").describe()# describing the objects data types"
   ]
  },
  {
   "cell_type": "markdown",
   "metadata": {
    "id": "5gWS9bF6qGYP"
   },
   "source": [
    "From this we can understand that all Avocado belongs to one category which is conventional and dataset has maximum data from california state"
   ]
  },
  {
   "cell_type": "markdown",
   "metadata": {
    "id": "CteMsiPh2qgI"
   },
   "source": [
    "# **EDA**"
   ]
  },
  {
   "cell_type": "code",
   "execution_count": 61,
   "metadata": {
    "colab": {
     "base_uri": "https://localhost:8080/",
     "height": 879
    },
    "id": "B39JO1OkxPSb",
    "outputId": "78c53ea1-fd35-4ba7-896f-1807d71314fe"
   },
   "outputs": [
    {
     "data": {
      "image/png": "[encoded data removed]",
      "text/plain": [
       "<Figure size 1080x1080 with 9 Axes>"
      ]
     },
     "metadata": {
      "needs_background": "light"
     },
     "output_type": "display_data"
    }
   ],
   "source": [
    "# checking the distribution of the numeric features\n",
    "avocado_ds.select_dtypes(exclude=\"object\").hist(figsize= (15,15), color='Red'); "
   ]
  },
  {
   "cell_type": "markdown",
   "metadata": {
    "id": "N4HkRMxTypTa"
   },
   "source": [
    "from total volume to XLage bags' features are right skewed. lets check the skewness of the data and after that we will do some analysis. so for checking the skewness we will take numeric data into another variable but before that we need to change the name of the 3 columsn which are written in number so that we can take them as features"
   ]
  },
  {
   "cell_type": "code",
   "execution_count": 17,
   "metadata": {
    "id": "UQdfkG-WzNIN"
   },
   "outputs": [
    {
     "data": {
      "text/html": [
       "<div>\n",
       "<style scoped>\n",
       "    .dataframe tbody tr th:only-of-type {\n",
       "        vertical-align: middle;\n",
       "    }\n",
       "\n",
       "    .dataframe tbody tr th {\n",
       "        vertical-align: top;\n",
       "    }\n",
       "\n",
       "    .dataframe thead th {\n",
       "        text-align: right;\n",
       "    }\n",
       "</style>\n",
       "<table border=\"1\" class=\"dataframe\">\n",
       "  <thead>\n",
       "    <tr style=\"text-align: right;\">\n",
       "      <th></th>\n",
       "      <th>Date</th>\n",
       "      <th>AveragePrice</th>\n",
       "      <th>Total Volume</th>\n",
       "      <th>PLU_4046</th>\n",
       "      <th>PLU_4225</th>\n",
       "      <th>PLU_4770</th>\n",
       "      <th>Total Bags</th>\n",
       "      <th>Small Bags</th>\n",
       "      <th>Large Bags</th>\n",
       "      <th>XLarge Bags</th>\n",
       "      <th>type</th>\n",
       "      <th>year</th>\n",
       "      <th>region</th>\n",
       "    </tr>\n",
       "  </thead>\n",
       "  <tbody>\n",
       "    <tr>\n",
       "      <th>0</th>\n",
       "      <td>2015-12-27</td>\n",
       "      <td>1.33</td>\n",
       "      <td>64236.62</td>\n",
       "      <td>1036.74</td>\n",
       "      <td>54454.85</td>\n",
       "      <td>48.16</td>\n",
       "      <td>8696.87</td>\n",
       "      <td>8603.62</td>\n",
       "      <td>93.25</td>\n",
       "      <td>0.0</td>\n",
       "      <td>conventional</td>\n",
       "      <td>2015</td>\n",
       "      <td>Albany</td>\n",
       "    </tr>\n",
       "    <tr>\n",
       "      <th>1</th>\n",
       "      <td>2015-12-20</td>\n",
       "      <td>1.35</td>\n",
       "      <td>54876.98</td>\n",
       "      <td>674.28</td>\n",
       "      <td>44638.81</td>\n",
       "      <td>58.33</td>\n",
       "      <td>9505.56</td>\n",
       "      <td>9408.07</td>\n",
       "      <td>97.49</td>\n",
       "      <td>0.0</td>\n",
       "      <td>conventional</td>\n",
       "      <td>2015</td>\n",
       "      <td>Albany</td>\n",
       "    </tr>\n",
       "    <tr>\n",
       "      <th>2</th>\n",
       "      <td>2015-12-13</td>\n",
       "      <td>0.93</td>\n",
       "      <td>118220.22</td>\n",
       "      <td>794.70</td>\n",
       "      <td>109149.67</td>\n",
       "      <td>130.50</td>\n",
       "      <td>8145.35</td>\n",
       "      <td>8042.21</td>\n",
       "      <td>103.14</td>\n",
       "      <td>0.0</td>\n",
       "      <td>conventional</td>\n",
       "      <td>2015</td>\n",
       "      <td>Albany</td>\n",
       "    </tr>\n",
       "    <tr>\n",
       "      <th>3</th>\n",
       "      <td>2015-12-06</td>\n",
       "      <td>1.08</td>\n",
       "      <td>78992.15</td>\n",
       "      <td>1132.00</td>\n",
       "      <td>71976.41</td>\n",
       "      <td>72.58</td>\n",
       "      <td>5811.16</td>\n",
       "      <td>5677.40</td>\n",
       "      <td>133.76</td>\n",
       "      <td>0.0</td>\n",
       "      <td>conventional</td>\n",
       "      <td>2015</td>\n",
       "      <td>Albany</td>\n",
       "    </tr>\n",
       "    <tr>\n",
       "      <th>4</th>\n",
       "      <td>2015-11-29</td>\n",
       "      <td>1.28</td>\n",
       "      <td>51039.60</td>\n",
       "      <td>941.48</td>\n",
       "      <td>43838.39</td>\n",
       "      <td>75.78</td>\n",
       "      <td>6183.95</td>\n",
       "      <td>5986.26</td>\n",
       "      <td>197.69</td>\n",
       "      <td>0.0</td>\n",
       "      <td>conventional</td>\n",
       "      <td>2015</td>\n",
       "      <td>Albany</td>\n",
       "    </tr>\n",
       "  </tbody>\n",
       "</table>\n",
       "</div>"
      ],
      "text/plain": [
       "        Date  AveragePrice  Total Volume  PLU_4046   PLU_4225  PLU_4770  \\\n",
       "0 2015-12-27          1.33      64236.62   1036.74   54454.85     48.16   \n",
       "1 2015-12-20          1.35      54876.98    674.28   44638.81     58.33   \n",
       "2 2015-12-13          0.93     118220.22    794.70  109149.67    130.50   \n",
       "3 2015-12-06          1.08      78992.15   1132.00   71976.41     72.58   \n",
       "4 2015-11-29          1.28      51039.60    941.48   43838.39     75.78   \n",
       "\n",
       "   Total Bags  Small Bags  Large Bags  XLarge Bags          type  year  region  \n",
       "0     8696.87     8603.62       93.25          0.0  conventional  2015  Albany  \n",
       "1     9505.56     9408.07       97.49          0.0  conventional  2015  Albany  \n",
       "2     8145.35     8042.21      103.14          0.0  conventional  2015  Albany  \n",
       "3     5811.16     5677.40      133.76          0.0  conventional  2015  Albany  \n",
       "4     6183.95     5986.26      197.69          0.0  conventional  2015  Albany  "
      ]
     },
     "execution_count": 17,
     "metadata": {},
     "output_type": "execute_result"
    }
   ],
   "source": [
    "avocado_ds.rename(columns={\"4046\":\"PLU_4046\",\"4225\":\"PLU_4225\",\"4770\":\"PLU_4770\"},inplace=True)\n",
    "avocado_ds.head()"
   ]
  },
  {
   "cell_type": "code",
   "execution_count": 18,
   "metadata": {
    "id": "qJ5cmll8xn4U"
   },
   "outputs": [],
   "source": [
    "# saving numeric data into a variable for nmeric operation\n",
    "num_data = avocado_ds[[\"Total Volume\",\t\"PLU_4046\"\t,\"PLU_4225\",\t\"PLU_4770\",\"Total Bags\",\"Small Bags\",\"Large Bags\",\"XLarge Bags\"]]"
   ]
  },
  {
   "cell_type": "code",
   "execution_count": 19,
   "metadata": {
    "colab": {
     "base_uri": "https://localhost:8080/"
    },
    "id": "-LTjLeePzBlx",
    "outputId": "b8a5aab4-098a-4782-d6f8-1e8bdac794ee"
   },
   "outputs": [
    {
     "data": {
      "text/plain": [
       "Total Volume     9.007687\n",
       "PLU_4046         8.648220\n",
       "PLU_4225         8.942466\n",
       "PLU_4770        10.159396\n",
       "Total Bags       9.756072\n",
       "Small Bags       9.540660\n",
       "Large Bags       9.796455\n",
       "XLarge Bags     13.139751\n",
       "dtype: float64"
      ]
     },
     "execution_count": 19,
     "metadata": {},
     "output_type": "execute_result"
    }
   ],
   "source": [
    "# checking the skewness\n",
    "num_data.skew()"
   ]
  },
  {
   "cell_type": "markdown",
   "metadata": {
    "id": "F9IqlJvj2DmT"
   },
   "source": [
    "all the columns are skewed one as we have seen in the histogram. we will treat them after EDA.<br><br> i am creating a deep copy of the data and adding some more feature in the dataset for the analysis purpose from datetime columns.<br><br>\n",
    "\n",
    "i have observed that date format is not same from top to tail, so changing it in a proper manner. DD-MM-YYYY"
   ]
  },
  {
   "cell_type": "code",
   "execution_count": 20,
   "metadata": {
    "id": "SCBFV3yp5mY2"
   },
   "outputs": [],
   "source": [
    "avocado_ds_analysis_data = avocado_ds.copy() # creating a copy for further analysis"
   ]
  },
  {
   "cell_type": "code",
   "execution_count": 21,
   "metadata": {
    "id": "E3EwgwvA-k0n"
   },
   "outputs": [],
   "source": [
    "avocado_ds_analysis_data[\"Date\"] = pd.to_datetime(avocado_ds_analysis_data[\"Date\"],format = \"%d/%m/%Y\") "
   ]
  },
  {
   "cell_type": "code",
   "execution_count": 22,
   "metadata": {
    "colab": {
     "base_uri": "https://localhost:8080/"
    },
    "id": "MUnNJ5I9-u1p",
    "outputId": "4484efeb-43dc-4598-e0dd-45acebc2b9ee"
   },
   "outputs": [
    {
     "data": {
      "text/plain": [
       "Date            datetime64[ns]\n",
       "AveragePrice           float64\n",
       "Total Volume           float64\n",
       "PLU_4046               float64\n",
       "PLU_4225               float64\n",
       "PLU_4770               float64\n",
       "Total Bags             float64\n",
       "Small Bags             float64\n",
       "Large Bags             float64\n",
       "XLarge Bags            float64\n",
       "type                    object\n",
       "year                     int64\n",
       "region                  object\n",
       "dtype: object"
      ]
     },
     "execution_count": 22,
     "metadata": {},
     "output_type": "execute_result"
    }
   ],
   "source": [
    "avocado_ds_analysis_data.dtypes"
   ]
  },
  {
   "cell_type": "markdown",
   "metadata": {
    "id": "9w3cW4BE8b0J"
   },
   "source": [
    "Date format has been changed for entire column and it has seme for all observation"
   ]
  },
  {
   "cell_type": "code",
   "execution_count": 23,
   "metadata": {
    "colab": {
     "base_uri": "https://localhost:8080/"
    },
    "id": "2u6T75dh67Rb",
    "outputId": "0bf01c44-49ec-42fe-9514-326405be35c5"
   },
   "outputs": [
    {
     "name": "stderr",
     "output_type": "stream",
     "text": [
      "C:\\Users\\GURST\\AppData\\Local\\Temp\\ipykernel_8248\\1715313840.py:4: FutureWarning: Series.dt.weekofyear and Series.dt.week have been deprecated. Please use Series.dt.isocalendar().week instead.\n",
      "  avocado_ds_analysis_data[\"week\"] =  avocado_ds_analysis_data[\"Date\"].dt.week\n"
     ]
    }
   ],
   "source": [
    "avocado_ds_analysis_data[\"Day\"] =  avocado_ds_analysis_data[\"Date\"].dt.day\n",
    "avocado_ds_analysis_data[\"year\"] =  avocado_ds_analysis_data[\"Date\"].dt.year\n",
    "avocado_ds_analysis_data[\"Month\"] =  avocado_ds_analysis_data[\"Date\"].dt.month\n",
    "avocado_ds_analysis_data[\"week\"] =  avocado_ds_analysis_data[\"Date\"].dt.week"
   ]
  },
  {
   "cell_type": "code",
   "execution_count": 24,
   "metadata": {
    "colab": {
     "base_uri": "https://localhost:8080/",
     "height": 306
    },
    "id": "fUi86nfp8bfo",
    "outputId": "bce440a2-93ac-459c-c091-8c6a14c5fd14"
   },
   "outputs": [
    {
     "data": {
      "text/html": [
       "<div>\n",
       "<style scoped>\n",
       "    .dataframe tbody tr th:only-of-type {\n",
       "        vertical-align: middle;\n",
       "    }\n",
       "\n",
       "    .dataframe tbody tr th {\n",
       "        vertical-align: top;\n",
       "    }\n",
       "\n",
       "    .dataframe thead th {\n",
       "        text-align: right;\n",
       "    }\n",
       "</style>\n",
       "<table border=\"1\" class=\"dataframe\">\n",
       "  <thead>\n",
       "    <tr style=\"text-align: right;\">\n",
       "      <th></th>\n",
       "      <th>Date</th>\n",
       "      <th>AveragePrice</th>\n",
       "      <th>Total Volume</th>\n",
       "      <th>PLU_4046</th>\n",
       "      <th>PLU_4225</th>\n",
       "      <th>PLU_4770</th>\n",
       "      <th>Total Bags</th>\n",
       "      <th>Small Bags</th>\n",
       "      <th>Large Bags</th>\n",
       "      <th>XLarge Bags</th>\n",
       "      <th>type</th>\n",
       "      <th>year</th>\n",
       "      <th>region</th>\n",
       "      <th>Day</th>\n",
       "      <th>Month</th>\n",
       "      <th>week</th>\n",
       "    </tr>\n",
       "  </thead>\n",
       "  <tbody>\n",
       "    <tr>\n",
       "      <th>0</th>\n",
       "      <td>2015-12-27</td>\n",
       "      <td>1.33</td>\n",
       "      <td>64236.62</td>\n",
       "      <td>1036.74</td>\n",
       "      <td>54454.85</td>\n",
       "      <td>48.16</td>\n",
       "      <td>8696.87</td>\n",
       "      <td>8603.62</td>\n",
       "      <td>93.25</td>\n",
       "      <td>0.0</td>\n",
       "      <td>conventional</td>\n",
       "      <td>2015</td>\n",
       "      <td>Albany</td>\n",
       "      <td>27</td>\n",
       "      <td>12</td>\n",
       "      <td>52</td>\n",
       "    </tr>\n",
       "    <tr>\n",
       "      <th>1</th>\n",
       "      <td>2015-12-20</td>\n",
       "      <td>1.35</td>\n",
       "      <td>54876.98</td>\n",
       "      <td>674.28</td>\n",
       "      <td>44638.81</td>\n",
       "      <td>58.33</td>\n",
       "      <td>9505.56</td>\n",
       "      <td>9408.07</td>\n",
       "      <td>97.49</td>\n",
       "      <td>0.0</td>\n",
       "      <td>conventional</td>\n",
       "      <td>2015</td>\n",
       "      <td>Albany</td>\n",
       "      <td>20</td>\n",
       "      <td>12</td>\n",
       "      <td>51</td>\n",
       "    </tr>\n",
       "    <tr>\n",
       "      <th>2</th>\n",
       "      <td>2015-12-13</td>\n",
       "      <td>0.93</td>\n",
       "      <td>118220.22</td>\n",
       "      <td>794.70</td>\n",
       "      <td>109149.67</td>\n",
       "      <td>130.50</td>\n",
       "      <td>8145.35</td>\n",
       "      <td>8042.21</td>\n",
       "      <td>103.14</td>\n",
       "      <td>0.0</td>\n",
       "      <td>conventional</td>\n",
       "      <td>2015</td>\n",
       "      <td>Albany</td>\n",
       "      <td>13</td>\n",
       "      <td>12</td>\n",
       "      <td>50</td>\n",
       "    </tr>\n",
       "    <tr>\n",
       "      <th>3</th>\n",
       "      <td>2015-12-06</td>\n",
       "      <td>1.08</td>\n",
       "      <td>78992.15</td>\n",
       "      <td>1132.00</td>\n",
       "      <td>71976.41</td>\n",
       "      <td>72.58</td>\n",
       "      <td>5811.16</td>\n",
       "      <td>5677.40</td>\n",
       "      <td>133.76</td>\n",
       "      <td>0.0</td>\n",
       "      <td>conventional</td>\n",
       "      <td>2015</td>\n",
       "      <td>Albany</td>\n",
       "      <td>6</td>\n",
       "      <td>12</td>\n",
       "      <td>49</td>\n",
       "    </tr>\n",
       "    <tr>\n",
       "      <th>4</th>\n",
       "      <td>2015-11-29</td>\n",
       "      <td>1.28</td>\n",
       "      <td>51039.60</td>\n",
       "      <td>941.48</td>\n",
       "      <td>43838.39</td>\n",
       "      <td>75.78</td>\n",
       "      <td>6183.95</td>\n",
       "      <td>5986.26</td>\n",
       "      <td>197.69</td>\n",
       "      <td>0.0</td>\n",
       "      <td>conventional</td>\n",
       "      <td>2015</td>\n",
       "      <td>Albany</td>\n",
       "      <td>29</td>\n",
       "      <td>11</td>\n",
       "      <td>48</td>\n",
       "    </tr>\n",
       "  </tbody>\n",
       "</table>\n",
       "</div>"
      ],
      "text/plain": [
       "        Date  AveragePrice  Total Volume  PLU_4046   PLU_4225  PLU_4770  \\\n",
       "0 2015-12-27          1.33      64236.62   1036.74   54454.85     48.16   \n",
       "1 2015-12-20          1.35      54876.98    674.28   44638.81     58.33   \n",
       "2 2015-12-13          0.93     118220.22    794.70  109149.67    130.50   \n",
       "3 2015-12-06          1.08      78992.15   1132.00   71976.41     72.58   \n",
       "4 2015-11-29          1.28      51039.60    941.48   43838.39     75.78   \n",
       "\n",
       "   Total Bags  Small Bags  Large Bags  XLarge Bags          type  year  \\\n",
       "0     8696.87     8603.62       93.25          0.0  conventional  2015   \n",
       "1     9505.56     9408.07       97.49          0.0  conventional  2015   \n",
       "2     8145.35     8042.21      103.14          0.0  conventional  2015   \n",
       "3     5811.16     5677.40      133.76          0.0  conventional  2015   \n",
       "4     6183.95     5986.26      197.69          0.0  conventional  2015   \n",
       "\n",
       "   region  Day  Month  week  \n",
       "0  Albany   27     12    52  \n",
       "1  Albany   20     12    51  \n",
       "2  Albany   13     12    50  \n",
       "3  Albany    6     12    49  \n",
       "4  Albany   29     11    48  "
      ]
     },
     "execution_count": 24,
     "metadata": {},
     "output_type": "execute_result"
    }
   ],
   "source": [
    "avocado_ds_analysis_data.head()\n"
   ]
  },
  {
   "cell_type": "code",
   "execution_count": 25,
   "metadata": {
    "colab": {
     "base_uri": "https://localhost:8080/",
     "height": 276
    },
    "id": "7LSr3nE4BnqQ",
    "outputId": "5f5d6802-87c5-4bf8-f938-01fa628b8a53"
   },
   "outputs": [
    {
     "data": {
      "image/png": "[encoded data removed]",
      "text/plain": [
       "<Figure size 1080x576 with 2 Axes>"
      ]
     },
     "metadata": {
      "needs_background": "light"
     },
     "output_type": "display_data"
    }
   ],
   "source": [
    "plt.figure(figsize=(15,8))\n",
    "plt.subplot(221)\n",
    "sns.barplot(x = \"year\", y = \"Total Volume\", data = avocado_ds_analysis_data)\n",
    "plt.title(\"Year wise avocado sale\");\n",
    "\n",
    "plt.subplot(222)\n",
    "sns.barplot(x = \"year\", y = \"AveragePrice\", data = avocado_ds_analysis_data)\n",
    "plt.title(\"Year wise Aavocado price \");\n"
   ]
  },
  {
   "cell_type": "markdown",
   "metadata": {
    "id": "diheANscC-jM"
   },
   "source": [
    "Avocado number of sold in the year of 2015 is more as compared to 2016 but when we compare the year wise avocado price,  2016 year wise price average is high for as compared to 2015 and it can be "
   ]
  },
  {
   "cell_type": "code",
   "execution_count": 26,
   "metadata": {
    "colab": {
     "base_uri": "https://localhost:8080/",
     "height": 638
    },
    "id": "dL3Vuy9A71uL",
    "outputId": "87745a75-0004-4774-812b-8be962ead787"
   },
   "outputs": [
    {
     "data": {
      "image/png": "[encoded data removed]",
      "text/plain": [
       "<Figure size 1440x720 with 2 Axes>"
      ]
     },
     "metadata": {
      "needs_background": "light"
     },
     "output_type": "display_data"
    }
   ],
   "source": [
    "plt.figure(figsize=(20,10))\n",
    "plt.subplot(211)\n",
    "sns.barplot(x = \"Day\", y = \"Total Volume\", data = avocado_ds_analysis_data,hue=\"year\")\n",
    "plt.title(\"Year wise day wise total avocado sold\");\n",
    "\n",
    "plt.subplot(212)\n",
    "sns.barplot(x = \"Day\", y = \"AveragePrice\", data = avocado_ds_analysis_data,hue=\"year\")\n",
    "plt.title(\"Year wise day wise Avr price\");"
   ]
  },
  {
   "cell_type": "markdown",
   "metadata": {
    "id": "RKWw9X68Eg_N"
   },
   "source": [
    "out of 31 days, 13 days ,total sold count was higher in 2015 and rest are all in 2016.<br>\n",
    "in 2016 on 11th and 30th , the avg price were high."
   ]
  },
  {
   "cell_type": "code",
   "execution_count": 27,
   "metadata": {
    "colab": {
     "base_uri": "https://localhost:8080/",
     "height": 638
    },
    "id": "bG29SfbjA3h4",
    "outputId": "093757af-cea0-4edc-80d8-ab5c9fb4f408"
   },
   "outputs": [
    {
     "data": {
      "image/png": "[encoded data removed]",
      "text/plain": [
       "<Figure size 1440x720 with 2 Axes>"
      ]
     },
     "metadata": {
      "needs_background": "light"
     },
     "output_type": "display_data"
    }
   ],
   "source": [
    "plt.figure(figsize=(20,10))\n",
    "plt.subplot(211)\n",
    "sns.barplot(x = \"Month\", y = \"Total Volume\", data = avocado_ds_analysis_data,hue=\"year\")\n",
    "plt.title(\"Month wise total avocado sold\")\n",
    "\n",
    "plt.subplot(212)\n",
    "sns.barplot(x = \"Month\", y = \"AveragePrice\", data = avocado_ds_analysis_data,hue=\"year\")\n",
    "plt.title(\"Month wise avg price\");"
   ]
  },
  {
   "cell_type": "markdown",
   "metadata": {
    "id": "p04IFp-ZDBEl"
   },
   "source": [
    "we see that in the 6th month in 2016 total volume is less but avg price is high. similarly we can observe the reverse of the same in 4th, 10 and 11 months, may be in these months organic avocado sold, i cannot be sure, having said that total volum of avocado is containing some other variate of avocado also because conventional avocado's count doesnt match with total volume."
   ]
  },
  {
   "cell_type": "code",
   "execution_count": 28,
   "metadata": {
    "colab": {
     "base_uri": "https://localhost:8080/",
     "height": 638
    },
    "id": "JRP1MlJDBPVK",
    "outputId": "2f2c72d5-4191-450b-c238-8b4954d47c70"
   },
   "outputs": [
    {
     "data": {
      "text/plain": [
       "Text(0.5, 1.0, 'week wise avg price')"
      ]
     },
     "execution_count": 28,
     "metadata": {},
     "output_type": "execute_result"
    },
    {
     "data": {
      "image/png": "[encoded data removed]",
      "text/plain": [
       "<Figure size 1440x720 with 2 Axes>"
      ]
     },
     "metadata": {
      "needs_background": "light"
     },
     "output_type": "display_data"
    }
   ],
   "source": [
    "plt.figure(figsize=(20,10))\n",
    "plt.subplot(211)\n",
    "sns.barplot(x = \"week\", y = \"Total Volume\", data = avocado_ds_analysis_data,hue=\"year\")\n",
    "plt.title(\"year wise week wise total avocado sold\")\n",
    "\n",
    "plt.subplot(212)\n",
    "sns.barplot(x = \"week\", y = \"AveragePrice\", data = avocado_ds_analysis_data,hue=\"year\")\n",
    "plt.title(\"week wise avg price\")"
   ]
  },
  {
   "cell_type": "markdown",
   "metadata": {
    "id": "KZAkPYSNGZ1s"
   },
   "source": [
    "week wise data looks cmulsy but we still make out some observations. <br>\n",
    "after week 23, we see that ave price is high as compared to earlier weeks in most of the weeks. "
   ]
  },
  {
   "cell_type": "code",
   "execution_count": 29,
   "metadata": {
    "colab": {
     "base_uri": "https://localhost:8080/",
     "height": 1000
    },
    "id": "0bbpeU56F8RW",
    "outputId": "495767c6-e21b-4c27-9ee6-adc877dce64c"
   },
   "outputs": [
    {
     "data": {
      "text/html": [
       "<div>\n",
       "<style scoped>\n",
       "    .dataframe tbody tr th:only-of-type {\n",
       "        vertical-align: middle;\n",
       "    }\n",
       "\n",
       "    .dataframe tbody tr th {\n",
       "        vertical-align: top;\n",
       "    }\n",
       "\n",
       "    .dataframe thead th {\n",
       "        text-align: right;\n",
       "    }\n",
       "</style>\n",
       "<table border=\"1\" class=\"dataframe\">\n",
       "  <thead>\n",
       "    <tr style=\"text-align: right;\">\n",
       "      <th></th>\n",
       "      <th>Total Volume</th>\n",
       "      <th>AveragePrice</th>\n",
       "    </tr>\n",
       "    <tr>\n",
       "      <th>region</th>\n",
       "      <th></th>\n",
       "      <th></th>\n",
       "    </tr>\n",
       "  </thead>\n",
       "  <tbody>\n",
       "    <tr>\n",
       "      <th>TotalUS</th>\n",
       "      <td>1.735130e+07</td>\n",
       "      <td>1.319024</td>\n",
       "    </tr>\n",
       "    <tr>\n",
       "      <th>West</th>\n",
       "      <td>3.215323e+06</td>\n",
       "      <td>1.272219</td>\n",
       "    </tr>\n",
       "    <tr>\n",
       "      <th>California</th>\n",
       "      <td>3.044324e+06</td>\n",
       "      <td>1.395325</td>\n",
       "    </tr>\n",
       "    <tr>\n",
       "      <th>SouthCentral</th>\n",
       "      <td>2.991952e+06</td>\n",
       "      <td>1.101243</td>\n",
       "    </tr>\n",
       "    <tr>\n",
       "      <th>Northeast</th>\n",
       "      <td>2.110299e+06</td>\n",
       "      <td>1.601923</td>\n",
       "    </tr>\n",
       "    <tr>\n",
       "      <th>Southeast</th>\n",
       "      <td>1.820232e+06</td>\n",
       "      <td>1.398018</td>\n",
       "    </tr>\n",
       "    <tr>\n",
       "      <th>GreatLakes</th>\n",
       "      <td>1.744505e+06</td>\n",
       "      <td>1.338550</td>\n",
       "    </tr>\n",
       "    <tr>\n",
       "      <th>Midsouth</th>\n",
       "      <td>1.503992e+06</td>\n",
       "      <td>1.404763</td>\n",
       "    </tr>\n",
       "    <tr>\n",
       "      <th>LosAngeles</th>\n",
       "      <td>1.502653e+06</td>\n",
       "      <td>1.216006</td>\n",
       "    </tr>\n",
       "    <tr>\n",
       "      <th>Plains</th>\n",
       "      <td>9.206761e+05</td>\n",
       "      <td>1.436509</td>\n",
       "    </tr>\n",
       "    <tr>\n",
       "      <th>NewYork</th>\n",
       "      <td>7.122311e+05</td>\n",
       "      <td>1.727574</td>\n",
       "    </tr>\n",
       "    <tr>\n",
       "      <th>DallasFtWorth</th>\n",
       "      <td>6.166251e+05</td>\n",
       "      <td>1.085592</td>\n",
       "    </tr>\n",
       "    <tr>\n",
       "      <th>Houston</th>\n",
       "      <td>6.010884e+05</td>\n",
       "      <td>1.047929</td>\n",
       "    </tr>\n",
       "    <tr>\n",
       "      <th>PhoenixTucson</th>\n",
       "      <td>5.788264e+05</td>\n",
       "      <td>1.224438</td>\n",
       "    </tr>\n",
       "    <tr>\n",
       "      <th>WestTexNewMexico</th>\n",
       "      <td>4.314085e+05</td>\n",
       "      <td>1.261701</td>\n",
       "    </tr>\n",
       "    <tr>\n",
       "      <th>Denver</th>\n",
       "      <td>4.109542e+05</td>\n",
       "      <td>1.218580</td>\n",
       "    </tr>\n",
       "    <tr>\n",
       "      <th>SanFrancisco</th>\n",
       "      <td>4.018645e+05</td>\n",
       "      <td>1.804201</td>\n",
       "    </tr>\n",
       "    <tr>\n",
       "      <th>BaltimoreWashington</th>\n",
       "      <td>3.985619e+05</td>\n",
       "      <td>1.534231</td>\n",
       "    </tr>\n",
       "    <tr>\n",
       "      <th>Chicago</th>\n",
       "      <td>3.955690e+05</td>\n",
       "      <td>1.556775</td>\n",
       "    </tr>\n",
       "    <tr>\n",
       "      <th>Portland</th>\n",
       "      <td>3.270775e+05</td>\n",
       "      <td>1.317722</td>\n",
       "    </tr>\n",
       "    <tr>\n",
       "      <th>Seattle</th>\n",
       "      <td>3.231189e+05</td>\n",
       "      <td>1.442574</td>\n",
       "    </tr>\n",
       "    <tr>\n",
       "      <th>MiamiFtLauderdale</th>\n",
       "      <td>2.889740e+05</td>\n",
       "      <td>1.428491</td>\n",
       "    </tr>\n",
       "    <tr>\n",
       "      <th>Boston</th>\n",
       "      <td>2.877929e+05</td>\n",
       "      <td>1.530888</td>\n",
       "    </tr>\n",
       "    <tr>\n",
       "      <th>SanDiego</th>\n",
       "      <td>2.656566e+05</td>\n",
       "      <td>1.398166</td>\n",
       "    </tr>\n",
       "    <tr>\n",
       "      <th>Atlanta</th>\n",
       "      <td>2.621453e+05</td>\n",
       "      <td>1.337959</td>\n",
       "    </tr>\n",
       "    <tr>\n",
       "      <th>Sacramento</th>\n",
       "      <td>2.223779e+05</td>\n",
       "      <td>1.621568</td>\n",
       "    </tr>\n",
       "    <tr>\n",
       "      <th>Philadelphia</th>\n",
       "      <td>2.125408e+05</td>\n",
       "      <td>1.632130</td>\n",
       "    </tr>\n",
       "    <tr>\n",
       "      <th>NorthernNewEngland</th>\n",
       "      <td>2.116358e+05</td>\n",
       "      <td>1.477396</td>\n",
       "    </tr>\n",
       "    <tr>\n",
       "      <th>Tampa</th>\n",
       "      <td>1.952797e+05</td>\n",
       "      <td>1.408846</td>\n",
       "    </tr>\n",
       "    <tr>\n",
       "      <th>Detroit</th>\n",
       "      <td>1.876403e+05</td>\n",
       "      <td>1.276095</td>\n",
       "    </tr>\n",
       "    <tr>\n",
       "      <th>SouthCarolina</th>\n",
       "      <td>1.797449e+05</td>\n",
       "      <td>1.403284</td>\n",
       "    </tr>\n",
       "    <tr>\n",
       "      <th>Orlando</th>\n",
       "      <td>1.735524e+05</td>\n",
       "      <td>1.506213</td>\n",
       "    </tr>\n",
       "    <tr>\n",
       "      <th>LasVegas</th>\n",
       "      <td>1.608784e+05</td>\n",
       "      <td>1.380917</td>\n",
       "    </tr>\n",
       "    <tr>\n",
       "      <th>HartfordSpringfield</th>\n",
       "      <td>1.499128e+05</td>\n",
       "      <td>1.818639</td>\n",
       "    </tr>\n",
       "    <tr>\n",
       "      <th>RaleighGreensboro</th>\n",
       "      <td>1.426116e+05</td>\n",
       "      <td>1.555118</td>\n",
       "    </tr>\n",
       "    <tr>\n",
       "      <th>NewOrleansMobile</th>\n",
       "      <td>1.351927e+05</td>\n",
       "      <td>1.304793</td>\n",
       "    </tr>\n",
       "    <tr>\n",
       "      <th>CincinnatiDayton</th>\n",
       "      <td>1.317219e+05</td>\n",
       "      <td>1.209201</td>\n",
       "    </tr>\n",
       "    <tr>\n",
       "      <th>RichmondNorfolk</th>\n",
       "      <td>1.249433e+05</td>\n",
       "      <td>1.291331</td>\n",
       "    </tr>\n",
       "    <tr>\n",
       "      <th>HarrisburgScranton</th>\n",
       "      <td>1.236948e+05</td>\n",
       "      <td>1.513284</td>\n",
       "    </tr>\n",
       "    <tr>\n",
       "      <th>Nashville</th>\n",
       "      <td>1.053612e+05</td>\n",
       "      <td>1.212101</td>\n",
       "    </tr>\n",
       "    <tr>\n",
       "      <th>Charlotte</th>\n",
       "      <td>1.051939e+05</td>\n",
       "      <td>1.606036</td>\n",
       "    </tr>\n",
       "    <tr>\n",
       "      <th>StLouis</th>\n",
       "      <td>9.489004e+04</td>\n",
       "      <td>1.430621</td>\n",
       "    </tr>\n",
       "    <tr>\n",
       "      <th>Indianapolis</th>\n",
       "      <td>8.953666e+04</td>\n",
       "      <td>1.313994</td>\n",
       "    </tr>\n",
       "    <tr>\n",
       "      <th>GrandRapids</th>\n",
       "      <td>8.938383e+04</td>\n",
       "      <td>1.505000</td>\n",
       "    </tr>\n",
       "    <tr>\n",
       "      <th>Columbus</th>\n",
       "      <td>8.873776e+04</td>\n",
       "      <td>1.252781</td>\n",
       "    </tr>\n",
       "    <tr>\n",
       "      <th>Jacksonville</th>\n",
       "      <td>8.517753e+04</td>\n",
       "      <td>1.510947</td>\n",
       "    </tr>\n",
       "    <tr>\n",
       "      <th>Roanoke</th>\n",
       "      <td>7.408879e+04</td>\n",
       "      <td>1.247929</td>\n",
       "    </tr>\n",
       "    <tr>\n",
       "      <th>BuffaloRochester</th>\n",
       "      <td>6.793630e+04</td>\n",
       "      <td>1.516834</td>\n",
       "    </tr>\n",
       "    <tr>\n",
       "      <th>Pittsburgh</th>\n",
       "      <td>5.564008e+04</td>\n",
       "      <td>1.364320</td>\n",
       "    </tr>\n",
       "    <tr>\n",
       "      <th>Louisville</th>\n",
       "      <td>4.762427e+04</td>\n",
       "      <td>1.286686</td>\n",
       "    </tr>\n",
       "    <tr>\n",
       "      <th>Albany</th>\n",
       "      <td>4.753787e+04</td>\n",
       "      <td>1.561036</td>\n",
       "    </tr>\n",
       "    <tr>\n",
       "      <th>Spokane</th>\n",
       "      <td>4.605111e+04</td>\n",
       "      <td>1.445592</td>\n",
       "    </tr>\n",
       "    <tr>\n",
       "      <th>Boise</th>\n",
       "      <td>4.264257e+04</td>\n",
       "      <td>1.348136</td>\n",
       "    </tr>\n",
       "    <tr>\n",
       "      <th>Syracuse</th>\n",
       "      <td>3.237476e+04</td>\n",
       "      <td>1.520325</td>\n",
       "    </tr>\n",
       "  </tbody>\n",
       "</table>\n",
       "</div>"
      ],
      "text/plain": [
       "                     Total Volume  AveragePrice\n",
       "region                                         \n",
       "TotalUS              1.735130e+07      1.319024\n",
       "West                 3.215323e+06      1.272219\n",
       "California           3.044324e+06      1.395325\n",
       "SouthCentral         2.991952e+06      1.101243\n",
       "Northeast            2.110299e+06      1.601923\n",
       "Southeast            1.820232e+06      1.398018\n",
       "GreatLakes           1.744505e+06      1.338550\n",
       "Midsouth             1.503992e+06      1.404763\n",
       "LosAngeles           1.502653e+06      1.216006\n",
       "Plains               9.206761e+05      1.436509\n",
       "NewYork              7.122311e+05      1.727574\n",
       "DallasFtWorth        6.166251e+05      1.085592\n",
       "Houston              6.010884e+05      1.047929\n",
       "PhoenixTucson        5.788264e+05      1.224438\n",
       "WestTexNewMexico     4.314085e+05      1.261701\n",
       "Denver               4.109542e+05      1.218580\n",
       "SanFrancisco         4.018645e+05      1.804201\n",
       "BaltimoreWashington  3.985619e+05      1.534231\n",
       "Chicago              3.955690e+05      1.556775\n",
       "Portland             3.270775e+05      1.317722\n",
       "Seattle              3.231189e+05      1.442574\n",
       "MiamiFtLauderdale    2.889740e+05      1.428491\n",
       "Boston               2.877929e+05      1.530888\n",
       "SanDiego             2.656566e+05      1.398166\n",
       "Atlanta              2.621453e+05      1.337959\n",
       "Sacramento           2.223779e+05      1.621568\n",
       "Philadelphia         2.125408e+05      1.632130\n",
       "NorthernNewEngland   2.116358e+05      1.477396\n",
       "Tampa                1.952797e+05      1.408846\n",
       "Detroit              1.876403e+05      1.276095\n",
       "SouthCarolina        1.797449e+05      1.403284\n",
       "Orlando              1.735524e+05      1.506213\n",
       "LasVegas             1.608784e+05      1.380917\n",
       "HartfordSpringfield  1.499128e+05      1.818639\n",
       "RaleighGreensboro    1.426116e+05      1.555118\n",
       "NewOrleansMobile     1.351927e+05      1.304793\n",
       "CincinnatiDayton     1.317219e+05      1.209201\n",
       "RichmondNorfolk      1.249433e+05      1.291331\n",
       "HarrisburgScranton   1.236948e+05      1.513284\n",
       "Nashville            1.053612e+05      1.212101\n",
       "Charlotte            1.051939e+05      1.606036\n",
       "StLouis              9.489004e+04      1.430621\n",
       "Indianapolis         8.953666e+04      1.313994\n",
       "GrandRapids          8.938383e+04      1.505000\n",
       "Columbus             8.873776e+04      1.252781\n",
       "Jacksonville         8.517753e+04      1.510947\n",
       "Roanoke              7.408879e+04      1.247929\n",
       "BuffaloRochester     6.793630e+04      1.516834\n",
       "Pittsburgh           5.564008e+04      1.364320\n",
       "Louisville           4.762427e+04      1.286686\n",
       "Albany               4.753787e+04      1.561036\n",
       "Spokane              4.605111e+04      1.445592\n",
       "Boise                4.264257e+04      1.348136\n",
       "Syracuse             3.237476e+04      1.520325"
      ]
     },
     "execution_count": 29,
     "metadata": {},
     "output_type": "execute_result"
    }
   ],
   "source": [
    "avocado_ds.groupby(\"region\")[[\"Total Volume\",\"AveragePrice\"]].mean().sort_values(by =\"Total Volume\" ,ascending = False)"
   ]
  },
  {
   "cell_type": "markdown",
   "metadata": {
    "id": "4Esnaw93MJAf"
   },
   "source": [
    "Top 5 region where it has consumed a lot and those are California,west,southcentral , northeast and greatlakes."
   ]
  },
  {
   "cell_type": "markdown",
   "metadata": {
    "id": "ghYW-EUylT4Y"
   },
   "source": [
    "**lets check the outlier in the dataset but before do that we will delete some columns whcih just an extent of one column and share the similar observation**<br>\n",
    "Small and large bag are the extension of the total bag thus we are deleteing it.type column has only one value that avocado is conventional type so we can delete it.\n",
    " "
   ]
  },
  {
   "cell_type": "code",
   "execution_count": 30,
   "metadata": {},
   "outputs": [],
   "source": [
    "avocado_ds.drop(columns=[\"Small Bags\",\"Large Bags\"],axis = 1, inplace = True)"
   ]
  },
  {
   "cell_type": "code",
   "execution_count": 60,
   "metadata": {
    "colab": {
     "base_uri": "https://localhost:8080/",
     "height": 340
    },
    "id": "Lfv8sFXsloNV",
    "outputId": "294e591d-8078-4a16-cbfe-bcf0d10d6394"
   },
   "outputs": [
    {
     "data": {
      "image/png": "[encoded data removed]",
      "text/plain": [
       "<Figure size 1080x720 with 9 Axes>"
      ]
     },
     "metadata": {
      "needs_background": "light"
     },
     "output_type": "display_data"
    }
   ],
   "source": [
    "num_data = avocado_ds_analysis_data[[\"Total Volume\",\"PLU_4046\"\t,\"PLU_4225\",\t\"PLU_4770\",\"Total Bags\",\"XLarge Bags\"]]\n",
    "\n",
    "num_data.plot(kind = \"box\", subplots = True, layout=(3,3), figsize = (15,10), color='Red');"
   ]
  },
  {
   "cell_type": "markdown",
   "metadata": {
    "id": "GKxXftmqpa_K"
   },
   "source": [
    "All numeric columns are full with outlier let treat them but before doing that we will encode cateorical variables."
   ]
  },
  {
   "cell_type": "markdown",
   "metadata": {},
   "source": [
    "# Label Encoding"
   ]
  },
  {
   "cell_type": "code",
   "execution_count": 32,
   "metadata": {
    "id": "-3aGxhSbpCBB"
   },
   "outputs": [],
   "source": [
    "from sklearn.preprocessing import LabelEncoder\n",
    "from scipy.stats import zscore\n",
    "\n",
    "lb = LabelEncoder()\n",
    "lb.fit(avocado_ds[\"region\"])\n",
    "\n",
    "avocado_ds[\"region\"] = lb.transform(avocado_ds[\"region\"])"
   ]
  },
  {
   "cell_type": "code",
   "execution_count": 33,
   "metadata": {
    "id": "1nR8aLCgrVuB"
   },
   "outputs": [
    {
     "data": {
      "text/html": [
       "<div>\n",
       "<style scoped>\n",
       "    .dataframe tbody tr th:only-of-type {\n",
       "        vertical-align: middle;\n",
       "    }\n",
       "\n",
       "    .dataframe tbody tr th {\n",
       "        vertical-align: top;\n",
       "    }\n",
       "\n",
       "    .dataframe thead th {\n",
       "        text-align: right;\n",
       "    }\n",
       "</style>\n",
       "<table border=\"1\" class=\"dataframe\">\n",
       "  <thead>\n",
       "    <tr style=\"text-align: right;\">\n",
       "      <th></th>\n",
       "      <th>Date</th>\n",
       "      <th>AveragePrice</th>\n",
       "      <th>Total Volume</th>\n",
       "      <th>PLU_4046</th>\n",
       "      <th>PLU_4225</th>\n",
       "      <th>PLU_4770</th>\n",
       "      <th>Total Bags</th>\n",
       "      <th>XLarge Bags</th>\n",
       "      <th>type</th>\n",
       "      <th>year</th>\n",
       "      <th>region</th>\n",
       "    </tr>\n",
       "  </thead>\n",
       "  <tbody>\n",
       "    <tr>\n",
       "      <th>0</th>\n",
       "      <td>2015-12-27</td>\n",
       "      <td>1.33</td>\n",
       "      <td>64236.62</td>\n",
       "      <td>1036.74</td>\n",
       "      <td>54454.85</td>\n",
       "      <td>48.16</td>\n",
       "      <td>8696.87</td>\n",
       "      <td>0.0</td>\n",
       "      <td>conventional</td>\n",
       "      <td>2015</td>\n",
       "      <td>0</td>\n",
       "    </tr>\n",
       "    <tr>\n",
       "      <th>1</th>\n",
       "      <td>2015-12-20</td>\n",
       "      <td>1.35</td>\n",
       "      <td>54876.98</td>\n",
       "      <td>674.28</td>\n",
       "      <td>44638.81</td>\n",
       "      <td>58.33</td>\n",
       "      <td>9505.56</td>\n",
       "      <td>0.0</td>\n",
       "      <td>conventional</td>\n",
       "      <td>2015</td>\n",
       "      <td>0</td>\n",
       "    </tr>\n",
       "    <tr>\n",
       "      <th>2</th>\n",
       "      <td>2015-12-13</td>\n",
       "      <td>0.93</td>\n",
       "      <td>118220.22</td>\n",
       "      <td>794.70</td>\n",
       "      <td>109149.67</td>\n",
       "      <td>130.50</td>\n",
       "      <td>8145.35</td>\n",
       "      <td>0.0</td>\n",
       "      <td>conventional</td>\n",
       "      <td>2015</td>\n",
       "      <td>0</td>\n",
       "    </tr>\n",
       "    <tr>\n",
       "      <th>3</th>\n",
       "      <td>2015-12-06</td>\n",
       "      <td>1.08</td>\n",
       "      <td>78992.15</td>\n",
       "      <td>1132.00</td>\n",
       "      <td>71976.41</td>\n",
       "      <td>72.58</td>\n",
       "      <td>5811.16</td>\n",
       "      <td>0.0</td>\n",
       "      <td>conventional</td>\n",
       "      <td>2015</td>\n",
       "      <td>0</td>\n",
       "    </tr>\n",
       "    <tr>\n",
       "      <th>4</th>\n",
       "      <td>2015-11-29</td>\n",
       "      <td>1.28</td>\n",
       "      <td>51039.60</td>\n",
       "      <td>941.48</td>\n",
       "      <td>43838.39</td>\n",
       "      <td>75.78</td>\n",
       "      <td>6183.95</td>\n",
       "      <td>0.0</td>\n",
       "      <td>conventional</td>\n",
       "      <td>2015</td>\n",
       "      <td>0</td>\n",
       "    </tr>\n",
       "  </tbody>\n",
       "</table>\n",
       "</div>"
      ],
      "text/plain": [
       "        Date  AveragePrice  Total Volume  PLU_4046   PLU_4225  PLU_4770  \\\n",
       "0 2015-12-27          1.33      64236.62   1036.74   54454.85     48.16   \n",
       "1 2015-12-20          1.35      54876.98    674.28   44638.81     58.33   \n",
       "2 2015-12-13          0.93     118220.22    794.70  109149.67    130.50   \n",
       "3 2015-12-06          1.08      78992.15   1132.00   71976.41     72.58   \n",
       "4 2015-11-29          1.28      51039.60    941.48   43838.39     75.78   \n",
       "\n",
       "   Total Bags  XLarge Bags          type  year  region  \n",
       "0     8696.87          0.0  conventional  2015       0  \n",
       "1     9505.56          0.0  conventional  2015       0  \n",
       "2     8145.35          0.0  conventional  2015       0  \n",
       "3     5811.16          0.0  conventional  2015       0  \n",
       "4     6183.95          0.0  conventional  2015       0  "
      ]
     },
     "execution_count": 33,
     "metadata": {},
     "output_type": "execute_result"
    }
   ],
   "source": [
    "avocado_ds.head()"
   ]
  },
  {
   "cell_type": "code",
   "execution_count": 34,
   "metadata": {
    "id": "pniaIOpOran3"
   },
   "outputs": [
    {
     "data": {
      "text/html": [
       "<div>\n",
       "<style scoped>\n",
       "    .dataframe tbody tr th:only-of-type {\n",
       "        vertical-align: middle;\n",
       "    }\n",
       "\n",
       "    .dataframe tbody tr th {\n",
       "        vertical-align: top;\n",
       "    }\n",
       "\n",
       "    .dataframe thead th {\n",
       "        text-align: right;\n",
       "    }\n",
       "</style>\n",
       "<table border=\"1\" class=\"dataframe\">\n",
       "  <thead>\n",
       "    <tr style=\"text-align: right;\">\n",
       "      <th></th>\n",
       "      <th>Date</th>\n",
       "      <th>AveragePrice</th>\n",
       "      <th>Total Volume</th>\n",
       "      <th>PLU_4046</th>\n",
       "      <th>PLU_4225</th>\n",
       "      <th>PLU_4770</th>\n",
       "      <th>Total Bags</th>\n",
       "      <th>XLarge Bags</th>\n",
       "      <th>type</th>\n",
       "      <th>year</th>\n",
       "      <th>region</th>\n",
       "    </tr>\n",
       "  </thead>\n",
       "  <tbody>\n",
       "    <tr>\n",
       "      <th>18239</th>\n",
       "      <td>2018-03-11</td>\n",
       "      <td>1.56</td>\n",
       "      <td>22128.42</td>\n",
       "      <td>2162.67</td>\n",
       "      <td>3194.25</td>\n",
       "      <td>8.93</td>\n",
       "      <td>16762.57</td>\n",
       "      <td>0.0</td>\n",
       "      <td>organic</td>\n",
       "      <td>2018</td>\n",
       "      <td>53</td>\n",
       "    </tr>\n",
       "    <tr>\n",
       "      <th>18240</th>\n",
       "      <td>2018-03-04</td>\n",
       "      <td>1.54</td>\n",
       "      <td>17393.30</td>\n",
       "      <td>1832.24</td>\n",
       "      <td>1905.57</td>\n",
       "      <td>0.00</td>\n",
       "      <td>13655.49</td>\n",
       "      <td>0.0</td>\n",
       "      <td>organic</td>\n",
       "      <td>2018</td>\n",
       "      <td>53</td>\n",
       "    </tr>\n",
       "    <tr>\n",
       "      <th>18241</th>\n",
       "      <td>2018-02-25</td>\n",
       "      <td>1.57</td>\n",
       "      <td>18421.24</td>\n",
       "      <td>1974.26</td>\n",
       "      <td>2482.65</td>\n",
       "      <td>0.00</td>\n",
       "      <td>13964.33</td>\n",
       "      <td>0.0</td>\n",
       "      <td>organic</td>\n",
       "      <td>2018</td>\n",
       "      <td>53</td>\n",
       "    </tr>\n",
       "    <tr>\n",
       "      <th>18242</th>\n",
       "      <td>2018-02-18</td>\n",
       "      <td>1.56</td>\n",
       "      <td>17597.12</td>\n",
       "      <td>1892.05</td>\n",
       "      <td>1928.36</td>\n",
       "      <td>0.00</td>\n",
       "      <td>13776.71</td>\n",
       "      <td>0.0</td>\n",
       "      <td>organic</td>\n",
       "      <td>2018</td>\n",
       "      <td>53</td>\n",
       "    </tr>\n",
       "    <tr>\n",
       "      <th>18243</th>\n",
       "      <td>2018-02-11</td>\n",
       "      <td>1.57</td>\n",
       "      <td>15986.17</td>\n",
       "      <td>1924.28</td>\n",
       "      <td>1368.32</td>\n",
       "      <td>0.00</td>\n",
       "      <td>12693.57</td>\n",
       "      <td>0.0</td>\n",
       "      <td>organic</td>\n",
       "      <td>2018</td>\n",
       "      <td>53</td>\n",
       "    </tr>\n",
       "    <tr>\n",
       "      <th>18244</th>\n",
       "      <td>2018-02-04</td>\n",
       "      <td>1.63</td>\n",
       "      <td>17074.83</td>\n",
       "      <td>2046.96</td>\n",
       "      <td>1529.20</td>\n",
       "      <td>0.00</td>\n",
       "      <td>13498.67</td>\n",
       "      <td>0.0</td>\n",
       "      <td>organic</td>\n",
       "      <td>2018</td>\n",
       "      <td>53</td>\n",
       "    </tr>\n",
       "    <tr>\n",
       "      <th>18245</th>\n",
       "      <td>2018-01-28</td>\n",
       "      <td>1.71</td>\n",
       "      <td>13888.04</td>\n",
       "      <td>1191.70</td>\n",
       "      <td>3431.50</td>\n",
       "      <td>0.00</td>\n",
       "      <td>9264.84</td>\n",
       "      <td>0.0</td>\n",
       "      <td>organic</td>\n",
       "      <td>2018</td>\n",
       "      <td>53</td>\n",
       "    </tr>\n",
       "    <tr>\n",
       "      <th>18246</th>\n",
       "      <td>2018-01-21</td>\n",
       "      <td>1.87</td>\n",
       "      <td>13766.76</td>\n",
       "      <td>1191.92</td>\n",
       "      <td>2452.79</td>\n",
       "      <td>727.94</td>\n",
       "      <td>9394.11</td>\n",
       "      <td>0.0</td>\n",
       "      <td>organic</td>\n",
       "      <td>2018</td>\n",
       "      <td>53</td>\n",
       "    </tr>\n",
       "    <tr>\n",
       "      <th>18247</th>\n",
       "      <td>2018-01-14</td>\n",
       "      <td>1.93</td>\n",
       "      <td>16205.22</td>\n",
       "      <td>1527.63</td>\n",
       "      <td>2981.04</td>\n",
       "      <td>727.01</td>\n",
       "      <td>10969.54</td>\n",
       "      <td>0.0</td>\n",
       "      <td>organic</td>\n",
       "      <td>2018</td>\n",
       "      <td>53</td>\n",
       "    </tr>\n",
       "    <tr>\n",
       "      <th>18248</th>\n",
       "      <td>2018-01-07</td>\n",
       "      <td>1.62</td>\n",
       "      <td>17489.58</td>\n",
       "      <td>2894.77</td>\n",
       "      <td>2356.13</td>\n",
       "      <td>224.53</td>\n",
       "      <td>12014.15</td>\n",
       "      <td>0.0</td>\n",
       "      <td>organic</td>\n",
       "      <td>2018</td>\n",
       "      <td>53</td>\n",
       "    </tr>\n",
       "  </tbody>\n",
       "</table>\n",
       "</div>"
      ],
      "text/plain": [
       "            Date  AveragePrice  Total Volume  PLU_4046  PLU_4225  PLU_4770  \\\n",
       "18239 2018-03-11          1.56      22128.42   2162.67   3194.25      8.93   \n",
       "18240 2018-03-04          1.54      17393.30   1832.24   1905.57      0.00   \n",
       "18241 2018-02-25          1.57      18421.24   1974.26   2482.65      0.00   \n",
       "18242 2018-02-18          1.56      17597.12   1892.05   1928.36      0.00   \n",
       "18243 2018-02-11          1.57      15986.17   1924.28   1368.32      0.00   \n",
       "18244 2018-02-04          1.63      17074.83   2046.96   1529.20      0.00   \n",
       "18245 2018-01-28          1.71      13888.04   1191.70   3431.50      0.00   \n",
       "18246 2018-01-21          1.87      13766.76   1191.92   2452.79    727.94   \n",
       "18247 2018-01-14          1.93      16205.22   1527.63   2981.04    727.01   \n",
       "18248 2018-01-07          1.62      17489.58   2894.77   2356.13    224.53   \n",
       "\n",
       "       Total Bags  XLarge Bags     type  year  region  \n",
       "18239    16762.57          0.0  organic  2018      53  \n",
       "18240    13655.49          0.0  organic  2018      53  \n",
       "18241    13964.33          0.0  organic  2018      53  \n",
       "18242    13776.71          0.0  organic  2018      53  \n",
       "18243    12693.57          0.0  organic  2018      53  \n",
       "18244    13498.67          0.0  organic  2018      53  \n",
       "18245     9264.84          0.0  organic  2018      53  \n",
       "18246     9394.11          0.0  organic  2018      53  \n",
       "18247    10969.54          0.0  organic  2018      53  \n",
       "18248    12014.15          0.0  organic  2018      53  "
      ]
     },
     "execution_count": 34,
     "metadata": {},
     "output_type": "execute_result"
    }
   ],
   "source": [
    "avocado_ds.tail(10)"
   ]
  },
  {
   "cell_type": "code",
   "execution_count": 35,
   "metadata": {
    "id": "UiJDNjwk1SXq"
   },
   "outputs": [
    {
     "name": "stdout",
     "output_type": "stream",
     "text": [
      "0.028001534330648226  data we lost after outlier treatment\n"
     ]
    }
   ],
   "source": [
    "# Treating the outlier with zscore and delete the date and year columns, i kept it for EDA purpose.\n",
    "avocado_ds.drop(columns=[\"Date\",\"year\",\"type\"],axis = 1,inplace = True)\n",
    "\n",
    "score = np.abs(zscore(avocado_ds))\n",
    "\n",
    "new_avocado_ds = avocado_ds[(score <3).all(axis = 1)]\n",
    "\n",
    "# how much data lost post outlier treamement\n",
    "\n",
    "data_loss = len(new_avocado_ds)/len(avocado_ds)\n",
    "print(1- data_loss,\" data we lost after outlier treatment\")"
   ]
  },
  {
   "cell_type": "markdown",
   "metadata": {},
   "source": [
    "we have corrected the outlier using the z score and seen that we have lost 4.5% data approx and it seem ok to lose."
   ]
  },
  {
   "cell_type": "code",
   "execution_count": 36,
   "metadata": {
    "scrolled": false
   },
   "outputs": [
    {
     "name": "stdout",
     "output_type": "stream",
     "text": [
      "before PLU_4046       4.628222\n",
      "PLU_4225       4.262080\n",
      "PLU_4770       4.919251\n",
      "XLarge Bags    6.063918\n",
      "dtype: float64\n",
      "after 0   -0.037857\n",
      "1   -0.044224\n",
      "2    0.022830\n",
      "3    0.839903\n",
      "dtype: float64\n"
     ]
    }
   ],
   "source": [
    "from sklearn.preprocessing import power_transform\n",
    "select_data =new_avocado_ds[[\"PLU_4046\",\"PLU_4225\",\"PLU_4770\",\"XLarge Bags\"]]\n",
    "\n",
    "print(\"before\",select_data.skew())\n",
    "select_data = power_transform(select_data,method='yeo-johnson', standardize=False)\n",
    "tranform_data = pd.DataFrame(select_data)\n",
    "print(\"after\",tranform_data.skew())"
   ]
  },
  {
   "cell_type": "code",
   "execution_count": 37,
   "metadata": {},
   "outputs": [],
   "source": [
    "# checking the name of the columsn becaue after power_transform it get convert into numpy array and index value assigned to columns.\n",
    "tranform_data.rename(columns = {0:\"trans_PLU_4046\",1:\"trans_PLU_4225\",2:\"trans_PLU_4770\",3:\"trans_Xlarge Bags\"}, inplace = True)\n",
    "# joining transformed data \n",
    "\n",
    "new_avocado_ds = pd.concat([new_avocado_ds,tranform_data],axis = 1,join = \"inner\")\n",
    "\n",
    "# since transformed features are added in the data so we need to deleted original one to avoid duplicacy\n",
    "new_avocado_ds.drop(columns =[\"PLU_4046\",\"PLU_4225\",\"PLU_4770\",\"XLarge Bags\"],axis =1, inplace =True)\n"
   ]
  },
  {
   "cell_type": "code",
   "execution_count": 38,
   "metadata": {
    "scrolled": true
   },
   "outputs": [
    {
     "data": {
      "text/plain": [
       "AveragePrice         0.402183\n",
       "Total Volume         3.697542\n",
       "Total Bags           4.479318\n",
       "region               0.021079\n",
       "trans_PLU_4046      -0.019568\n",
       "trans_PLU_4225      -0.035632\n",
       "trans_PLU_4770       0.030491\n",
       "trans_Xlarge Bags    0.870667\n",
       "dtype: float64"
      ]
     },
     "execution_count": 38,
     "metadata": {},
     "output_type": "execute_result"
    }
   ],
   "source": [
    "new_avocado_ds.skew()"
   ]
  },
  {
   "cell_type": "code",
   "execution_count": 39,
   "metadata": {},
   "outputs": [],
   "source": [
    "new_avocado_ds[\"Total Volume\"] = np.log1p(new_avocado_ds[\"Total Volume\"])\n",
    "new_avocado_ds[\"Total Bags\"] = np.log1p(new_avocado_ds[\"Total Bags\"])"
   ]
  },
  {
   "cell_type": "code",
   "execution_count": 40,
   "metadata": {
    "scrolled": true
   },
   "outputs": [
    {
     "data": {
      "text/plain": [
       "AveragePrice         0.402183\n",
       "Total Volume        -0.068264\n",
       "Total Bags          -0.372818\n",
       "region               0.021079\n",
       "trans_PLU_4046      -0.019568\n",
       "trans_PLU_4225      -0.035632\n",
       "trans_PLU_4770       0.030491\n",
       "trans_Xlarge Bags    0.870667\n",
       "dtype: float64"
      ]
     },
     "execution_count": 40,
     "metadata": {},
     "output_type": "execute_result"
    }
   ],
   "source": [
    "new_avocado_ds.skew()"
   ]
  },
  {
   "cell_type": "markdown",
   "metadata": {},
   "source": [
    "we had skewness in a few of the features in the dataset and which has been corrected by using power transform and two columns have been corrected by using log1p because while performing power transform on these two feature these were not getting conveted. Power transform return result in the form of array hence we had to rename the columns name after converting them into pandas data Frame.<br>\n",
    "We took features serprataly which had high skewness and assigned them in other variable. performed power transform and concat  the transformed features into  original dataset by using pandas function."
   ]
  },
  {
   "cell_type": "code",
   "execution_count": 57,
   "metadata": {
    "id": "bEmRK4fKgPxS"
   },
   "outputs": [
    {
     "data": {
      "text/plain": [
       "<AxesSubplot:>"
      ]
     },
     "execution_count": 57,
     "metadata": {},
     "output_type": "execute_result"
    },
    {
     "data": {
      "image/png": "[encoded data removed]",
      "text/plain": [
       "<Figure size 864x432 with 2 Axes>"
      ]
     },
     "metadata": {
      "needs_background": "light"
     },
     "output_type": "display_data"
    }
   ],
   "source": [
    "plt.figure(figsize=(12,6))\n",
    "sns.heatmap(new_avocado_ds.corr(),annot = True,cmap = 'Reds')"
   ]
  },
  {
   "cell_type": "markdown",
   "metadata": {
    "id": "uEWx97cCjoXB"
   },
   "source": [
    "Total Volume and Total bags are highly correlated and we should drop one.\n"
   ]
  },
  {
   "cell_type": "code",
   "execution_count": 42,
   "metadata": {},
   "outputs": [],
   "source": [
    "new_avocado_dsX_check = new_avocado_ds.copy()\n"
   ]
  },
  {
   "cell_type": "code",
   "execution_count": 43,
   "metadata": {},
   "outputs": [],
   "source": [
    "new_avocado_ds.drop(\"Total Bags\",axis =1, inplace = True)"
   ]
  },
  {
   "cell_type": "code",
   "execution_count": 58,
   "metadata": {},
   "outputs": [
    {
     "data": {
      "text/plain": [
       "<AxesSubplot:>"
      ]
     },
     "execution_count": 58,
     "metadata": {},
     "output_type": "execute_result"
    },
    {
     "data": {
      "image/png": "[encoded data removed]",
      "text/plain": [
       "<Figure size 864x432 with 2 Axes>"
      ]
     },
     "metadata": {
      "needs_background": "light"
     },
     "output_type": "display_data"
    }
   ],
   "source": [
    "plt.figure(figsize=(12,6))\n",
    "sns.heatmap(new_avocado_ds.corr(),annot = True,cmap = 'Reds')"
   ]
  },
  {
   "cell_type": "markdown",
   "metadata": {},
   "source": [
    "# Data is ready for \"Modeling\""
   ]
  },
  {
   "cell_type": "code",
   "execution_count": 45,
   "metadata": {},
   "outputs": [
    {
     "name": "stdout",
     "output_type": "stream",
     "text": [
      "Training_score 0.3603600789277399 Random_state 50\n",
      "test_score 0.36175744761978723\n",
      "Mean_squared_error 0.09789300571189162\n",
      "R2_scoe 0.36175744761978723 \n",
      "\n",
      "Training_score 0.35696449665586827 Random_state 125\n",
      "test_score 0.3757026092970025\n",
      "Mean_squared_error 0.09365963696151895\n",
      "R2_scoe 0.3757026092970025 \n",
      "\n",
      "Training_score 0.3551452666701044 Random_state 200\n",
      "test_score 0.3823646110063498\n",
      "Mean_squared_error 0.09491765092945283\n",
      "R2_scoe 0.3823646110063498 \n",
      "\n",
      "Training_score 0.3601877664503592 Random_state 275\n",
      "test_score 0.36266836705641026\n",
      "Mean_squared_error 0.09621805005387336\n",
      "R2_scoe 0.36266836705641026 \n",
      "\n",
      "Training_score 0.36438336699173446 Random_state 350\n",
      "test_score 0.3455119087983668\n",
      "Mean_squared_error 0.09896125448615331\n",
      "R2_scoe 0.3455119087983668 \n",
      "\n",
      "Training_score 0.36270719885066116 Random_state 425\n",
      "test_score 0.3519952955082648\n",
      "Mean_squared_error 0.09699691835945794\n",
      "R2_scoe 0.3519952955082648 \n",
      "\n"
     ]
    }
   ],
   "source": [
    "# seprate data into train and test and create model\n",
    "\n",
    "X = new_avocado_ds.drop(\"AveragePrice\",axis =1)\n",
    "y =new_avocado_ds[\"AveragePrice\"]\n",
    "\n",
    "# Applying standard scaler to scale the data point.\n",
    "\n",
    "sc = StandardScaler()\n",
    "X = sc.fit_transform(X)\n",
    "\n",
    "\n",
    "# we will find best random state wit this for loop.\n",
    "for i in range(50,500,75):\n",
    "    LR = LinearRegression()\n",
    "    X_train,X_test,y_train,y_test = train_test_split(X,y,test_size = 0.2, random_state =i)\n",
    "    LR.fit(X_train,y_train)\n",
    "    print(\"Training_score\",LR.score(X_train,y_train),\"Random_state\",i)\n",
    "    pred = LR.predict(X_test)\n",
    "    print(\"test_score\",LR.score(X_test,y_test))\n",
    "    print(\"Mean_squared_error\",mean_squared_error(y_test,pred))\n",
    "    print(\"R2_scoe\",r2_score(y_test,pred),\"\\n\")\n",
    "    \n",
    "\n"
   ]
  },
  {
   "cell_type": "code",
   "execution_count": 46,
   "metadata": {},
   "outputs": [
    {
     "name": "stdout",
     "output_type": "stream",
     "text": [
      "Training_score 0.9728773182098372 Random_state 50\n",
      "test_score 0.8131146389438586\n",
      "Mean_squared_error 0.02866429016540917\n",
      "R2_scoe 0.8131146389438586 \n",
      "\n",
      "Training_score 0.9736550859226598 Random_state 100\n",
      "test_score 0.8028686359914272\n",
      "Mean_squared_error 0.029313987202553685\n",
      "R2_scoe 0.8028686359914272 \n",
      "\n",
      "Training_score 0.9727339492200004 Random_state 150\n",
      "test_score 0.8088218449718747\n",
      "Mean_squared_error 0.02891624529889727\n",
      "R2_scoe 0.8088218449718747 \n",
      "\n",
      "Training_score 0.9732853451214518 Random_state 200\n",
      "test_score 0.8034880534294764\n",
      "Mean_squared_error 0.030199779158444573\n",
      "R2_scoe 0.8034880534294764 \n",
      "\n",
      "Training_score 0.9727706324551476 Random_state 250\n",
      "test_score 0.8090239445287766\n",
      "Mean_squared_error 0.0302137821125943\n",
      "R2_scoe 0.8090239445287766 \n",
      "\n",
      "Training_score 0.9728451618712965 Random_state 300\n",
      "test_score 0.8032231371559331\n",
      "Mean_squared_error 0.03022807206616367\n",
      "R2_scoe 0.8032231371559331 \n",
      "\n",
      "Training_score 0.9730031012514273 Random_state 350\n",
      "test_score 0.8080148691483318\n",
      "Mean_squared_error 0.02902893062100986\n",
      "R2_scoe 0.8080148691483318 \n",
      "\n",
      "Training_score 0.9728955835225055 Random_state 400\n",
      "test_score 0.8156768952755548\n",
      "Mean_squared_error 0.028648413882762618\n",
      "R2_scoe 0.8156768952755548 \n",
      "\n",
      "Training_score 0.9729797119454411 Random_state 450\n",
      "test_score 0.8078093918719929\n",
      "Mean_squared_error 0.02911241440800929\n",
      "R2_scoe 0.8078093918719929 \n",
      "\n"
     ]
    }
   ],
   "source": [
    "# testing\n",
    "for i in range(50,500,50):\n",
    "    RF = RandomForestRegressor()\n",
    "    X_train,X_test,y_train,y_test = train_test_split(X,y,test_size = 0.2, random_state =i)\n",
    "    RF.fit(X_train,y_train)\n",
    "    print(\"Training_score\",RF.score(X_train,y_train),\"Random_state\",i)\n",
    "    pred = RF.predict(X_test)\n",
    "    print(\"test_score\",RF.score(X_test,y_test))\n",
    "    print(\"Mean_squared_error\",mean_squared_error(y_test,pred))\n",
    "    print(\"R2_scoe\",r2_score(y_test,pred),\"\\n\")"
   ]
  },
  {
   "cell_type": "code",
   "execution_count": 47,
   "metadata": {},
   "outputs": [
    {
     "name": "stdout",
     "output_type": "stream",
     "text": [
      "Training_score 0.9726641420309038 Random_state 50\n",
      "test_score 0.8120276834669482\n",
      "Mean_squared_error 0.028831006311665703\n",
      "R2_scoe 0.8120276834669482 \n",
      "\n",
      "Training_score 0.9735359638230869 Random_state 100\n",
      "test_score 0.8056664697916248\n",
      "Mean_squared_error 0.028897941462565295\n",
      "R2_scoe 0.8056664697916248 \n",
      "\n",
      "Training_score 0.9727882008259403 Random_state 150\n",
      "test_score 0.808170896234093\n",
      "Mean_squared_error 0.02901470316598955\n",
      "R2_scoe 0.808170896234093 \n",
      "\n",
      "Training_score 0.9733135264822845 Random_state 200\n",
      "test_score 0.8061694838283862\n",
      "Mean_squared_error 0.029787699347069055\n",
      "R2_scoe 0.8061694838283862 \n",
      "\n",
      "Training_score 0.9729343895231085 Random_state 250\n",
      "test_score 0.8095780421194727\n",
      "Mean_squared_error 0.030126119898432956\n",
      "R2_scoe 0.8095780421194727 \n",
      "\n",
      "Training_score 0.9724593152391996 Random_state 300\n",
      "test_score 0.8047780808493405\n",
      "Mean_squared_error 0.02998920785548462\n",
      "R2_scoe 0.8047780808493405 \n",
      "\n",
      "Training_score 0.9731945341714109 Random_state 350\n",
      "test_score 0.8096005385484468\n",
      "Mean_squared_error 0.02878917097504352\n",
      "R2_scoe 0.8096005385484468 \n",
      "\n",
      "Training_score 0.972838346295601 Random_state 400\n",
      "test_score 0.8135745114601924\n",
      "Mean_squared_error 0.028975176834010442\n",
      "R2_scoe 0.8135745114601924 \n",
      "\n",
      "Training_score 0.9726707950293914 Random_state 450\n",
      "test_score 0.8065413629255073\n",
      "Mean_squared_error 0.029304491349390595\n",
      "R2_scoe 0.8065413629255073 \n",
      "\n"
     ]
    }
   ],
   "source": [
    "for i in range(50,500,50):\n",
    "    RF = RandomForestRegressor()\n",
    "    X_train,X_test,y_train,y_test = train_test_split(X,y,test_size = 0.2, random_state =i)\n",
    "    RF.fit(X_train,y_train)\n",
    "    print(\"Training_score\",RF.score(X_train,y_train),\"Random_state\",i)\n",
    "    pred = RF.predict(X_test)\n",
    "    print(\"test_score\",RF.score(X_test,y_test))\n",
    "    print(\"Mean_squared_error\",mean_squared_error(y_test,pred))\n",
    "    print(\"R2_scoe\",r2_score(y_test,pred),\"\\n\")"
   ]
  },
  {
   "cell_type": "markdown",
   "metadata": {},
   "source": [
    "we have check two algorithm for checking the best random stats. linear regression didnt work well so i tried Randomforest, it is giving somewhat good test score and found best random state.so we will used other model with that randomforest "
   ]
  },
  {
   "cell_type": "code",
   "execution_count": 48,
   "metadata": {},
   "outputs": [
    {
     "name": "stdout",
     "output_type": "stream",
     "text": [
      "Training_score 0.3594323722035345 Algorithm LinearRegression()\n",
      "test_score 0.3656355574751615\n",
      "Mean_squared_error 0.09609148291048902\n",
      "R2_scoe 0.3656355574751615 \n",
      "\n",
      "Training_score 0.3594323696641841 Algorithm Ridge()\n",
      "test_score 0.365633514516161\n",
      "Mean_squared_error 0.09609179237133948\n",
      "R2_scoe 0.365633514516161 \n",
      "\n",
      "Training_score 0.0 Algorithm Lasso()\n",
      "test_score -4.5272832748022296e-05\n",
      "Mean_squared_error 0.15148363748392268\n",
      "R2_scoe -4.5272832748022296e-05 \n",
      "\n",
      "Training_score 0.9729851188753336 Algorithm RandomForestRegressor()\n",
      "test_score 0.8057570643417229\n",
      "Mean_squared_error 0.029423294373186307\n",
      "R2_scoe 0.8057570643417229 \n",
      "\n",
      "Training_score 0.3919973634904427 Algorithm AdaBoostRegressor()\n",
      "test_score 0.39208030071729827\n",
      "Mean_squared_error 0.0920857183641501\n",
      "R2_scoe 0.39208030071729827 \n",
      "\n",
      "Training_score 1.0 Algorithm DecisionTreeRegressor()\n",
      "test_score 0.6370660948325877\n",
      "Mean_squared_error 0.054976059199071385\n",
      "R2_scoe 0.6370660948325877 \n",
      "\n",
      "Training_score 0.49680902983273467 Algorithm SVR()\n",
      "test_score 0.47924361709668784\n",
      "Mean_squared_error 0.07888249989093986\n",
      "R2_scoe 0.47924361709668784 \n",
      "\n",
      "Training_score 0.835976504114995 Algorithm KNeighborsRegressor()\n",
      "test_score 0.7383135650597887\n",
      "Mean_squared_error 0.03963941845618108\n",
      "R2_scoe 0.7383135650597887 \n",
      "\n"
     ]
    }
   ],
   "source": [
    "models = [LinearRegression(),Ridge(),Lasso(),RandomForestRegressor(),AdaBoostRegressor(),DecisionTreeRegressor(),SVR(),KNeighborsRegressor()]\n",
    "\n",
    "for model in models:\n",
    "    X_train1,X_test1,y_train1,y_test1 = train_test_split(X,y,test_size = 0.2, random_state =450)\n",
    "    model.fit(X_train,y_train)\n",
    "    print(\"Training_score\",model.score(X_train,y_train),\"Algorithm\",model)\n",
    "    pred = model.predict(X_test)\n",
    "    print(\"test_score\",model.score(X_test,y_test))\n",
    "    print(\"Mean_squared_error\",mean_squared_error(y_test,pred))\n",
    "    print(\"R2_scoe\",r2_score(y_test,pred),\"\\n\")"
   ]
  },
  {
   "cell_type": "markdown",
   "metadata": {},
   "source": [
    "KNN is giving best score on trainin as well test so i am selecting it for final model and applying GridSearchCV. Randomforest is kind of overfit model."
   ]
  },
  {
   "cell_type": "code",
   "execution_count": 49,
   "metadata": {},
   "outputs": [
    {
     "name": "stdout",
     "output_type": "stream",
     "text": [
      "Fitting 5 folds for each of 36 candidates, totalling 180 fits\n"
     ]
    },
    {
     "name": "stderr",
     "output_type": "stream",
     "text": [
      "C:\\Users\\GURST\\anaconda3\\lib\\site-packages\\sklearn\\ensemble\\_forest.py:416: FutureWarning: `max_features='auto'` has been deprecated in 1.1 and will be removed in 1.3. To keep the past behaviour, explicitly set `max_features=1.0` or remove this parameter as it is also the default value for RandomForestRegressors and ExtraTreesRegressors.\n",
      "  warn(\n"
     ]
    },
    {
     "name": "stdout",
     "output_type": "stream",
     "text": [
      "{'max_depth': 5, 'max_features': 'auto', 'n_estimators': 300}\n"
     ]
    }
   ],
   "source": [
    "RF = RandomForestRegressor()\n",
    "para = {\"n_estimators\":[100,200,300],\n",
    "       \"max_depth\":[2,3,4,5],\n",
    "       \"max_features\":[\"auto\", \"sqrt\", \"log2\"]}\n",
    "\n",
    "grid_search_RF = GridSearchCV(RF,para,scoring=\"r2\",cv = 5, n_jobs = -1, verbose =2)\n",
    "grid_search_RF.fit(X_train1,y_train1)\n",
    "print(grid_search_RF.best_params_)"
   ]
  },
  {
   "cell_type": "code",
   "execution_count": 50,
   "metadata": {},
   "outputs": [
    {
     "data": {
      "text/plain": [
       "0.5078205431055814"
      ]
     },
     "execution_count": 50,
     "metadata": {},
     "output_type": "execute_result"
    }
   ],
   "source": [
    "grid_search_RF.best_score_"
   ]
  },
  {
   "cell_type": "code",
   "execution_count": 51,
   "metadata": {
    "scrolled": true
   },
   "outputs": [
    {
     "name": "stdout",
     "output_type": "stream",
     "text": [
      "Fitting 5 folds for each of 64 candidates, totalling 320 fits\n",
      "{'algorithm': 'auto', 'n_neighbors': 5, 'p': 1, 'weights': 'distance'}\n"
     ]
    }
   ],
   "source": [
    "knn = KNeighborsRegressor()\n",
    "grid_para = {\"n_neighbors\":[5,7,10,12],\n",
    "            \"weights\":[\"uniform\", \"distance\"],\n",
    "            \"algorithm\" :[\"auto\", \"ball_tree\", \"kd_tree\", \"brute\"],\n",
    "            \"p\" :[1,2]}\n",
    "grid_search_KNN = GridSearchCV(knn,grid_para,scoring=\"r2\",cv = 5, n_jobs = -1, verbose =2)\n",
    "grid_search_KNN.fit(X_train1,y_train1)\n",
    "print(grid_search_KNN.best_params_)"
   ]
  },
  {
   "cell_type": "code",
   "execution_count": 52,
   "metadata": {},
   "outputs": [
    {
     "data": {
      "text/plain": [
       "0.7604882888957685"
      ]
     },
     "execution_count": 52,
     "metadata": {},
     "output_type": "execute_result"
    }
   ],
   "source": [
    "grid_search_KNN.best_score_"
   ]
  },
  {
   "cell_type": "markdown",
   "metadata": {},
   "source": [
    "we have got the best parameter through Grid Search CV, appying cross_val_score"
   ]
  },
  {
   "cell_type": "code",
   "execution_count": 53,
   "metadata": {
    "scrolled": true
   },
   "outputs": [
    {
     "name": "stderr",
     "output_type": "stream",
     "text": [
      "C:\\Users\\GURST\\anaconda3\\lib\\site-packages\\sklearn\\ensemble\\_forest.py:416: FutureWarning: `max_features='auto'` has been deprecated in 1.1 and will be removed in 1.3. To keep the past behaviour, explicitly set `max_features=1.0` or remove this parameter as it is also the default value for RandomForestRegressors and ExtraTreesRegressors.\n",
      "  warn(\n",
      "C:\\Users\\GURST\\anaconda3\\lib\\site-packages\\sklearn\\ensemble\\_forest.py:416: FutureWarning: `max_features='auto'` has been deprecated in 1.1 and will be removed in 1.3. To keep the past behaviour, explicitly set `max_features=1.0` or remove this parameter as it is also the default value for RandomForestRegressors and ExtraTreesRegressors.\n",
      "  warn(\n"
     ]
    },
    {
     "name": "stdout",
     "output_type": "stream",
     "text": [
      "At 2 mean is  -0.22900506318463287 and the SD is  0.04318284716924638\n"
     ]
    },
    {
     "name": "stderr",
     "output_type": "stream",
     "text": [
      "C:\\Users\\GURST\\anaconda3\\lib\\site-packages\\sklearn\\ensemble\\_forest.py:416: FutureWarning: `max_features='auto'` has been deprecated in 1.1 and will be removed in 1.3. To keep the past behaviour, explicitly set `max_features=1.0` or remove this parameter as it is also the default value for RandomForestRegressors and ExtraTreesRegressors.\n",
      "  warn(\n",
      "C:\\Users\\GURST\\anaconda3\\lib\\site-packages\\sklearn\\ensemble\\_forest.py:416: FutureWarning: `max_features='auto'` has been deprecated in 1.1 and will be removed in 1.3. To keep the past behaviour, explicitly set `max_features=1.0` or remove this parameter as it is also the default value for RandomForestRegressors and ExtraTreesRegressors.\n",
      "  warn(\n",
      "C:\\Users\\GURST\\anaconda3\\lib\\site-packages\\sklearn\\ensemble\\_forest.py:416: FutureWarning: `max_features='auto'` has been deprecated in 1.1 and will be removed in 1.3. To keep the past behaviour, explicitly set `max_features=1.0` or remove this parameter as it is also the default value for RandomForestRegressors and ExtraTreesRegressors.\n",
      "  warn(\n"
     ]
    },
    {
     "name": "stdout",
     "output_type": "stream",
     "text": [
      "At 3 mean is  -0.11131265480148227 and the SD is  0.028368019254949268\n"
     ]
    },
    {
     "name": "stderr",
     "output_type": "stream",
     "text": [
      "C:\\Users\\GURST\\anaconda3\\lib\\site-packages\\sklearn\\ensemble\\_forest.py:416: FutureWarning: `max_features='auto'` has been deprecated in 1.1 and will be removed in 1.3. To keep the past behaviour, explicitly set `max_features=1.0` or remove this parameter as it is also the default value for RandomForestRegressors and ExtraTreesRegressors.\n",
      "  warn(\n",
      "C:\\Users\\GURST\\anaconda3\\lib\\site-packages\\sklearn\\ensemble\\_forest.py:416: FutureWarning: `max_features='auto'` has been deprecated in 1.1 and will be removed in 1.3. To keep the past behaviour, explicitly set `max_features=1.0` or remove this parameter as it is also the default value for RandomForestRegressors and ExtraTreesRegressors.\n",
      "  warn(\n",
      "C:\\Users\\GURST\\anaconda3\\lib\\site-packages\\sklearn\\ensemble\\_forest.py:416: FutureWarning: `max_features='auto'` has been deprecated in 1.1 and will be removed in 1.3. To keep the past behaviour, explicitly set `max_features=1.0` or remove this parameter as it is also the default value for RandomForestRegressors and ExtraTreesRegressors.\n",
      "  warn(\n",
      "C:\\Users\\GURST\\anaconda3\\lib\\site-packages\\sklearn\\ensemble\\_forest.py:416: FutureWarning: `max_features='auto'` has been deprecated in 1.1 and will be removed in 1.3. To keep the past behaviour, explicitly set `max_features=1.0` or remove this parameter as it is also the default value for RandomForestRegressors and ExtraTreesRegressors.\n",
      "  warn(\n"
     ]
    },
    {
     "name": "stdout",
     "output_type": "stream",
     "text": [
      "At 4 mean is  -0.10698271510825866 and the SD is  0.03036837791690765\n"
     ]
    },
    {
     "name": "stderr",
     "output_type": "stream",
     "text": [
      "C:\\Users\\GURST\\anaconda3\\lib\\site-packages\\sklearn\\ensemble\\_forest.py:416: FutureWarning: `max_features='auto'` has been deprecated in 1.1 and will be removed in 1.3. To keep the past behaviour, explicitly set `max_features=1.0` or remove this parameter as it is also the default value for RandomForestRegressors and ExtraTreesRegressors.\n",
      "  warn(\n",
      "C:\\Users\\GURST\\anaconda3\\lib\\site-packages\\sklearn\\ensemble\\_forest.py:416: FutureWarning: `max_features='auto'` has been deprecated in 1.1 and will be removed in 1.3. To keep the past behaviour, explicitly set `max_features=1.0` or remove this parameter as it is also the default value for RandomForestRegressors and ExtraTreesRegressors.\n",
      "  warn(\n",
      "C:\\Users\\GURST\\anaconda3\\lib\\site-packages\\sklearn\\ensemble\\_forest.py:416: FutureWarning: `max_features='auto'` has been deprecated in 1.1 and will be removed in 1.3. To keep the past behaviour, explicitly set `max_features=1.0` or remove this parameter as it is also the default value for RandomForestRegressors and ExtraTreesRegressors.\n",
      "  warn(\n",
      "C:\\Users\\GURST\\anaconda3\\lib\\site-packages\\sklearn\\ensemble\\_forest.py:416: FutureWarning: `max_features='auto'` has been deprecated in 1.1 and will be removed in 1.3. To keep the past behaviour, explicitly set `max_features=1.0` or remove this parameter as it is also the default value for RandomForestRegressors and ExtraTreesRegressors.\n",
      "  warn(\n",
      "C:\\Users\\GURST\\anaconda3\\lib\\site-packages\\sklearn\\ensemble\\_forest.py:416: FutureWarning: `max_features='auto'` has been deprecated in 1.1 and will be removed in 1.3. To keep the past behaviour, explicitly set `max_features=1.0` or remove this parameter as it is also the default value for RandomForestRegressors and ExtraTreesRegressors.\n",
      "  warn(\n"
     ]
    },
    {
     "name": "stdout",
     "output_type": "stream",
     "text": [
      "At 5 mean is  -0.1015246204226139 and the SD is  0.03143552400635198\n"
     ]
    },
    {
     "name": "stderr",
     "output_type": "stream",
     "text": [
      "C:\\Users\\GURST\\anaconda3\\lib\\site-packages\\sklearn\\ensemble\\_forest.py:416: FutureWarning: `max_features='auto'` has been deprecated in 1.1 and will be removed in 1.3. To keep the past behaviour, explicitly set `max_features=1.0` or remove this parameter as it is also the default value for RandomForestRegressors and ExtraTreesRegressors.\n",
      "  warn(\n",
      "C:\\Users\\GURST\\anaconda3\\lib\\site-packages\\sklearn\\ensemble\\_forest.py:416: FutureWarning: `max_features='auto'` has been deprecated in 1.1 and will be removed in 1.3. To keep the past behaviour, explicitly set `max_features=1.0` or remove this parameter as it is also the default value for RandomForestRegressors and ExtraTreesRegressors.\n",
      "  warn(\n",
      "C:\\Users\\GURST\\anaconda3\\lib\\site-packages\\sklearn\\ensemble\\_forest.py:416: FutureWarning: `max_features='auto'` has been deprecated in 1.1 and will be removed in 1.3. To keep the past behaviour, explicitly set `max_features=1.0` or remove this parameter as it is also the default value for RandomForestRegressors and ExtraTreesRegressors.\n",
      "  warn(\n",
      "C:\\Users\\GURST\\anaconda3\\lib\\site-packages\\sklearn\\ensemble\\_forest.py:416: FutureWarning: `max_features='auto'` has been deprecated in 1.1 and will be removed in 1.3. To keep the past behaviour, explicitly set `max_features=1.0` or remove this parameter as it is also the default value for RandomForestRegressors and ExtraTreesRegressors.\n",
      "  warn(\n",
      "C:\\Users\\GURST\\anaconda3\\lib\\site-packages\\sklearn\\ensemble\\_forest.py:416: FutureWarning: `max_features='auto'` has been deprecated in 1.1 and will be removed in 1.3. To keep the past behaviour, explicitly set `max_features=1.0` or remove this parameter as it is also the default value for RandomForestRegressors and ExtraTreesRegressors.\n",
      "  warn(\n",
      "C:\\Users\\GURST\\anaconda3\\lib\\site-packages\\sklearn\\ensemble\\_forest.py:416: FutureWarning: `max_features='auto'` has been deprecated in 1.1 and will be removed in 1.3. To keep the past behaviour, explicitly set `max_features=1.0` or remove this parameter as it is also the default value for RandomForestRegressors and ExtraTreesRegressors.\n",
      "  warn(\n"
     ]
    },
    {
     "name": "stdout",
     "output_type": "stream",
     "text": [
      "At 6 mean is  -0.09814509823969146 and the SD is  0.04091011192115481\n"
     ]
    },
    {
     "name": "stderr",
     "output_type": "stream",
     "text": [
      "C:\\Users\\GURST\\anaconda3\\lib\\site-packages\\sklearn\\ensemble\\_forest.py:416: FutureWarning: `max_features='auto'` has been deprecated in 1.1 and will be removed in 1.3. To keep the past behaviour, explicitly set `max_features=1.0` or remove this parameter as it is also the default value for RandomForestRegressors and ExtraTreesRegressors.\n",
      "  warn(\n",
      "C:\\Users\\GURST\\anaconda3\\lib\\site-packages\\sklearn\\ensemble\\_forest.py:416: FutureWarning: `max_features='auto'` has been deprecated in 1.1 and will be removed in 1.3. To keep the past behaviour, explicitly set `max_features=1.0` or remove this parameter as it is also the default value for RandomForestRegressors and ExtraTreesRegressors.\n",
      "  warn(\n",
      "C:\\Users\\GURST\\anaconda3\\lib\\site-packages\\sklearn\\ensemble\\_forest.py:416: FutureWarning: `max_features='auto'` has been deprecated in 1.1 and will be removed in 1.3. To keep the past behaviour, explicitly set `max_features=1.0` or remove this parameter as it is also the default value for RandomForestRegressors and ExtraTreesRegressors.\n",
      "  warn(\n",
      "C:\\Users\\GURST\\anaconda3\\lib\\site-packages\\sklearn\\ensemble\\_forest.py:416: FutureWarning: `max_features='auto'` has been deprecated in 1.1 and will be removed in 1.3. To keep the past behaviour, explicitly set `max_features=1.0` or remove this parameter as it is also the default value for RandomForestRegressors and ExtraTreesRegressors.\n",
      "  warn(\n",
      "C:\\Users\\GURST\\anaconda3\\lib\\site-packages\\sklearn\\ensemble\\_forest.py:416: FutureWarning: `max_features='auto'` has been deprecated in 1.1 and will be removed in 1.3. To keep the past behaviour, explicitly set `max_features=1.0` or remove this parameter as it is also the default value for RandomForestRegressors and ExtraTreesRegressors.\n",
      "  warn(\n",
      "C:\\Users\\GURST\\anaconda3\\lib\\site-packages\\sklearn\\ensemble\\_forest.py:416: FutureWarning: `max_features='auto'` has been deprecated in 1.1 and will be removed in 1.3. To keep the past behaviour, explicitly set `max_features=1.0` or remove this parameter as it is also the default value for RandomForestRegressors and ExtraTreesRegressors.\n",
      "  warn(\n",
      "C:\\Users\\GURST\\anaconda3\\lib\\site-packages\\sklearn\\ensemble\\_forest.py:416: FutureWarning: `max_features='auto'` has been deprecated in 1.1 and will be removed in 1.3. To keep the past behaviour, explicitly set `max_features=1.0` or remove this parameter as it is also the default value for RandomForestRegressors and ExtraTreesRegressors.\n",
      "  warn(\n"
     ]
    },
    {
     "name": "stdout",
     "output_type": "stream",
     "text": [
      "At 7 mean is  -0.09716011639246767 and the SD is  0.038897223340366535\n"
     ]
    },
    {
     "name": "stderr",
     "output_type": "stream",
     "text": [
      "C:\\Users\\GURST\\anaconda3\\lib\\site-packages\\sklearn\\ensemble\\_forest.py:416: FutureWarning: `max_features='auto'` has been deprecated in 1.1 and will be removed in 1.3. To keep the past behaviour, explicitly set `max_features=1.0` or remove this parameter as it is also the default value for RandomForestRegressors and ExtraTreesRegressors.\n",
      "  warn(\n",
      "C:\\Users\\GURST\\anaconda3\\lib\\site-packages\\sklearn\\ensemble\\_forest.py:416: FutureWarning: `max_features='auto'` has been deprecated in 1.1 and will be removed in 1.3. To keep the past behaviour, explicitly set `max_features=1.0` or remove this parameter as it is also the default value for RandomForestRegressors and ExtraTreesRegressors.\n",
      "  warn(\n",
      "C:\\Users\\GURST\\anaconda3\\lib\\site-packages\\sklearn\\ensemble\\_forest.py:416: FutureWarning: `max_features='auto'` has been deprecated in 1.1 and will be removed in 1.3. To keep the past behaviour, explicitly set `max_features=1.0` or remove this parameter as it is also the default value for RandomForestRegressors and ExtraTreesRegressors.\n",
      "  warn(\n",
      "C:\\Users\\GURST\\anaconda3\\lib\\site-packages\\sklearn\\ensemble\\_forest.py:416: FutureWarning: `max_features='auto'` has been deprecated in 1.1 and will be removed in 1.3. To keep the past behaviour, explicitly set `max_features=1.0` or remove this parameter as it is also the default value for RandomForestRegressors and ExtraTreesRegressors.\n",
      "  warn(\n",
      "C:\\Users\\GURST\\anaconda3\\lib\\site-packages\\sklearn\\ensemble\\_forest.py:416: FutureWarning: `max_features='auto'` has been deprecated in 1.1 and will be removed in 1.3. To keep the past behaviour, explicitly set `max_features=1.0` or remove this parameter as it is also the default value for RandomForestRegressors and ExtraTreesRegressors.\n",
      "  warn(\n",
      "C:\\Users\\GURST\\anaconda3\\lib\\site-packages\\sklearn\\ensemble\\_forest.py:416: FutureWarning: `max_features='auto'` has been deprecated in 1.1 and will be removed in 1.3. To keep the past behaviour, explicitly set `max_features=1.0` or remove this parameter as it is also the default value for RandomForestRegressors and ExtraTreesRegressors.\n",
      "  warn(\n",
      "C:\\Users\\GURST\\anaconda3\\lib\\site-packages\\sklearn\\ensemble\\_forest.py:416: FutureWarning: `max_features='auto'` has been deprecated in 1.1 and will be removed in 1.3. To keep the past behaviour, explicitly set `max_features=1.0` or remove this parameter as it is also the default value for RandomForestRegressors and ExtraTreesRegressors.\n",
      "  warn(\n",
      "C:\\Users\\GURST\\anaconda3\\lib\\site-packages\\sklearn\\ensemble\\_forest.py:416: FutureWarning: `max_features='auto'` has been deprecated in 1.1 and will be removed in 1.3. To keep the past behaviour, explicitly set `max_features=1.0` or remove this parameter as it is also the default value for RandomForestRegressors and ExtraTreesRegressors.\n",
      "  warn(\n"
     ]
    },
    {
     "name": "stdout",
     "output_type": "stream",
     "text": [
      "At 8 mean is  -0.09718574671083001 and the SD is  0.03704829491890314\n"
     ]
    },
    {
     "name": "stderr",
     "output_type": "stream",
     "text": [
      "C:\\Users\\GURST\\anaconda3\\lib\\site-packages\\sklearn\\ensemble\\_forest.py:416: FutureWarning: `max_features='auto'` has been deprecated in 1.1 and will be removed in 1.3. To keep the past behaviour, explicitly set `max_features=1.0` or remove this parameter as it is also the default value for RandomForestRegressors and ExtraTreesRegressors.\n",
      "  warn(\n",
      "C:\\Users\\GURST\\anaconda3\\lib\\site-packages\\sklearn\\ensemble\\_forest.py:416: FutureWarning: `max_features='auto'` has been deprecated in 1.1 and will be removed in 1.3. To keep the past behaviour, explicitly set `max_features=1.0` or remove this parameter as it is also the default value for RandomForestRegressors and ExtraTreesRegressors.\n",
      "  warn(\n",
      "C:\\Users\\GURST\\anaconda3\\lib\\site-packages\\sklearn\\ensemble\\_forest.py:416: FutureWarning: `max_features='auto'` has been deprecated in 1.1 and will be removed in 1.3. To keep the past behaviour, explicitly set `max_features=1.0` or remove this parameter as it is also the default value for RandomForestRegressors and ExtraTreesRegressors.\n",
      "  warn(\n",
      "C:\\Users\\GURST\\anaconda3\\lib\\site-packages\\sklearn\\ensemble\\_forest.py:416: FutureWarning: `max_features='auto'` has been deprecated in 1.1 and will be removed in 1.3. To keep the past behaviour, explicitly set `max_features=1.0` or remove this parameter as it is also the default value for RandomForestRegressors and ExtraTreesRegressors.\n",
      "  warn(\n",
      "C:\\Users\\GURST\\anaconda3\\lib\\site-packages\\sklearn\\ensemble\\_forest.py:416: FutureWarning: `max_features='auto'` has been deprecated in 1.1 and will be removed in 1.3. To keep the past behaviour, explicitly set `max_features=1.0` or remove this parameter as it is also the default value for RandomForestRegressors and ExtraTreesRegressors.\n",
      "  warn(\n",
      "C:\\Users\\GURST\\anaconda3\\lib\\site-packages\\sklearn\\ensemble\\_forest.py:416: FutureWarning: `max_features='auto'` has been deprecated in 1.1 and will be removed in 1.3. To keep the past behaviour, explicitly set `max_features=1.0` or remove this parameter as it is also the default value for RandomForestRegressors and ExtraTreesRegressors.\n",
      "  warn(\n",
      "C:\\Users\\GURST\\anaconda3\\lib\\site-packages\\sklearn\\ensemble\\_forest.py:416: FutureWarning: `max_features='auto'` has been deprecated in 1.1 and will be removed in 1.3. To keep the past behaviour, explicitly set `max_features=1.0` or remove this parameter as it is also the default value for RandomForestRegressors and ExtraTreesRegressors.\n",
      "  warn(\n",
      "C:\\Users\\GURST\\anaconda3\\lib\\site-packages\\sklearn\\ensemble\\_forest.py:416: FutureWarning: `max_features='auto'` has been deprecated in 1.1 and will be removed in 1.3. To keep the past behaviour, explicitly set `max_features=1.0` or remove this parameter as it is also the default value for RandomForestRegressors and ExtraTreesRegressors.\n",
      "  warn(\n",
      "C:\\Users\\GURST\\anaconda3\\lib\\site-packages\\sklearn\\ensemble\\_forest.py:416: FutureWarning: `max_features='auto'` has been deprecated in 1.1 and will be removed in 1.3. To keep the past behaviour, explicitly set `max_features=1.0` or remove this parameter as it is also the default value for RandomForestRegressors and ExtraTreesRegressors.\n",
      "  warn(\n"
     ]
    },
    {
     "name": "stdout",
     "output_type": "stream",
     "text": [
      "At 9 mean is  -0.09796724208741674 and the SD is  0.04139257008309394\n"
     ]
    }
   ],
   "source": [
    "best_RF = RandomForestRegressor(max_depth = 5,max_features=\"auto\",n_estimators =200)\n",
    "\n",
    "for i in range(2,10):\n",
    "    cross_val_report = cross_val_score(best_RF,X,y,scoring = \"neg_mean_squared_error\",cv = i)\n",
    "    print(\"At\",i,\"mean is \",cross_val_report.mean() ,\"and the SD is \",cross_val_report.std())\n"
   ]
  },
  {
   "cell_type": "code",
   "execution_count": 54,
   "metadata": {},
   "outputs": [
    {
     "name": "stdout",
     "output_type": "stream",
     "text": [
      "At 2 mean is  -0.3563191356618137 and the SD is  0.000776502743917773\n",
      "At 3 mean is  -0.13747937660642737 and the SD is  0.022994342846130042\n",
      "At 4 mean is  -0.14527153989423175 and the SD is  0.02710468716638193\n",
      "At 5 mean is  -0.13668055849676414 and the SD is  0.03623319430782806\n",
      "At 6 mean is  -0.1299518005915109 and the SD is  0.04541631819689351\n",
      "At 7 mean is  -0.13032286863452916 and the SD is  0.040633793944686976\n",
      "At 8 mean is  -0.12906784228416518 and the SD is  0.04052784279409999\n",
      "At 9 mean is  -0.13182902383045236 and the SD is  0.04603260537851408\n"
     ]
    }
   ],
   "source": [
    "best_knn =  knn = KNeighborsRegressor(algorithm =\"auto\",p =1,weights = \"distance\")\n",
    "\n",
    "for i in range(2,10):\n",
    "    cross_val_report = cross_val_score(best_knn,X,y,scoring = \"neg_mean_squared_error\",cv = i)\n",
    "    print(\"At\",i,\"mean is \",cross_val_report.mean() ,\"and the SD is \",cross_val_report.std())\n"
   ]
  },
  {
   "cell_type": "markdown",
   "metadata": {},
   "source": [
    "i have checked GridSreach CV on Randomforest and KNN. Using GridSreachCV on randomforest because it was overfit model and though of that by hyperparameter tuning we can save the overfitting but KNN is working robust in this situation.\n",
    "we have seen that cross_val_score at 4 iteration, it isgood other than that. Thus it is the better that other. we will save the same model for future use.  "
   ]
  },
  {
   "cell_type": "markdown",
   "metadata": {},
   "source": [
    "# Modeling saving"
   ]
  },
  {
   "cell_type": "code",
   "execution_count": 55,
   "metadata": {},
   "outputs": [],
   "source": [
    "best_knn.fit(X,y)\n",
    "import pickle\n",
    "filename = \"Avocado.pkl\"\n",
    "with open(filename,\"wb\") as f:\n",
    "    pickle.dump(best_knn,f)\n"
   ]
  },
  {
   "cell_type": "markdown",
   "metadata": {},
   "source": [
    "# **Conclusion**<br>\n",
    "As we already mentioned that dataset had lot of missing value which we handled. Outlier and skewness also get corrected.We have done analysis \n",
    "and check the trend also. i have checked correlation and VIF, it has observed that predictor are correlated thus multicolinerrity was in existance.it ought to be treated and we did that and data was ready for Modeling.<br><br>Dataset has been segrigated into train and test with best random state.<br>Data has been trained on multiple models like linear regression , ensemble methods. support vector machine and KNN, among all the algorithms, KNN has given good test and train accuracy.<br> KNN is picked as final Model and applied Gridsearch CV to find the best parameter to train it further.We got these {'algorithm': 'auto', 'n_neighbors': 5, 'p': 1, 'weights': 'distance'} best parameter, i have used these parameter with cross_val_score and saved model with these parameter.     \n"
   ]
  },
  {
   "cell_type": "code",
   "execution_count": null,
   "metadata": {},
   "outputs": [],
   "source": []
  }
 ],
 "metadata": {
  "colab": {
   "collapsed_sections": [],
   "name": "Avocado Regression.ipynb",
   "provenance": []
  },
  "kernelspec": {
   "display_name": "Python 3 (ipykernel)",
   "language": "python",
   "name": "python3"
  },
  "language_info": {
   "codemirror_mode": {
    "name": "ipython",
    "version": 3
   },
   "file_extension": ".py",
   "mimetype": "text/x-python",
   "name": "python",
   "nbconvert_exporter": "python",
   "pygments_lexer": "ipython3",
   "version": "3.9.12"
  }
 },
 "nbformat": 4,
 "nbformat_minor": 1
}
